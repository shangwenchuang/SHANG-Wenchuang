{
  "nbformat": 4,
  "nbformat_minor": 0,
  "metadata": {
    "colab": {
      "provenance": []
    },
    "kernelspec": {
      "name": "python3",
      "display_name": "Python 3"
    },
    "language_info": {
      "name": "python"
    },
    "widgets": {
      "application/vnd.jupyter.widget-state+json": {
        "cf02ca14d0df4bc482580098197fa173": {
          "model_module": "@jupyter-widgets/controls",
          "model_name": "HBoxModel",
          "model_module_version": "1.5.0",
          "state": {
            "_dom_classes": [],
            "_model_module": "@jupyter-widgets/controls",
            "_model_module_version": "1.5.0",
            "_model_name": "HBoxModel",
            "_view_count": null,
            "_view_module": "@jupyter-widgets/controls",
            "_view_module_version": "1.5.0",
            "_view_name": "HBoxView",
            "box_style": "",
            "children": [
              "IPY_MODEL_bdddca8b084d418280299b567ae77078",
              "IPY_MODEL_28433f7995134351bf5c06c0c2bd04bf",
              "IPY_MODEL_503d5d9683b84b829b9101526a912c50"
            ],
            "layout": "IPY_MODEL_7c147280a08e40a1af55e8e4c9084723"
          }
        },
        "bdddca8b084d418280299b567ae77078": {
          "model_module": "@jupyter-widgets/controls",
          "model_name": "HTMLModel",
          "model_module_version": "1.5.0",
          "state": {
            "_dom_classes": [],
            "_model_module": "@jupyter-widgets/controls",
            "_model_module_version": "1.5.0",
            "_model_name": "HTMLModel",
            "_view_count": null,
            "_view_module": "@jupyter-widgets/controls",
            "_view_module_version": "1.5.0",
            "_view_name": "HTMLView",
            "description": "",
            "description_tooltip": null,
            "layout": "IPY_MODEL_14f5fb6c73b94efd8450fbea7c6b878a",
            "placeholder": "​",
            "style": "IPY_MODEL_14a6da8cc78a4f3db64801b030816c55",
            "value": "model.safetensors: 100%"
          }
        },
        "28433f7995134351bf5c06c0c2bd04bf": {
          "model_module": "@jupyter-widgets/controls",
          "model_name": "FloatProgressModel",
          "model_module_version": "1.5.0",
          "state": {
            "_dom_classes": [],
            "_model_module": "@jupyter-widgets/controls",
            "_model_module_version": "1.5.0",
            "_model_name": "FloatProgressModel",
            "_view_count": null,
            "_view_module": "@jupyter-widgets/controls",
            "_view_module_version": "1.5.0",
            "_view_name": "ProgressView",
            "bar_style": "success",
            "description": "",
            "description_tooltip": null,
            "layout": "IPY_MODEL_fded63a9884549979068b8fe09b4ad55",
            "max": 1629437147,
            "min": 0,
            "orientation": "horizontal",
            "style": "IPY_MODEL_b7bfe087548a4b3ebcd7723a955288e1",
            "value": 1629437147
          }
        },
        "503d5d9683b84b829b9101526a912c50": {
          "model_module": "@jupyter-widgets/controls",
          "model_name": "HTMLModel",
          "model_module_version": "1.5.0",
          "state": {
            "_dom_classes": [],
            "_model_module": "@jupyter-widgets/controls",
            "_model_module_version": "1.5.0",
            "_model_name": "HTMLModel",
            "_view_count": null,
            "_view_module": "@jupyter-widgets/controls",
            "_view_module_version": "1.5.0",
            "_view_name": "HTMLView",
            "description": "",
            "description_tooltip": null,
            "layout": "IPY_MODEL_716818e9e4914185a7f7a555ad541573",
            "placeholder": "​",
            "style": "IPY_MODEL_d2a7f37153664b5cac02587aa21e5460",
            "value": " 1.63G/1.63G [00:24&lt;00:00, 72.8MB/s]"
          }
        },
        "7c147280a08e40a1af55e8e4c9084723": {
          "model_module": "@jupyter-widgets/base",
          "model_name": "LayoutModel",
          "model_module_version": "1.2.0",
          "state": {
            "_model_module": "@jupyter-widgets/base",
            "_model_module_version": "1.2.0",
            "_model_name": "LayoutModel",
            "_view_count": null,
            "_view_module": "@jupyter-widgets/base",
            "_view_module_version": "1.2.0",
            "_view_name": "LayoutView",
            "align_content": null,
            "align_items": null,
            "align_self": null,
            "border": null,
            "bottom": null,
            "display": null,
            "flex": null,
            "flex_flow": null,
            "grid_area": null,
            "grid_auto_columns": null,
            "grid_auto_flow": null,
            "grid_auto_rows": null,
            "grid_column": null,
            "grid_gap": null,
            "grid_row": null,
            "grid_template_areas": null,
            "grid_template_columns": null,
            "grid_template_rows": null,
            "height": null,
            "justify_content": null,
            "justify_items": null,
            "left": null,
            "margin": null,
            "max_height": null,
            "max_width": null,
            "min_height": null,
            "min_width": null,
            "object_fit": null,
            "object_position": null,
            "order": null,
            "overflow": null,
            "overflow_x": null,
            "overflow_y": null,
            "padding": null,
            "right": null,
            "top": null,
            "visibility": null,
            "width": null
          }
        },
        "14f5fb6c73b94efd8450fbea7c6b878a": {
          "model_module": "@jupyter-widgets/base",
          "model_name": "LayoutModel",
          "model_module_version": "1.2.0",
          "state": {
            "_model_module": "@jupyter-widgets/base",
            "_model_module_version": "1.2.0",
            "_model_name": "LayoutModel",
            "_view_count": null,
            "_view_module": "@jupyter-widgets/base",
            "_view_module_version": "1.2.0",
            "_view_name": "LayoutView",
            "align_content": null,
            "align_items": null,
            "align_self": null,
            "border": null,
            "bottom": null,
            "display": null,
            "flex": null,
            "flex_flow": null,
            "grid_area": null,
            "grid_auto_columns": null,
            "grid_auto_flow": null,
            "grid_auto_rows": null,
            "grid_column": null,
            "grid_gap": null,
            "grid_row": null,
            "grid_template_areas": null,
            "grid_template_columns": null,
            "grid_template_rows": null,
            "height": null,
            "justify_content": null,
            "justify_items": null,
            "left": null,
            "margin": null,
            "max_height": null,
            "max_width": null,
            "min_height": null,
            "min_width": null,
            "object_fit": null,
            "object_position": null,
            "order": null,
            "overflow": null,
            "overflow_x": null,
            "overflow_y": null,
            "padding": null,
            "right": null,
            "top": null,
            "visibility": null,
            "width": null
          }
        },
        "14a6da8cc78a4f3db64801b030816c55": {
          "model_module": "@jupyter-widgets/controls",
          "model_name": "DescriptionStyleModel",
          "model_module_version": "1.5.0",
          "state": {
            "_model_module": "@jupyter-widgets/controls",
            "_model_module_version": "1.5.0",
            "_model_name": "DescriptionStyleModel",
            "_view_count": null,
            "_view_module": "@jupyter-widgets/base",
            "_view_module_version": "1.2.0",
            "_view_name": "StyleView",
            "description_width": ""
          }
        },
        "fded63a9884549979068b8fe09b4ad55": {
          "model_module": "@jupyter-widgets/base",
          "model_name": "LayoutModel",
          "model_module_version": "1.2.0",
          "state": {
            "_model_module": "@jupyter-widgets/base",
            "_model_module_version": "1.2.0",
            "_model_name": "LayoutModel",
            "_view_count": null,
            "_view_module": "@jupyter-widgets/base",
            "_view_module_version": "1.2.0",
            "_view_name": "LayoutView",
            "align_content": null,
            "align_items": null,
            "align_self": null,
            "border": null,
            "bottom": null,
            "display": null,
            "flex": null,
            "flex_flow": null,
            "grid_area": null,
            "grid_auto_columns": null,
            "grid_auto_flow": null,
            "grid_auto_rows": null,
            "grid_column": null,
            "grid_gap": null,
            "grid_row": null,
            "grid_template_areas": null,
            "grid_template_columns": null,
            "grid_template_rows": null,
            "height": null,
            "justify_content": null,
            "justify_items": null,
            "left": null,
            "margin": null,
            "max_height": null,
            "max_width": null,
            "min_height": null,
            "min_width": null,
            "object_fit": null,
            "object_position": null,
            "order": null,
            "overflow": null,
            "overflow_x": null,
            "overflow_y": null,
            "padding": null,
            "right": null,
            "top": null,
            "visibility": null,
            "width": null
          }
        },
        "b7bfe087548a4b3ebcd7723a955288e1": {
          "model_module": "@jupyter-widgets/controls",
          "model_name": "ProgressStyleModel",
          "model_module_version": "1.5.0",
          "state": {
            "_model_module": "@jupyter-widgets/controls",
            "_model_module_version": "1.5.0",
            "_model_name": "ProgressStyleModel",
            "_view_count": null,
            "_view_module": "@jupyter-widgets/base",
            "_view_module_version": "1.2.0",
            "_view_name": "StyleView",
            "bar_color": null,
            "description_width": ""
          }
        },
        "716818e9e4914185a7f7a555ad541573": {
          "model_module": "@jupyter-widgets/base",
          "model_name": "LayoutModel",
          "model_module_version": "1.2.0",
          "state": {
            "_model_module": "@jupyter-widgets/base",
            "_model_module_version": "1.2.0",
            "_model_name": "LayoutModel",
            "_view_count": null,
            "_view_module": "@jupyter-widgets/base",
            "_view_module_version": "1.2.0",
            "_view_name": "LayoutView",
            "align_content": null,
            "align_items": null,
            "align_self": null,
            "border": null,
            "bottom": null,
            "display": null,
            "flex": null,
            "flex_flow": null,
            "grid_area": null,
            "grid_auto_columns": null,
            "grid_auto_flow": null,
            "grid_auto_rows": null,
            "grid_column": null,
            "grid_gap": null,
            "grid_row": null,
            "grid_template_areas": null,
            "grid_template_columns": null,
            "grid_template_rows": null,
            "height": null,
            "justify_content": null,
            "justify_items": null,
            "left": null,
            "margin": null,
            "max_height": null,
            "max_width": null,
            "min_height": null,
            "min_width": null,
            "object_fit": null,
            "object_position": null,
            "order": null,
            "overflow": null,
            "overflow_x": null,
            "overflow_y": null,
            "padding": null,
            "right": null,
            "top": null,
            "visibility": null,
            "width": null
          }
        },
        "d2a7f37153664b5cac02587aa21e5460": {
          "model_module": "@jupyter-widgets/controls",
          "model_name": "DescriptionStyleModel",
          "model_module_version": "1.5.0",
          "state": {
            "_model_module": "@jupyter-widgets/controls",
            "_model_module_version": "1.5.0",
            "_model_name": "DescriptionStyleModel",
            "_view_count": null,
            "_view_module": "@jupyter-widgets/base",
            "_view_module_version": "1.2.0",
            "_view_name": "StyleView",
            "description_width": ""
          }
        },
        "15620bd198f943889d53d0fff973f37e": {
          "model_module": "@jupyter-widgets/controls",
          "model_name": "HBoxModel",
          "model_module_version": "1.5.0",
          "state": {
            "_dom_classes": [],
            "_model_module": "@jupyter-widgets/controls",
            "_model_module_version": "1.5.0",
            "_model_name": "HBoxModel",
            "_view_count": null,
            "_view_module": "@jupyter-widgets/controls",
            "_view_module_version": "1.5.0",
            "_view_name": "HBoxView",
            "box_style": "",
            "children": [
              "IPY_MODEL_081dc2f10fd3429c87359188899e7030",
              "IPY_MODEL_94f31300e5654d3a99ecc259eaff9080",
              "IPY_MODEL_269035f014a94f868d306fa9351a94e2"
            ],
            "layout": "IPY_MODEL_4f9098f3b8564be4b38f272c820a1635"
          }
        },
        "081dc2f10fd3429c87359188899e7030": {
          "model_module": "@jupyter-widgets/controls",
          "model_name": "HTMLModel",
          "model_module_version": "1.5.0",
          "state": {
            "_dom_classes": [],
            "_model_module": "@jupyter-widgets/controls",
            "_model_module_version": "1.5.0",
            "_model_name": "HTMLModel",
            "_view_count": null,
            "_view_module": "@jupyter-widgets/controls",
            "_view_module_version": "1.5.0",
            "_view_name": "HTMLView",
            "description": "",
            "description_tooltip": null,
            "layout": "IPY_MODEL_c884dfd5346d4efca0102caf4f271a3d",
            "placeholder": "​",
            "style": "IPY_MODEL_94d073fb81ea46b5bbbe9843b54a2329",
            "value": "tokenizer_config.json: 100%"
          }
        },
        "94f31300e5654d3a99ecc259eaff9080": {
          "model_module": "@jupyter-widgets/controls",
          "model_name": "FloatProgressModel",
          "model_module_version": "1.5.0",
          "state": {
            "_dom_classes": [],
            "_model_module": "@jupyter-widgets/controls",
            "_model_module_version": "1.5.0",
            "_model_name": "FloatProgressModel",
            "_view_count": null,
            "_view_module": "@jupyter-widgets/controls",
            "_view_module_version": "1.5.0",
            "_view_name": "ProgressView",
            "bar_style": "success",
            "description": "",
            "description_tooltip": null,
            "layout": "IPY_MODEL_5ad9894686b04bc19b81a7c0b91e5f04",
            "max": 26,
            "min": 0,
            "orientation": "horizontal",
            "style": "IPY_MODEL_4428fd689f6348019791c24e43394b4f",
            "value": 26
          }
        },
        "269035f014a94f868d306fa9351a94e2": {
          "model_module": "@jupyter-widgets/controls",
          "model_name": "HTMLModel",
          "model_module_version": "1.5.0",
          "state": {
            "_dom_classes": [],
            "_model_module": "@jupyter-widgets/controls",
            "_model_module_version": "1.5.0",
            "_model_name": "HTMLModel",
            "_view_count": null,
            "_view_module": "@jupyter-widgets/controls",
            "_view_module_version": "1.5.0",
            "_view_name": "HTMLView",
            "description": "",
            "description_tooltip": null,
            "layout": "IPY_MODEL_610167ddeda7407fa8ec052e2f8b6805",
            "placeholder": "​",
            "style": "IPY_MODEL_f3e5bdbfd171414588ea55342f842f82",
            "value": " 26.0/26.0 [00:00&lt;00:00, 1.21kB/s]"
          }
        },
        "4f9098f3b8564be4b38f272c820a1635": {
          "model_module": "@jupyter-widgets/base",
          "model_name": "LayoutModel",
          "model_module_version": "1.2.0",
          "state": {
            "_model_module": "@jupyter-widgets/base",
            "_model_module_version": "1.2.0",
            "_model_name": "LayoutModel",
            "_view_count": null,
            "_view_module": "@jupyter-widgets/base",
            "_view_module_version": "1.2.0",
            "_view_name": "LayoutView",
            "align_content": null,
            "align_items": null,
            "align_self": null,
            "border": null,
            "bottom": null,
            "display": null,
            "flex": null,
            "flex_flow": null,
            "grid_area": null,
            "grid_auto_columns": null,
            "grid_auto_flow": null,
            "grid_auto_rows": null,
            "grid_column": null,
            "grid_gap": null,
            "grid_row": null,
            "grid_template_areas": null,
            "grid_template_columns": null,
            "grid_template_rows": null,
            "height": null,
            "justify_content": null,
            "justify_items": null,
            "left": null,
            "margin": null,
            "max_height": null,
            "max_width": null,
            "min_height": null,
            "min_width": null,
            "object_fit": null,
            "object_position": null,
            "order": null,
            "overflow": null,
            "overflow_x": null,
            "overflow_y": null,
            "padding": null,
            "right": null,
            "top": null,
            "visibility": null,
            "width": null
          }
        },
        "c884dfd5346d4efca0102caf4f271a3d": {
          "model_module": "@jupyter-widgets/base",
          "model_name": "LayoutModel",
          "model_module_version": "1.2.0",
          "state": {
            "_model_module": "@jupyter-widgets/base",
            "_model_module_version": "1.2.0",
            "_model_name": "LayoutModel",
            "_view_count": null,
            "_view_module": "@jupyter-widgets/base",
            "_view_module_version": "1.2.0",
            "_view_name": "LayoutView",
            "align_content": null,
            "align_items": null,
            "align_self": null,
            "border": null,
            "bottom": null,
            "display": null,
            "flex": null,
            "flex_flow": null,
            "grid_area": null,
            "grid_auto_columns": null,
            "grid_auto_flow": null,
            "grid_auto_rows": null,
            "grid_column": null,
            "grid_gap": null,
            "grid_row": null,
            "grid_template_areas": null,
            "grid_template_columns": null,
            "grid_template_rows": null,
            "height": null,
            "justify_content": null,
            "justify_items": null,
            "left": null,
            "margin": null,
            "max_height": null,
            "max_width": null,
            "min_height": null,
            "min_width": null,
            "object_fit": null,
            "object_position": null,
            "order": null,
            "overflow": null,
            "overflow_x": null,
            "overflow_y": null,
            "padding": null,
            "right": null,
            "top": null,
            "visibility": null,
            "width": null
          }
        },
        "94d073fb81ea46b5bbbe9843b54a2329": {
          "model_module": "@jupyter-widgets/controls",
          "model_name": "DescriptionStyleModel",
          "model_module_version": "1.5.0",
          "state": {
            "_model_module": "@jupyter-widgets/controls",
            "_model_module_version": "1.5.0",
            "_model_name": "DescriptionStyleModel",
            "_view_count": null,
            "_view_module": "@jupyter-widgets/base",
            "_view_module_version": "1.2.0",
            "_view_name": "StyleView",
            "description_width": ""
          }
        },
        "5ad9894686b04bc19b81a7c0b91e5f04": {
          "model_module": "@jupyter-widgets/base",
          "model_name": "LayoutModel",
          "model_module_version": "1.2.0",
          "state": {
            "_model_module": "@jupyter-widgets/base",
            "_model_module_version": "1.2.0",
            "_model_name": "LayoutModel",
            "_view_count": null,
            "_view_module": "@jupyter-widgets/base",
            "_view_module_version": "1.2.0",
            "_view_name": "LayoutView",
            "align_content": null,
            "align_items": null,
            "align_self": null,
            "border": null,
            "bottom": null,
            "display": null,
            "flex": null,
            "flex_flow": null,
            "grid_area": null,
            "grid_auto_columns": null,
            "grid_auto_flow": null,
            "grid_auto_rows": null,
            "grid_column": null,
            "grid_gap": null,
            "grid_row": null,
            "grid_template_areas": null,
            "grid_template_columns": null,
            "grid_template_rows": null,
            "height": null,
            "justify_content": null,
            "justify_items": null,
            "left": null,
            "margin": null,
            "max_height": null,
            "max_width": null,
            "min_height": null,
            "min_width": null,
            "object_fit": null,
            "object_position": null,
            "order": null,
            "overflow": null,
            "overflow_x": null,
            "overflow_y": null,
            "padding": null,
            "right": null,
            "top": null,
            "visibility": null,
            "width": null
          }
        },
        "4428fd689f6348019791c24e43394b4f": {
          "model_module": "@jupyter-widgets/controls",
          "model_name": "ProgressStyleModel",
          "model_module_version": "1.5.0",
          "state": {
            "_model_module": "@jupyter-widgets/controls",
            "_model_module_version": "1.5.0",
            "_model_name": "ProgressStyleModel",
            "_view_count": null,
            "_view_module": "@jupyter-widgets/base",
            "_view_module_version": "1.2.0",
            "_view_name": "StyleView",
            "bar_color": null,
            "description_width": ""
          }
        },
        "610167ddeda7407fa8ec052e2f8b6805": {
          "model_module": "@jupyter-widgets/base",
          "model_name": "LayoutModel",
          "model_module_version": "1.2.0",
          "state": {
            "_model_module": "@jupyter-widgets/base",
            "_model_module_version": "1.2.0",
            "_model_name": "LayoutModel",
            "_view_count": null,
            "_view_module": "@jupyter-widgets/base",
            "_view_module_version": "1.2.0",
            "_view_name": "LayoutView",
            "align_content": null,
            "align_items": null,
            "align_self": null,
            "border": null,
            "bottom": null,
            "display": null,
            "flex": null,
            "flex_flow": null,
            "grid_area": null,
            "grid_auto_columns": null,
            "grid_auto_flow": null,
            "grid_auto_rows": null,
            "grid_column": null,
            "grid_gap": null,
            "grid_row": null,
            "grid_template_areas": null,
            "grid_template_columns": null,
            "grid_template_rows": null,
            "height": null,
            "justify_content": null,
            "justify_items": null,
            "left": null,
            "margin": null,
            "max_height": null,
            "max_width": null,
            "min_height": null,
            "min_width": null,
            "object_fit": null,
            "object_position": null,
            "order": null,
            "overflow": null,
            "overflow_x": null,
            "overflow_y": null,
            "padding": null,
            "right": null,
            "top": null,
            "visibility": null,
            "width": null
          }
        },
        "f3e5bdbfd171414588ea55342f842f82": {
          "model_module": "@jupyter-widgets/controls",
          "model_name": "DescriptionStyleModel",
          "model_module_version": "1.5.0",
          "state": {
            "_model_module": "@jupyter-widgets/controls",
            "_model_module_version": "1.5.0",
            "_model_name": "DescriptionStyleModel",
            "_view_count": null,
            "_view_module": "@jupyter-widgets/base",
            "_view_module_version": "1.2.0",
            "_view_name": "StyleView",
            "description_width": ""
          }
        },
        "8b6b3d02b10f41f9a155be7ecd923f93": {
          "model_module": "@jupyter-widgets/controls",
          "model_name": "HBoxModel",
          "model_module_version": "1.5.0",
          "state": {
            "_dom_classes": [],
            "_model_module": "@jupyter-widgets/controls",
            "_model_module_version": "1.5.0",
            "_model_name": "HBoxModel",
            "_view_count": null,
            "_view_module": "@jupyter-widgets/controls",
            "_view_module_version": "1.5.0",
            "_view_name": "HBoxView",
            "box_style": "",
            "children": [
              "IPY_MODEL_34deba83afb14aabb10f09dd933c356b",
              "IPY_MODEL_398bad5853a24ecb9db8eb0fb615f3ef",
              "IPY_MODEL_33d2c50b8a864447b9b27142384a3ccf"
            ],
            "layout": "IPY_MODEL_2139eb65173a4af2aa35f8866e5ee5bb"
          }
        },
        "34deba83afb14aabb10f09dd933c356b": {
          "model_module": "@jupyter-widgets/controls",
          "model_name": "HTMLModel",
          "model_module_version": "1.5.0",
          "state": {
            "_dom_classes": [],
            "_model_module": "@jupyter-widgets/controls",
            "_model_module_version": "1.5.0",
            "_model_name": "HTMLModel",
            "_view_count": null,
            "_view_module": "@jupyter-widgets/controls",
            "_view_module_version": "1.5.0",
            "_view_name": "HTMLView",
            "description": "",
            "description_tooltip": null,
            "layout": "IPY_MODEL_94adf10d83a448699023319bc9fd41c4",
            "placeholder": "​",
            "style": "IPY_MODEL_26d360d2fcb2441790ae4ee5209e97c4",
            "value": "vocab.json: 100%"
          }
        },
        "398bad5853a24ecb9db8eb0fb615f3ef": {
          "model_module": "@jupyter-widgets/controls",
          "model_name": "FloatProgressModel",
          "model_module_version": "1.5.0",
          "state": {
            "_dom_classes": [],
            "_model_module": "@jupyter-widgets/controls",
            "_model_module_version": "1.5.0",
            "_model_name": "FloatProgressModel",
            "_view_count": null,
            "_view_module": "@jupyter-widgets/controls",
            "_view_module_version": "1.5.0",
            "_view_name": "ProgressView",
            "bar_style": "success",
            "description": "",
            "description_tooltip": null,
            "layout": "IPY_MODEL_7971a876aa0e4773a97f52fc1f38365b",
            "max": 898822,
            "min": 0,
            "orientation": "horizontal",
            "style": "IPY_MODEL_4b63c643461e43da9d2a87dc64d9ec1f",
            "value": 898822
          }
        },
        "33d2c50b8a864447b9b27142384a3ccf": {
          "model_module": "@jupyter-widgets/controls",
          "model_name": "HTMLModel",
          "model_module_version": "1.5.0",
          "state": {
            "_dom_classes": [],
            "_model_module": "@jupyter-widgets/controls",
            "_model_module_version": "1.5.0",
            "_model_name": "HTMLModel",
            "_view_count": null,
            "_view_module": "@jupyter-widgets/controls",
            "_view_module_version": "1.5.0",
            "_view_name": "HTMLView",
            "description": "",
            "description_tooltip": null,
            "layout": "IPY_MODEL_b9ac775737ef48e4a36119e0c6a779e0",
            "placeholder": "​",
            "style": "IPY_MODEL_8b335e0f2f3d45b4b9556239daddc150",
            "value": " 899k/899k [00:00&lt;00:00, 6.64MB/s]"
          }
        },
        "2139eb65173a4af2aa35f8866e5ee5bb": {
          "model_module": "@jupyter-widgets/base",
          "model_name": "LayoutModel",
          "model_module_version": "1.2.0",
          "state": {
            "_model_module": "@jupyter-widgets/base",
            "_model_module_version": "1.2.0",
            "_model_name": "LayoutModel",
            "_view_count": null,
            "_view_module": "@jupyter-widgets/base",
            "_view_module_version": "1.2.0",
            "_view_name": "LayoutView",
            "align_content": null,
            "align_items": null,
            "align_self": null,
            "border": null,
            "bottom": null,
            "display": null,
            "flex": null,
            "flex_flow": null,
            "grid_area": null,
            "grid_auto_columns": null,
            "grid_auto_flow": null,
            "grid_auto_rows": null,
            "grid_column": null,
            "grid_gap": null,
            "grid_row": null,
            "grid_template_areas": null,
            "grid_template_columns": null,
            "grid_template_rows": null,
            "height": null,
            "justify_content": null,
            "justify_items": null,
            "left": null,
            "margin": null,
            "max_height": null,
            "max_width": null,
            "min_height": null,
            "min_width": null,
            "object_fit": null,
            "object_position": null,
            "order": null,
            "overflow": null,
            "overflow_x": null,
            "overflow_y": null,
            "padding": null,
            "right": null,
            "top": null,
            "visibility": null,
            "width": null
          }
        },
        "94adf10d83a448699023319bc9fd41c4": {
          "model_module": "@jupyter-widgets/base",
          "model_name": "LayoutModel",
          "model_module_version": "1.2.0",
          "state": {
            "_model_module": "@jupyter-widgets/base",
            "_model_module_version": "1.2.0",
            "_model_name": "LayoutModel",
            "_view_count": null,
            "_view_module": "@jupyter-widgets/base",
            "_view_module_version": "1.2.0",
            "_view_name": "LayoutView",
            "align_content": null,
            "align_items": null,
            "align_self": null,
            "border": null,
            "bottom": null,
            "display": null,
            "flex": null,
            "flex_flow": null,
            "grid_area": null,
            "grid_auto_columns": null,
            "grid_auto_flow": null,
            "grid_auto_rows": null,
            "grid_column": null,
            "grid_gap": null,
            "grid_row": null,
            "grid_template_areas": null,
            "grid_template_columns": null,
            "grid_template_rows": null,
            "height": null,
            "justify_content": null,
            "justify_items": null,
            "left": null,
            "margin": null,
            "max_height": null,
            "max_width": null,
            "min_height": null,
            "min_width": null,
            "object_fit": null,
            "object_position": null,
            "order": null,
            "overflow": null,
            "overflow_x": null,
            "overflow_y": null,
            "padding": null,
            "right": null,
            "top": null,
            "visibility": null,
            "width": null
          }
        },
        "26d360d2fcb2441790ae4ee5209e97c4": {
          "model_module": "@jupyter-widgets/controls",
          "model_name": "DescriptionStyleModel",
          "model_module_version": "1.5.0",
          "state": {
            "_model_module": "@jupyter-widgets/controls",
            "_model_module_version": "1.5.0",
            "_model_name": "DescriptionStyleModel",
            "_view_count": null,
            "_view_module": "@jupyter-widgets/base",
            "_view_module_version": "1.2.0",
            "_view_name": "StyleView",
            "description_width": ""
          }
        },
        "7971a876aa0e4773a97f52fc1f38365b": {
          "model_module": "@jupyter-widgets/base",
          "model_name": "LayoutModel",
          "model_module_version": "1.2.0",
          "state": {
            "_model_module": "@jupyter-widgets/base",
            "_model_module_version": "1.2.0",
            "_model_name": "LayoutModel",
            "_view_count": null,
            "_view_module": "@jupyter-widgets/base",
            "_view_module_version": "1.2.0",
            "_view_name": "LayoutView",
            "align_content": null,
            "align_items": null,
            "align_self": null,
            "border": null,
            "bottom": null,
            "display": null,
            "flex": null,
            "flex_flow": null,
            "grid_area": null,
            "grid_auto_columns": null,
            "grid_auto_flow": null,
            "grid_auto_rows": null,
            "grid_column": null,
            "grid_gap": null,
            "grid_row": null,
            "grid_template_areas": null,
            "grid_template_columns": null,
            "grid_template_rows": null,
            "height": null,
            "justify_content": null,
            "justify_items": null,
            "left": null,
            "margin": null,
            "max_height": null,
            "max_width": null,
            "min_height": null,
            "min_width": null,
            "object_fit": null,
            "object_position": null,
            "order": null,
            "overflow": null,
            "overflow_x": null,
            "overflow_y": null,
            "padding": null,
            "right": null,
            "top": null,
            "visibility": null,
            "width": null
          }
        },
        "4b63c643461e43da9d2a87dc64d9ec1f": {
          "model_module": "@jupyter-widgets/controls",
          "model_name": "ProgressStyleModel",
          "model_module_version": "1.5.0",
          "state": {
            "_model_module": "@jupyter-widgets/controls",
            "_model_module_version": "1.5.0",
            "_model_name": "ProgressStyleModel",
            "_view_count": null,
            "_view_module": "@jupyter-widgets/base",
            "_view_module_version": "1.2.0",
            "_view_name": "StyleView",
            "bar_color": null,
            "description_width": ""
          }
        },
        "b9ac775737ef48e4a36119e0c6a779e0": {
          "model_module": "@jupyter-widgets/base",
          "model_name": "LayoutModel",
          "model_module_version": "1.2.0",
          "state": {
            "_model_module": "@jupyter-widgets/base",
            "_model_module_version": "1.2.0",
            "_model_name": "LayoutModel",
            "_view_count": null,
            "_view_module": "@jupyter-widgets/base",
            "_view_module_version": "1.2.0",
            "_view_name": "LayoutView",
            "align_content": null,
            "align_items": null,
            "align_self": null,
            "border": null,
            "bottom": null,
            "display": null,
            "flex": null,
            "flex_flow": null,
            "grid_area": null,
            "grid_auto_columns": null,
            "grid_auto_flow": null,
            "grid_auto_rows": null,
            "grid_column": null,
            "grid_gap": null,
            "grid_row": null,
            "grid_template_areas": null,
            "grid_template_columns": null,
            "grid_template_rows": null,
            "height": null,
            "justify_content": null,
            "justify_items": null,
            "left": null,
            "margin": null,
            "max_height": null,
            "max_width": null,
            "min_height": null,
            "min_width": null,
            "object_fit": null,
            "object_position": null,
            "order": null,
            "overflow": null,
            "overflow_x": null,
            "overflow_y": null,
            "padding": null,
            "right": null,
            "top": null,
            "visibility": null,
            "width": null
          }
        },
        "8b335e0f2f3d45b4b9556239daddc150": {
          "model_module": "@jupyter-widgets/controls",
          "model_name": "DescriptionStyleModel",
          "model_module_version": "1.5.0",
          "state": {
            "_model_module": "@jupyter-widgets/controls",
            "_model_module_version": "1.5.0",
            "_model_name": "DescriptionStyleModel",
            "_view_count": null,
            "_view_module": "@jupyter-widgets/base",
            "_view_module_version": "1.2.0",
            "_view_name": "StyleView",
            "description_width": ""
          }
        },
        "caa52c2890da48f2b99044b77b23435e": {
          "model_module": "@jupyter-widgets/controls",
          "model_name": "HBoxModel",
          "model_module_version": "1.5.0",
          "state": {
            "_dom_classes": [],
            "_model_module": "@jupyter-widgets/controls",
            "_model_module_version": "1.5.0",
            "_model_name": "HBoxModel",
            "_view_count": null,
            "_view_module": "@jupyter-widgets/controls",
            "_view_module_version": "1.5.0",
            "_view_name": "HBoxView",
            "box_style": "",
            "children": [
              "IPY_MODEL_d21ba79be47c4afbb18d672b57887a3d",
              "IPY_MODEL_98b40f9f0a4b44e5845d683b8e134537",
              "IPY_MODEL_45756b3f25914dedbea08a9a33ec4827"
            ],
            "layout": "IPY_MODEL_7568bd28c9f54bf283f10500971c3e60"
          }
        },
        "d21ba79be47c4afbb18d672b57887a3d": {
          "model_module": "@jupyter-widgets/controls",
          "model_name": "HTMLModel",
          "model_module_version": "1.5.0",
          "state": {
            "_dom_classes": [],
            "_model_module": "@jupyter-widgets/controls",
            "_model_module_version": "1.5.0",
            "_model_name": "HTMLModel",
            "_view_count": null,
            "_view_module": "@jupyter-widgets/controls",
            "_view_module_version": "1.5.0",
            "_view_name": "HTMLView",
            "description": "",
            "description_tooltip": null,
            "layout": "IPY_MODEL_e162f8ebc9174268a65932c5295b35c7",
            "placeholder": "​",
            "style": "IPY_MODEL_dfcebcedfa964955bbec520a5f5ff463",
            "value": "merges.txt: 100%"
          }
        },
        "98b40f9f0a4b44e5845d683b8e134537": {
          "model_module": "@jupyter-widgets/controls",
          "model_name": "FloatProgressModel",
          "model_module_version": "1.5.0",
          "state": {
            "_dom_classes": [],
            "_model_module": "@jupyter-widgets/controls",
            "_model_module_version": "1.5.0",
            "_model_name": "FloatProgressModel",
            "_view_count": null,
            "_view_module": "@jupyter-widgets/controls",
            "_view_module_version": "1.5.0",
            "_view_name": "ProgressView",
            "bar_style": "success",
            "description": "",
            "description_tooltip": null,
            "layout": "IPY_MODEL_5243843214cc4af78e9faed0e10d6773",
            "max": 456318,
            "min": 0,
            "orientation": "horizontal",
            "style": "IPY_MODEL_54c2bae349754efd8946f0cc029f2469",
            "value": 456318
          }
        },
        "45756b3f25914dedbea08a9a33ec4827": {
          "model_module": "@jupyter-widgets/controls",
          "model_name": "HTMLModel",
          "model_module_version": "1.5.0",
          "state": {
            "_dom_classes": [],
            "_model_module": "@jupyter-widgets/controls",
            "_model_module_version": "1.5.0",
            "_model_name": "HTMLModel",
            "_view_count": null,
            "_view_module": "@jupyter-widgets/controls",
            "_view_module_version": "1.5.0",
            "_view_name": "HTMLView",
            "description": "",
            "description_tooltip": null,
            "layout": "IPY_MODEL_13bb9b1eb8fd40918d5ca4da7de8b375",
            "placeholder": "​",
            "style": "IPY_MODEL_b18821d791e34d92a04e80e5cf419960",
            "value": " 456k/456k [00:00&lt;00:00, 12.2MB/s]"
          }
        },
        "7568bd28c9f54bf283f10500971c3e60": {
          "model_module": "@jupyter-widgets/base",
          "model_name": "LayoutModel",
          "model_module_version": "1.2.0",
          "state": {
            "_model_module": "@jupyter-widgets/base",
            "_model_module_version": "1.2.0",
            "_model_name": "LayoutModel",
            "_view_count": null,
            "_view_module": "@jupyter-widgets/base",
            "_view_module_version": "1.2.0",
            "_view_name": "LayoutView",
            "align_content": null,
            "align_items": null,
            "align_self": null,
            "border": null,
            "bottom": null,
            "display": null,
            "flex": null,
            "flex_flow": null,
            "grid_area": null,
            "grid_auto_columns": null,
            "grid_auto_flow": null,
            "grid_auto_rows": null,
            "grid_column": null,
            "grid_gap": null,
            "grid_row": null,
            "grid_template_areas": null,
            "grid_template_columns": null,
            "grid_template_rows": null,
            "height": null,
            "justify_content": null,
            "justify_items": null,
            "left": null,
            "margin": null,
            "max_height": null,
            "max_width": null,
            "min_height": null,
            "min_width": null,
            "object_fit": null,
            "object_position": null,
            "order": null,
            "overflow": null,
            "overflow_x": null,
            "overflow_y": null,
            "padding": null,
            "right": null,
            "top": null,
            "visibility": null,
            "width": null
          }
        },
        "e162f8ebc9174268a65932c5295b35c7": {
          "model_module": "@jupyter-widgets/base",
          "model_name": "LayoutModel",
          "model_module_version": "1.2.0",
          "state": {
            "_model_module": "@jupyter-widgets/base",
            "_model_module_version": "1.2.0",
            "_model_name": "LayoutModel",
            "_view_count": null,
            "_view_module": "@jupyter-widgets/base",
            "_view_module_version": "1.2.0",
            "_view_name": "LayoutView",
            "align_content": null,
            "align_items": null,
            "align_self": null,
            "border": null,
            "bottom": null,
            "display": null,
            "flex": null,
            "flex_flow": null,
            "grid_area": null,
            "grid_auto_columns": null,
            "grid_auto_flow": null,
            "grid_auto_rows": null,
            "grid_column": null,
            "grid_gap": null,
            "grid_row": null,
            "grid_template_areas": null,
            "grid_template_columns": null,
            "grid_template_rows": null,
            "height": null,
            "justify_content": null,
            "justify_items": null,
            "left": null,
            "margin": null,
            "max_height": null,
            "max_width": null,
            "min_height": null,
            "min_width": null,
            "object_fit": null,
            "object_position": null,
            "order": null,
            "overflow": null,
            "overflow_x": null,
            "overflow_y": null,
            "padding": null,
            "right": null,
            "top": null,
            "visibility": null,
            "width": null
          }
        },
        "dfcebcedfa964955bbec520a5f5ff463": {
          "model_module": "@jupyter-widgets/controls",
          "model_name": "DescriptionStyleModel",
          "model_module_version": "1.5.0",
          "state": {
            "_model_module": "@jupyter-widgets/controls",
            "_model_module_version": "1.5.0",
            "_model_name": "DescriptionStyleModel",
            "_view_count": null,
            "_view_module": "@jupyter-widgets/base",
            "_view_module_version": "1.2.0",
            "_view_name": "StyleView",
            "description_width": ""
          }
        },
        "5243843214cc4af78e9faed0e10d6773": {
          "model_module": "@jupyter-widgets/base",
          "model_name": "LayoutModel",
          "model_module_version": "1.2.0",
          "state": {
            "_model_module": "@jupyter-widgets/base",
            "_model_module_version": "1.2.0",
            "_model_name": "LayoutModel",
            "_view_count": null,
            "_view_module": "@jupyter-widgets/base",
            "_view_module_version": "1.2.0",
            "_view_name": "LayoutView",
            "align_content": null,
            "align_items": null,
            "align_self": null,
            "border": null,
            "bottom": null,
            "display": null,
            "flex": null,
            "flex_flow": null,
            "grid_area": null,
            "grid_auto_columns": null,
            "grid_auto_flow": null,
            "grid_auto_rows": null,
            "grid_column": null,
            "grid_gap": null,
            "grid_row": null,
            "grid_template_areas": null,
            "grid_template_columns": null,
            "grid_template_rows": null,
            "height": null,
            "justify_content": null,
            "justify_items": null,
            "left": null,
            "margin": null,
            "max_height": null,
            "max_width": null,
            "min_height": null,
            "min_width": null,
            "object_fit": null,
            "object_position": null,
            "order": null,
            "overflow": null,
            "overflow_x": null,
            "overflow_y": null,
            "padding": null,
            "right": null,
            "top": null,
            "visibility": null,
            "width": null
          }
        },
        "54c2bae349754efd8946f0cc029f2469": {
          "model_module": "@jupyter-widgets/controls",
          "model_name": "ProgressStyleModel",
          "model_module_version": "1.5.0",
          "state": {
            "_model_module": "@jupyter-widgets/controls",
            "_model_module_version": "1.5.0",
            "_model_name": "ProgressStyleModel",
            "_view_count": null,
            "_view_module": "@jupyter-widgets/base",
            "_view_module_version": "1.2.0",
            "_view_name": "StyleView",
            "bar_color": null,
            "description_width": ""
          }
        },
        "13bb9b1eb8fd40918d5ca4da7de8b375": {
          "model_module": "@jupyter-widgets/base",
          "model_name": "LayoutModel",
          "model_module_version": "1.2.0",
          "state": {
            "_model_module": "@jupyter-widgets/base",
            "_model_module_version": "1.2.0",
            "_model_name": "LayoutModel",
            "_view_count": null,
            "_view_module": "@jupyter-widgets/base",
            "_view_module_version": "1.2.0",
            "_view_name": "LayoutView",
            "align_content": null,
            "align_items": null,
            "align_self": null,
            "border": null,
            "bottom": null,
            "display": null,
            "flex": null,
            "flex_flow": null,
            "grid_area": null,
            "grid_auto_columns": null,
            "grid_auto_flow": null,
            "grid_auto_rows": null,
            "grid_column": null,
            "grid_gap": null,
            "grid_row": null,
            "grid_template_areas": null,
            "grid_template_columns": null,
            "grid_template_rows": null,
            "height": null,
            "justify_content": null,
            "justify_items": null,
            "left": null,
            "margin": null,
            "max_height": null,
            "max_width": null,
            "min_height": null,
            "min_width": null,
            "object_fit": null,
            "object_position": null,
            "order": null,
            "overflow": null,
            "overflow_x": null,
            "overflow_y": null,
            "padding": null,
            "right": null,
            "top": null,
            "visibility": null,
            "width": null
          }
        },
        "b18821d791e34d92a04e80e5cf419960": {
          "model_module": "@jupyter-widgets/controls",
          "model_name": "DescriptionStyleModel",
          "model_module_version": "1.5.0",
          "state": {
            "_model_module": "@jupyter-widgets/controls",
            "_model_module_version": "1.5.0",
            "_model_name": "DescriptionStyleModel",
            "_view_count": null,
            "_view_module": "@jupyter-widgets/base",
            "_view_module_version": "1.2.0",
            "_view_name": "StyleView",
            "description_width": ""
          }
        },
        "22a33ddfb1ee4db38a9d98961ed1c289": {
          "model_module": "@jupyter-widgets/controls",
          "model_name": "HBoxModel",
          "model_module_version": "1.5.0",
          "state": {
            "_dom_classes": [],
            "_model_module": "@jupyter-widgets/controls",
            "_model_module_version": "1.5.0",
            "_model_name": "HBoxModel",
            "_view_count": null,
            "_view_module": "@jupyter-widgets/controls",
            "_view_module_version": "1.5.0",
            "_view_name": "HBoxView",
            "box_style": "",
            "children": [
              "IPY_MODEL_d0dd7c059c094c8c851815207f57baec",
              "IPY_MODEL_a630cb70909a4a6b8e3ae4119969a24f",
              "IPY_MODEL_ac532bc216954911b80ae30d53c3e6d6"
            ],
            "layout": "IPY_MODEL_89a3454e64304af4903ab4f52a206de0"
          }
        },
        "d0dd7c059c094c8c851815207f57baec": {
          "model_module": "@jupyter-widgets/controls",
          "model_name": "HTMLModel",
          "model_module_version": "1.5.0",
          "state": {
            "_dom_classes": [],
            "_model_module": "@jupyter-widgets/controls",
            "_model_module_version": "1.5.0",
            "_model_name": "HTMLModel",
            "_view_count": null,
            "_view_module": "@jupyter-widgets/controls",
            "_view_module_version": "1.5.0",
            "_view_name": "HTMLView",
            "description": "",
            "description_tooltip": null,
            "layout": "IPY_MODEL_7457a1a8df594f12a15dbc0422534131",
            "placeholder": "​",
            "style": "IPY_MODEL_979c59abcb354c2ca4d0132fcaf7b7ac",
            "value": "tokenizer.json: 100%"
          }
        },
        "a630cb70909a4a6b8e3ae4119969a24f": {
          "model_module": "@jupyter-widgets/controls",
          "model_name": "FloatProgressModel",
          "model_module_version": "1.5.0",
          "state": {
            "_dom_classes": [],
            "_model_module": "@jupyter-widgets/controls",
            "_model_module_version": "1.5.0",
            "_model_name": "FloatProgressModel",
            "_view_count": null,
            "_view_module": "@jupyter-widgets/controls",
            "_view_module_version": "1.5.0",
            "_view_name": "ProgressView",
            "bar_style": "success",
            "description": "",
            "description_tooltip": null,
            "layout": "IPY_MODEL_713dc57a869c4fc0966524b35c2d03bf",
            "max": 1355863,
            "min": 0,
            "orientation": "horizontal",
            "style": "IPY_MODEL_ff1c7fb3d73d4b9598132ad570cc670c",
            "value": 1355863
          }
        },
        "ac532bc216954911b80ae30d53c3e6d6": {
          "model_module": "@jupyter-widgets/controls",
          "model_name": "HTMLModel",
          "model_module_version": "1.5.0",
          "state": {
            "_dom_classes": [],
            "_model_module": "@jupyter-widgets/controls",
            "_model_module_version": "1.5.0",
            "_model_name": "HTMLModel",
            "_view_count": null,
            "_view_module": "@jupyter-widgets/controls",
            "_view_module_version": "1.5.0",
            "_view_name": "HTMLView",
            "description": "",
            "description_tooltip": null,
            "layout": "IPY_MODEL_29e0d04521a54fdb918dcdc937a03ceb",
            "placeholder": "​",
            "style": "IPY_MODEL_46be7ccc31974302ae81c7e687d60833",
            "value": " 1.36M/1.36M [00:00&lt;00:00, 18.1MB/s]"
          }
        },
        "89a3454e64304af4903ab4f52a206de0": {
          "model_module": "@jupyter-widgets/base",
          "model_name": "LayoutModel",
          "model_module_version": "1.2.0",
          "state": {
            "_model_module": "@jupyter-widgets/base",
            "_model_module_version": "1.2.0",
            "_model_name": "LayoutModel",
            "_view_count": null,
            "_view_module": "@jupyter-widgets/base",
            "_view_module_version": "1.2.0",
            "_view_name": "LayoutView",
            "align_content": null,
            "align_items": null,
            "align_self": null,
            "border": null,
            "bottom": null,
            "display": null,
            "flex": null,
            "flex_flow": null,
            "grid_area": null,
            "grid_auto_columns": null,
            "grid_auto_flow": null,
            "grid_auto_rows": null,
            "grid_column": null,
            "grid_gap": null,
            "grid_row": null,
            "grid_template_areas": null,
            "grid_template_columns": null,
            "grid_template_rows": null,
            "height": null,
            "justify_content": null,
            "justify_items": null,
            "left": null,
            "margin": null,
            "max_height": null,
            "max_width": null,
            "min_height": null,
            "min_width": null,
            "object_fit": null,
            "object_position": null,
            "order": null,
            "overflow": null,
            "overflow_x": null,
            "overflow_y": null,
            "padding": null,
            "right": null,
            "top": null,
            "visibility": null,
            "width": null
          }
        },
        "7457a1a8df594f12a15dbc0422534131": {
          "model_module": "@jupyter-widgets/base",
          "model_name": "LayoutModel",
          "model_module_version": "1.2.0",
          "state": {
            "_model_module": "@jupyter-widgets/base",
            "_model_module_version": "1.2.0",
            "_model_name": "LayoutModel",
            "_view_count": null,
            "_view_module": "@jupyter-widgets/base",
            "_view_module_version": "1.2.0",
            "_view_name": "LayoutView",
            "align_content": null,
            "align_items": null,
            "align_self": null,
            "border": null,
            "bottom": null,
            "display": null,
            "flex": null,
            "flex_flow": null,
            "grid_area": null,
            "grid_auto_columns": null,
            "grid_auto_flow": null,
            "grid_auto_rows": null,
            "grid_column": null,
            "grid_gap": null,
            "grid_row": null,
            "grid_template_areas": null,
            "grid_template_columns": null,
            "grid_template_rows": null,
            "height": null,
            "justify_content": null,
            "justify_items": null,
            "left": null,
            "margin": null,
            "max_height": null,
            "max_width": null,
            "min_height": null,
            "min_width": null,
            "object_fit": null,
            "object_position": null,
            "order": null,
            "overflow": null,
            "overflow_x": null,
            "overflow_y": null,
            "padding": null,
            "right": null,
            "top": null,
            "visibility": null,
            "width": null
          }
        },
        "979c59abcb354c2ca4d0132fcaf7b7ac": {
          "model_module": "@jupyter-widgets/controls",
          "model_name": "DescriptionStyleModel",
          "model_module_version": "1.5.0",
          "state": {
            "_model_module": "@jupyter-widgets/controls",
            "_model_module_version": "1.5.0",
            "_model_name": "DescriptionStyleModel",
            "_view_count": null,
            "_view_module": "@jupyter-widgets/base",
            "_view_module_version": "1.2.0",
            "_view_name": "StyleView",
            "description_width": ""
          }
        },
        "713dc57a869c4fc0966524b35c2d03bf": {
          "model_module": "@jupyter-widgets/base",
          "model_name": "LayoutModel",
          "model_module_version": "1.2.0",
          "state": {
            "_model_module": "@jupyter-widgets/base",
            "_model_module_version": "1.2.0",
            "_model_name": "LayoutModel",
            "_view_count": null,
            "_view_module": "@jupyter-widgets/base",
            "_view_module_version": "1.2.0",
            "_view_name": "LayoutView",
            "align_content": null,
            "align_items": null,
            "align_self": null,
            "border": null,
            "bottom": null,
            "display": null,
            "flex": null,
            "flex_flow": null,
            "grid_area": null,
            "grid_auto_columns": null,
            "grid_auto_flow": null,
            "grid_auto_rows": null,
            "grid_column": null,
            "grid_gap": null,
            "grid_row": null,
            "grid_template_areas": null,
            "grid_template_columns": null,
            "grid_template_rows": null,
            "height": null,
            "justify_content": null,
            "justify_items": null,
            "left": null,
            "margin": null,
            "max_height": null,
            "max_width": null,
            "min_height": null,
            "min_width": null,
            "object_fit": null,
            "object_position": null,
            "order": null,
            "overflow": null,
            "overflow_x": null,
            "overflow_y": null,
            "padding": null,
            "right": null,
            "top": null,
            "visibility": null,
            "width": null
          }
        },
        "ff1c7fb3d73d4b9598132ad570cc670c": {
          "model_module": "@jupyter-widgets/controls",
          "model_name": "ProgressStyleModel",
          "model_module_version": "1.5.0",
          "state": {
            "_model_module": "@jupyter-widgets/controls",
            "_model_module_version": "1.5.0",
            "_model_name": "ProgressStyleModel",
            "_view_count": null,
            "_view_module": "@jupyter-widgets/base",
            "_view_module_version": "1.2.0",
            "_view_name": "StyleView",
            "bar_color": null,
            "description_width": ""
          }
        },
        "29e0d04521a54fdb918dcdc937a03ceb": {
          "model_module": "@jupyter-widgets/base",
          "model_name": "LayoutModel",
          "model_module_version": "1.2.0",
          "state": {
            "_model_module": "@jupyter-widgets/base",
            "_model_module_version": "1.2.0",
            "_model_name": "LayoutModel",
            "_view_count": null,
            "_view_module": "@jupyter-widgets/base",
            "_view_module_version": "1.2.0",
            "_view_name": "LayoutView",
            "align_content": null,
            "align_items": null,
            "align_self": null,
            "border": null,
            "bottom": null,
            "display": null,
            "flex": null,
            "flex_flow": null,
            "grid_area": null,
            "grid_auto_columns": null,
            "grid_auto_flow": null,
            "grid_auto_rows": null,
            "grid_column": null,
            "grid_gap": null,
            "grid_row": null,
            "grid_template_areas": null,
            "grid_template_columns": null,
            "grid_template_rows": null,
            "height": null,
            "justify_content": null,
            "justify_items": null,
            "left": null,
            "margin": null,
            "max_height": null,
            "max_width": null,
            "min_height": null,
            "min_width": null,
            "object_fit": null,
            "object_position": null,
            "order": null,
            "overflow": null,
            "overflow_x": null,
            "overflow_y": null,
            "padding": null,
            "right": null,
            "top": null,
            "visibility": null,
            "width": null
          }
        },
        "46be7ccc31974302ae81c7e687d60833": {
          "model_module": "@jupyter-widgets/controls",
          "model_name": "DescriptionStyleModel",
          "model_module_version": "1.5.0",
          "state": {
            "_model_module": "@jupyter-widgets/controls",
            "_model_module_version": "1.5.0",
            "_model_name": "DescriptionStyleModel",
            "_view_count": null,
            "_view_module": "@jupyter-widgets/base",
            "_view_module_version": "1.2.0",
            "_view_name": "StyleView",
            "description_width": ""
          }
        }
      }
    }
  },
  "cells": [
    {
      "cell_type": "markdown",
      "source": [
        "###**TEST** with Gemini"
      ],
      "metadata": {
        "id": "VDs_tmqZ9PJY"
      }
    },
    {
      "cell_type": "code",
      "execution_count": 1,
      "metadata": {
        "id": "L2KVoUeyp6X2"
      },
      "outputs": [],
      "source": [
        "pip install -q -U google-generativeai"
      ]
    },
    {
      "cell_type": "markdown",
      "source": [],
      "metadata": {
        "id": "6DrDYaQ79Q_V"
      }
    },
    {
      "cell_type": "code",
      "source": [
        "pip install pymupdf"
      ],
      "metadata": {
        "colab": {
          "base_uri": "https://localhost:8080/"
        },
        "id": "aFqEipMwtp5A",
        "outputId": "f3c638f9-015f-433e-df3f-e3a8e3f41eeb"
      },
      "execution_count": 2,
      "outputs": [
        {
          "output_type": "stream",
          "name": "stdout",
          "text": [
            "Collecting pymupdf\n",
            "  Downloading PyMuPDF-1.24.13-cp39-abi3-manylinux2014_x86_64.manylinux_2_17_x86_64.whl.metadata (3.4 kB)\n",
            "Downloading PyMuPDF-1.24.13-cp39-abi3-manylinux2014_x86_64.manylinux_2_17_x86_64.whl (19.8 MB)\n",
            "\u001b[2K   \u001b[90m━━━━━━━━━━━━━━━━━━━━━━━━━━━━━━━━━━━━━━━━\u001b[0m \u001b[32m19.8/19.8 MB\u001b[0m \u001b[31m41.8 MB/s\u001b[0m eta \u001b[36m0:00:00\u001b[0m\n",
            "\u001b[?25hInstalling collected packages: pymupdf\n",
            "Successfully installed pymupdf-1.24.13\n"
          ]
        }
      ]
    },
    {
      "cell_type": "code",
      "source": [
        "import pathlib\n",
        "import textwrap\n",
        "\n",
        "import google.generativeai as genai\n",
        "\n",
        "from IPython.display import display\n",
        "from IPython.display import Markdown\n",
        "\n",
        "def to_markdown(text):\n",
        "  text = text.replace('•', '  *')\n",
        "  return Markdown(textwrap.indent(text, '> ', predicate=lambda _: True))\n",
        "\n",
        "# Used to securely store API key\n",
        "from google.colab import userdata"
      ],
      "metadata": {
        "id": "shR775iSqBM8"
      },
      "execution_count": 3,
      "outputs": []
    },
    {
      "cell_type": "code",
      "source": [
        "import os\n",
        "os.environ['GOOGLE_API_KEY'] = 'YOU KEY'\n",
        "genai.configure(api_key='YOU KEY')\n",
        "#GOOGLE_API_KEY=userdata.get('GOOGLE_API_KEY')\n",
        "#genai.configure(api_key=GOOGLE_API_KEY)"
      ],
      "metadata": {
        "id": "qnS4uXYSqJCG"
      },
      "execution_count": 4,
      "outputs": []
    },
    {
      "cell_type": "code",
      "source": [
        "model = genai.GenerativeModel('gemini-1.5-flash')"
      ],
      "metadata": {
        "id": "TYby4n27qh8x"
      },
      "execution_count": 5,
      "outputs": []
    },
    {
      "cell_type": "code",
      "source": [
        "%%time\n",
        "response = model.generate_content(\"What is the meaning of life?\")\n",
        "to_markdown(response.text)"
      ],
      "metadata": {
        "colab": {
          "base_uri": "https://localhost:8080/",
          "height": 417
        },
        "id": "Bk5vscFCrxR1",
        "outputId": "7c8b9d18-1571-4229-afa4-80dccc2b7650"
      },
      "execution_count": 6,
      "outputs": [
        {
          "output_type": "stream",
          "name": "stdout",
          "text": [
            "CPU times: user 59.1 ms, sys: 6.57 ms, total: 65.6 ms\n",
            "Wall time: 2.84 s\n"
          ]
        },
        {
          "output_type": "execute_result",
          "data": {
            "text/plain": [
              "<IPython.core.display.Markdown object>"
            ],
            "text/markdown": "> As a large language model, I don't have personal beliefs or experiences, so I can't tell you the meaning of life. That's a question that philosophers, theologians, and individuals have pondered for centuries, and there's no single, definitive answer.\n> \n> However, I can offer some perspectives:\n> \n> **Some people find meaning in:**\n> \n> * **Love and connection:** Building relationships, caring for others, experiencing intimacy and belonging.\n> * **Purpose and contribution:** Making a difference in the world, leaving a positive impact, working towards something bigger than themselves.\n> * **Personal growth and development:** Learning, exploring, expanding their horizons, becoming the best version of themselves.\n> * **Experiencing beauty and wonder:** Appreciating nature, art, music, and other forms of beauty, finding joy in the world around them.\n> * **Spiritual beliefs and faith:** Finding comfort, guidance, and purpose in a higher power or spiritual connection.\n> \n> Ultimately, the meaning of life is a personal question. There is no right or wrong answer.  It's a journey of discovery, and what matters most is that you find what gives your life meaning and fulfillment. \n> \n> **Perhaps instead of asking \"What is the meaning of life?\" consider asking yourself:**\n> \n> * What brings me joy?\n> * What are my values?\n> * What do I want to achieve in my life?\n> * What legacy do I want to leave behind?\n> \n> By exploring these questions, you may find your own unique answer to the meaning of life. \n"
          },
          "metadata": {},
          "execution_count": 6
        }
      ]
    },
    {
      "cell_type": "code",
      "source": [
        "# Dummy retriever function for RAG\n",
        "# This function mimics the behavior of retrieving related content based on the prompt\n",
        "def dummy_retriever_test(prompt):\n",
        "    # In a real-world scenario, this could search through a database or use a retrieval system\n",
        "    # Just as an example\n",
        "    ragdata=[];\n",
        "    if \"meaning of life\" in prompt:\n",
        "        ragdata.append(\"Meaning of life: The meaning of life is a philosophical question that has been debated for centuries. Many people believe it revolves around purpose, fulfillment, and happiness.\")\n",
        "    if \"meaningful relationships\" in prompt:\n",
        "        ragdata.append(\"Building meaningful relationships: Love, connection, and compassion are fundamental human needs. Finding love and fostering strong relationships can provide a sense of purpose and meaning.\")\n",
        "    return ragdata\n",
        "\n",
        "# Enhanced RAG-based generation function\n",
        "def enhanced_generate(prompt, retriever, model):\n",
        "    # Use the retriever to get relevant context/documents\n",
        "    related_docs = retriever(prompt)\n",
        "    # Combine the prompt and the related documents\n",
        "    context_prompt = f\"Context: {related_docs}\\n\\nPrompt: {prompt}\"\n",
        "    # Use the model to generate content with the added context\n",
        "    response = model.generate_content(context_prompt)\n",
        "\n",
        "    return response.text\n",
        "\n",
        "# Example usage\n",
        "prompt = \"What is the meaning of life? Is it will build meaningful relationships?\"\n",
        "retrieved_context = dummy_retriever_test(prompt)  # This would be replaced with a real retrieval system\n",
        "print(\"prompt:\",prompt)\n",
        "print(\"retrieved_context:\",retrieved_context)\n",
        "# Generate enhanced content using RAG approach\n",
        "generated_response = enhanced_generate(prompt, dummy_retriever_test, model)\n",
        "\n",
        "# Display the result in markdown format\n",
        "display(to_markdown(generated_response)) #just for test"
      ],
      "metadata": {
        "id": "HS5HuCCcr_68",
        "colab": {
          "base_uri": "https://localhost:8080/",
          "height": 489
        },
        "outputId": "b3ec8668-6804-4390-b901-2cb665c605b4"
      },
      "execution_count": 7,
      "outputs": [
        {
          "output_type": "stream",
          "name": "stdout",
          "text": [
            "prompt: What is the meaning of life? Is it will build meaningful relationships?\n",
            "retrieved_context: ['Meaning of life: The meaning of life is a philosophical question that has been debated for centuries. Many people believe it revolves around purpose, fulfillment, and happiness.', 'Building meaningful relationships: Love, connection, and compassion are fundamental human needs. Finding love and fostering strong relationships can provide a sense of purpose and meaning.']\n"
          ]
        },
        {
          "output_type": "display_data",
          "data": {
            "text/plain": [
              "<IPython.core.display.Markdown object>"
            ],
            "text/markdown": "> The prompt asks a very deep and complex question about the meaning of life, and whether building meaningful relationships is the answer.  \n> \n> Here's a breakdown of the issues:\n> \n> **The Meaning of Life:**\n> \n> * **No Single Answer:**  The meaning of life is a deeply personal question with no single, definitive answer.  It's a journey of exploration and discovery. \n> * **Different Perspectives:** Philosophers, religions, and individuals have offered countless perspectives on the meaning of life, ranging from finding purpose in service to others, achieving personal growth, to simply experiencing the world and its wonders. \n> * **Finding Your Own Meaning:**  The most important thing is to find a meaning that resonates with you personally.  What brings you joy, fulfillment, and a sense of purpose?\n> \n> **Building Meaningful Relationships:**\n> \n> * **Important, but Not the Only Answer:** While building meaningful relationships is crucial for a fulfilling life, it's not the only answer to the question of life's meaning. \n> * **Connection and Purpose:**  Strong relationships provide love, support, and a sense of belonging, which can contribute to feeling a sense of purpose and meaning.\n> * **Beyond Relationships:**  Meaning can also come from other sources, such as pursuing your passions, contributing to society, or simply appreciating the beauty of the world.\n> \n> **Conclusion:**\n> \n> The question \"What is the meaning of life?\" is a journey, not a destination. While building meaningful relationships is a vital part of a fulfilling life, it's not the sole answer to the question of life's meaning. You have the power to find your own meaning, whether it comes from relationships, your passions, or simply the experience of being alive. \n"
          },
          "metadata": {}
        }
      ]
    },
    {
      "cell_type": "markdown",
      "source": [
        "### We build labeled database for **RAG** (Retrieval Augmented Generation) to enhance Gemini\n",
        "\n",
        "\n"
      ],
      "metadata": {
        "id": "5gG8sszg2R2z"
      }
    },
    {
      "cell_type": "code",
      "source": [
        "import numpy as np\n",
        "import requests\n",
        "from bs4 import BeautifulSoup\n",
        "import re\n",
        "from transformers import pipeline\n",
        "import nltk\n",
        "from sklearn.feature_extraction.text import TfidfVectorizer\n",
        "nltk.download('stopwords')\n",
        "from nltk.corpus import stopwords\n",
        "import fitz"
      ],
      "metadata": {
        "id": "0maStr3-6DQc",
        "colab": {
          "base_uri": "https://localhost:8080/"
        },
        "outputId": "d227139f-acf1-43e6-8521-97cae1b2d8c9"
      },
      "execution_count": 34,
      "outputs": [
        {
          "output_type": "stream",
          "name": "stderr",
          "text": [
            "[nltk_data] Downloading package stopwords to /root/nltk_data...\n",
            "[nltk_data]   Package stopwords is already up-to-date!\n"
          ]
        }
      ]
    },
    {
      "cell_type": "code",
      "source": [
        "def read_pdf(file_path):\n",
        "    doc = fitz.open(file_path)\n",
        "    text = \"\"\n",
        "    for page in doc:\n",
        "        text += page.get_text()\n",
        "    # remove sapaces in text\n",
        "    processed_text = ' '.join(text.split())\n",
        "    return processed_text\n",
        "def keywords_of_prompt(prompt):\n",
        "    # using TfidfVectorizer to abstract keywords of prompt\n",
        "    vectorizer = TfidfVectorizer(stop_words=stopwords.words('english'), max_features=10)\n",
        "    # If prompt is a list, join the elements into a single string\n",
        "    if isinstance(prompt, list):\n",
        "        prompt = ' '.join(prompt)\n",
        "    X = vectorizer.fit_transform([prompt])\n",
        "    keywords = vectorizer.get_feature_names_out().tolist()\n",
        "    return keywords"
      ],
      "metadata": {
        "id": "x1pOLOdystbV"
      },
      "execution_count": 35,
      "outputs": []
    },
    {
      "cell_type": "code",
      "source": [
        "url = \"https://arxiv.org/html/2409.04370v1\"  # the site where the data come from\n",
        "response = requests.get(url)\n",
        "soup = BeautifulSoup(response.text, 'html.parser')\n",
        "paragraphs = [p.get_text().strip() for p in soup.find_all('p')]"
      ],
      "metadata": {
        "id": "RTeaw4wE6vqk"
      },
      "execution_count": 61,
      "outputs": []
    },
    {
      "cell_type": "code",
      "source": [
        "url_2 = \"https://arxiv.org/list/cond-mat/new\"  # the site where the data come from\n",
        "response = requests.get(url_2)\n",
        "soup = BeautifulSoup(response.text, 'html.parser')\n",
        "paragraphs_2 = [p.get_text().strip() for p in soup.find_all('p')]"
      ],
      "metadata": {
        "id": "RjcCDkK6weq1"
      },
      "execution_count": 62,
      "outputs": []
    },
    {
      "cell_type": "code",
      "source": [
        "classifier = pipeline(\"zero-shot-classification\", model=\"facebook/bart-large-mnli\")"
      ],
      "metadata": {
        "id": "YkuAB-N08kg7",
        "colab": {
          "base_uri": "https://localhost:8080/",
          "height": 177,
          "referenced_widgets": [
            "cf02ca14d0df4bc482580098197fa173",
            "bdddca8b084d418280299b567ae77078",
            "28433f7995134351bf5c06c0c2bd04bf",
            "503d5d9683b84b829b9101526a912c50",
            "7c147280a08e40a1af55e8e4c9084723",
            "14f5fb6c73b94efd8450fbea7c6b878a",
            "14a6da8cc78a4f3db64801b030816c55",
            "fded63a9884549979068b8fe09b4ad55",
            "b7bfe087548a4b3ebcd7723a955288e1",
            "716818e9e4914185a7f7a555ad541573",
            "d2a7f37153664b5cac02587aa21e5460",
            "15620bd198f943889d53d0fff973f37e",
            "081dc2f10fd3429c87359188899e7030",
            "94f31300e5654d3a99ecc259eaff9080",
            "269035f014a94f868d306fa9351a94e2",
            "4f9098f3b8564be4b38f272c820a1635",
            "c884dfd5346d4efca0102caf4f271a3d",
            "94d073fb81ea46b5bbbe9843b54a2329",
            "5ad9894686b04bc19b81a7c0b91e5f04",
            "4428fd689f6348019791c24e43394b4f",
            "610167ddeda7407fa8ec052e2f8b6805",
            "f3e5bdbfd171414588ea55342f842f82",
            "8b6b3d02b10f41f9a155be7ecd923f93",
            "34deba83afb14aabb10f09dd933c356b",
            "398bad5853a24ecb9db8eb0fb615f3ef",
            "33d2c50b8a864447b9b27142384a3ccf",
            "2139eb65173a4af2aa35f8866e5ee5bb",
            "94adf10d83a448699023319bc9fd41c4",
            "26d360d2fcb2441790ae4ee5209e97c4",
            "7971a876aa0e4773a97f52fc1f38365b",
            "4b63c643461e43da9d2a87dc64d9ec1f",
            "b9ac775737ef48e4a36119e0c6a779e0",
            "8b335e0f2f3d45b4b9556239daddc150",
            "caa52c2890da48f2b99044b77b23435e",
            "d21ba79be47c4afbb18d672b57887a3d",
            "98b40f9f0a4b44e5845d683b8e134537",
            "45756b3f25914dedbea08a9a33ec4827",
            "7568bd28c9f54bf283f10500971c3e60",
            "e162f8ebc9174268a65932c5295b35c7",
            "dfcebcedfa964955bbec520a5f5ff463",
            "5243843214cc4af78e9faed0e10d6773",
            "54c2bae349754efd8946f0cc029f2469",
            "13bb9b1eb8fd40918d5ca4da7de8b375",
            "b18821d791e34d92a04e80e5cf419960",
            "22a33ddfb1ee4db38a9d98961ed1c289",
            "d0dd7c059c094c8c851815207f57baec",
            "a630cb70909a4a6b8e3ae4119969a24f",
            "ac532bc216954911b80ae30d53c3e6d6",
            "89a3454e64304af4903ab4f52a206de0",
            "7457a1a8df594f12a15dbc0422534131",
            "979c59abcb354c2ca4d0132fcaf7b7ac",
            "713dc57a869c4fc0966524b35c2d03bf",
            "ff1c7fb3d73d4b9598132ad570cc670c",
            "29e0d04521a54fdb918dcdc937a03ceb",
            "46be7ccc31974302ae81c7e687d60833"
          ]
        },
        "outputId": "f0ead3de-7e56-4b80-b26a-49487484f600"
      },
      "execution_count": 39,
      "outputs": [
        {
          "output_type": "display_data",
          "data": {
            "text/plain": [
              "model.safetensors:   0%|          | 0.00/1.63G [00:00<?, ?B/s]"
            ],
            "application/vnd.jupyter.widget-view+json": {
              "version_major": 2,
              "version_minor": 0,
              "model_id": "cf02ca14d0df4bc482580098197fa173"
            }
          },
          "metadata": {}
        },
        {
          "output_type": "display_data",
          "data": {
            "text/plain": [
              "tokenizer_config.json:   0%|          | 0.00/26.0 [00:00<?, ?B/s]"
            ],
            "application/vnd.jupyter.widget-view+json": {
              "version_major": 2,
              "version_minor": 0,
              "model_id": "15620bd198f943889d53d0fff973f37e"
            }
          },
          "metadata": {}
        },
        {
          "output_type": "display_data",
          "data": {
            "text/plain": [
              "vocab.json:   0%|          | 0.00/899k [00:00<?, ?B/s]"
            ],
            "application/vnd.jupyter.widget-view+json": {
              "version_major": 2,
              "version_minor": 0,
              "model_id": "8b6b3d02b10f41f9a155be7ecd923f93"
            }
          },
          "metadata": {}
        },
        {
          "output_type": "display_data",
          "data": {
            "text/plain": [
              "merges.txt:   0%|          | 0.00/456k [00:00<?, ?B/s]"
            ],
            "application/vnd.jupyter.widget-view+json": {
              "version_major": 2,
              "version_minor": 0,
              "model_id": "caa52c2890da48f2b99044b77b23435e"
            }
          },
          "metadata": {}
        },
        {
          "output_type": "display_data",
          "data": {
            "text/plain": [
              "tokenizer.json:   0%|          | 0.00/1.36M [00:00<?, ?B/s]"
            ],
            "application/vnd.jupyter.widget-view+json": {
              "version_major": 2,
              "version_minor": 0,
              "model_id": "22a33ddfb1ee4db38a9d98961ed1c289"
            }
          },
          "metadata": {}
        }
      ]
    },
    {
      "cell_type": "code",
      "source": [
        "pdf_text = read_pdf(\"the paper you are interested in.pdf\")\n",
        "candidate_labels = keywords_of_prompt(pdf_text)\n",
        "documents = {} # To generate the keywords based on paper you are interested in"
      ],
      "metadata": {
        "id": "HVmoRIl8sMC2"
      },
      "execution_count": null,
      "outputs": []
    },
    {
      "cell_type": "code",
      "source": [
        "print(candidate_labels)"
      ],
      "metadata": {
        "colab": {
          "base_uri": "https://localhost:8080/"
        },
        "id": "rEIMpde9vqwo",
        "outputId": "0a7444f6-e61d-4d98-ecec-73bcba2e1f91"
      },
      "execution_count": 45,
      "outputs": [
        {
          "output_type": "stream",
          "name": "stdout",
          "text": [
            "['crystal', 'domain', 'fe', 'ferromagnetic', 'field', 'magnetic', 'magnetization', 'magnetostriction', 'phase', 'structure']\n"
          ]
        }
      ]
    },
    {
      "cell_type": "code",
      "source": [
        "#Make labels of the database based on keywords\n",
        "\n",
        "for paragraph in paragraphs:\n",
        "    # classification\n",
        "    result = classifier(paragraph, candidate_labels)\n",
        "    # make keywords\n",
        "    best_label = result['labels'][0]\n",
        "    # add materials to follow keywords\n",
        "    if best_label in documents:\n",
        "        documents[best_label].append(paragraph)\n",
        "    else:        documents[best_label] = [paragraph]\n",
        "for paragraph in paragraphs_2:\n",
        "    # classification\n",
        "    result = classifier(paragraph, candidate_labels)\n",
        "    # make keywords\n",
        "    best_label = result['labels'][0]\n",
        "    # add materials to follow keywords\n",
        "    if best_label in documents:\n",
        "        documents[best_label].append(paragraph)\n",
        "    else:\n",
        "        documents[best_label] = [paragraph]"
      ],
      "metadata": {
        "id": "yXhVbGAzp63U"
      },
      "execution_count": null,
      "outputs": []
    },
    {
      "cell_type": "code",
      "source": [
        "print(paragraphs)#just for test to see our unlabeled database_1"
      ],
      "metadata": {
        "id": "n84onM7KskqJ",
        "colab": {
          "base_uri": "https://localhost:8080/"
        },
        "outputId": "8848040d-7cc6-44b8-dd06-e360b08be2b7"
      },
      "execution_count": 63,
      "outputs": [
        {
          "output_type": "stream",
          "name": "stdout",
          "text": [
            "['The interaction between surface acoustic waves and magnetization offers an efficient route for electrically controlling magnetic states. Here, we demonstrate the excitation of magnetoacoustic waves in galfenol, a highly magnetostrictive alloy made of iron (72%) and gallium (28%). We quantify the amplitude of the induced magnetization oscillations using magnetic imaging in an X-ray photoelectron microscope and estimate the dynamic magnetoelastic constants through micromagnetic simulations. Our findings demonstrate the potential of galfenol for magnonic applications and reveal that, despite strong magnetoelastic coupling, magnetic interactions and spin-wave dispersion relations significantly influence the overall amplitude of magnetoacoustic waves.', 'Integrating magnetic devices into electronic circuits requires efficient mechanisms for electrical control of magnetization in ferromagnetic (FM) nanomagnets, as opposed to magnetic field control. Electric-field control of magnetism has garnered significant attention for its potential to design ultralow-power spintronic devices.[1] Current research focuses on using spin-polarized currents to exert torques on magnetic moments by transferring spin angular momentum.[2, 3] Various device geometries and material combinations have been proposed to generate high spin current densities, often leveraging spin-orbit interactions through Rashba, Dresselhaus, and spin Hall effects.[4, 5, 6, 7, 8] This approach allows for manipulating the magnetization in nanostructures with significantly reduced energy requirements.', 'Another efficient method for controlling magnetization using electric fields involves electrical tailoring magnetic anisotropy, a high-speed technique compatible with existing technologies.[9, 10] In this work, we study phonon coupling to magnetization [11, 12] in bilayer heterostructures that combine a piezoelectric material with a highly magnetostrictive FM iron-gallium (Fe72Ga28) alloy. We use voltage-controlled surface acoustic waves (SAWs) to generate a spatially and temporally varying magnetic anisotropy in the FM alloy.', 'SAWs are MHz-GHz strain waves that propagate along the surface of a solid[13, 14] and can originate from oscillating voltages through interdigital transducers (IDTs) in a piezoelectric material. These waves create an oscillating strain that can induce a varying magnetic anisotropy field in a magnetostrictive material.[15, 16, 17] The GHz frequency range is particularly relevant for magnetization dynamics because it matches internal resonance energies, and the associated spin waves have wavelengths in the nanometer-micrometer range.', 'In the past decade, numerous studies have demonstrated that SAWs can efficiently couple to magnetization via the magnetoelastic effect,[18, 19, 20, 21, 22, 23, 24] focusing on the magnetoacoustic waves (MAWs) generated by SAWs.[25, 25, 26, 27, 28, 29, 30] Transition metal FMs, including Heusler alloys with similar bulk magnetostriction coefficients (∼10−5similar-toabsentsuperscript105\\\\sim 10^{-5}∼ 10 start_POSTSUPERSCRIPT - 5 end_POSTSUPERSCRIPT), have shown significant variations in MAW amplitudes.', 'Previous studies in galfenol with lower Ga content (18−20%18percent2018-20\\\\%18 - 20 %) have used SAWs to reduce the coercive field in thin films[31] and create magnetic patterns [32] at the microscale, demonstrating the potential for controlling magnetic states with oscillating strain. Field sensors have been proposed based on the field-dependent SAW absorption observed in thick FeGa films.[33, 34] However, direct measurements of magnetoelastic waves and the quantification of magnetoelastic coefficients in the GHz regime are still lacking.', 'In this work, we investigate the interaction of SAWs with magnetization in a 10-nm-thick Fe72Ga28 thin film,\\nwhich has rich-Ga content compared with previous studies,[35, 36, 37, 31, 32, 33, 34] and falls within the ‘second peak’ of magnetostriction for FeGa alloys, a region known for enhanced magnetostrictive properties.[38, 39]\\nWe chose the thickness of 10 nm to ensure a low coercive field and small anisotropy.[36]', 'Our experiment involves placing the FM thin film on the acoustic path of a piezoelectric substrate and exciting SAWs through IDTs at 500 MHz. Due to the magnetostrictive nature of FeGa, the deformation caused by the SAWs generates an oscillating anisotropy, leading to periodic changes in the magnetization direction. We directly image the resulting MAWs using X-ray microscopy and quantify the dynamic magnetoelastic coupling.', 'The sample under study consists of a piezoelectric 127.86 deg Y-cut LiNbO3 substrate and a 10-nm-thick FeGa film deposited by DC magnetron sputtering and patterned like a Hall bar [see Fig. 1(a)]. We deposited 5-nm thick buffer and 2-nm thick capping molybdenum layers below and above the galfenol film to ensure good adhesion and prevent oxidation. The sample’s stoichiometry is Fe72Ga28, but it will be referred to as FeGa throughout this article. More details on FeGa growth can be found elsewhere.[39]\\nUnidirectional IDTs were patterned at opposite ends of the FeGa film using electron beam lithography, metal evaporation, and liftoff [see Fig 1(a)]. This configuration allows both the generation of SAWs that propagate along the FM film and the measurement of transmitted SAW power (S21subscript𝑆21S_{21}italic_S start_POSTSUBSCRIPT 21 end_POSTSUBSCRIPT coefficient). We designed the IDTs to generate Rayleigh SAWs, characterized by in-plane and out-of-plane longitudinal strain components (εx\\u2062xsubscript𝜀𝑥𝑥\\\\varepsilon_{xx}italic_ε start_POSTSUBSCRIPT italic_x italic_x end_POSTSUBSCRIPT and εz\\u2062zsubscript𝜀𝑧𝑧\\\\varepsilon_{zz}italic_ε start_POSTSUBSCRIPT italic_z italic_z end_POSTSUBSCRIPT, respectively) and a shear strain component (εx\\u2062zsubscript𝜀𝑥𝑧\\\\varepsilon_{xz}italic_ε start_POSTSUBSCRIPT italic_x italic_z end_POSTSUBSCRIPT). The spatial periodicity of the finger-like electrodes in the IDTs was designed to excite SAWs with a fundamental frequency of 125 MHz and its corresponding harmonics [see the S21subscript𝑆21S_{21}italic_S start_POSTSUBSCRIPT 21 end_POSTSUBSCRIPT spectrum in Fig. 1(a)]. Through the magnetoelastic effect, the strain waves from the SAWs are transformed into a dynamically effective magnetic field, producing the torque on the magnetization of FeGa and thus generating MAWs.', 'We initially characterized the sample using ferromagnetic resonance (FMR) and magneto-optical Kerr effect (MOKE) microscopy. We measured the FMR on a separate FeGa sample grown simultaneously with the magnetoacoustic device on an identical substrate to ensure that both objects had the same magnetic properties. In the FMR experiment, we placed the sample on a coplanar waveguide and excited it at various frequencies while sweeping the magnetic field from −400400-400- 400 mT to 400400400400 mT. At specific magnetic fields and MW frequencies, the magnetization enters resonance, absorbing more MW power and resulting in a dip in the transmission coefficient, which appears as darker shades in Fig. 1(b). The frequency and magnetic field of these resonances follow Kittel’s equation[40]', 'where γ𝛾\\\\gammaitalic_γ is the gyromagnetic ratio (γ≈28𝛾28\\\\gamma\\\\approx 28italic_γ ≈ 28\\xa0GHz/T), and μ0\\u2062Meffsubscript𝜇0subscript𝑀eff\\\\mu_{0}M_{\\\\mathrm{eff}}italic_μ start_POSTSUBSCRIPT 0 end_POSTSUBSCRIPT italic_M start_POSTSUBSCRIPT roman_eff end_POSTSUBSCRIPT is the effective magnetization saturation, which we estimated to be around 1.4\\xa0T from data shown in Fig.\\xa01(b). The effective magnetization saturation is given as Meff=MS−Hksubscript𝑀effsubscript𝑀𝑆subscript𝐻𝑘M_{\\\\mathrm{eff}}=M_{S}-H_{k}italic_M start_POSTSUBSCRIPT roman_eff end_POSTSUBSCRIPT = italic_M start_POSTSUBSCRIPT italic_S end_POSTSUBSCRIPT - italic_H start_POSTSUBSCRIPT italic_k end_POSTSUBSCRIPT, where MSsubscript𝑀𝑆M_{S}italic_M start_POSTSUBSCRIPT italic_S end_POSTSUBSCRIPT is the magnetization saturation, and Hksubscript𝐻𝑘H_{k}italic_H start_POSTSUBSCRIPT italic_k end_POSTSUBSCRIPT is the out-of-plane anisotropy field. We expect this field to be small in FeGa, so that Meff≈MSsubscript𝑀effsubscript𝑀𝑆M_{\\\\rm eff}\\\\approx M_{S}italic_M start_POSTSUBSCRIPT roman_eff end_POSTSUBSCRIPT ≈ italic_M start_POSTSUBSCRIPT italic_S end_POSTSUBSCRIPT. In addition, the linewidth (μ0\\u2062Δ\\u2062Hsubscript𝜇0Δ𝐻\\\\mu_{0}\\\\Delta Hitalic_μ start_POSTSUBSCRIPT 0 end_POSTSUBSCRIPT roman_Δ italic_H) of the FMR resonances follows a linear frequency dependence [41]', 'where α𝛼\\\\alphaitalic_α is the Gilbert damping parameter, indicating the rate of energy dissipation, and μ0\\u2062Δ\\u2062Hinsubscript𝜇0Δsubscript𝐻in\\\\mu_{0}\\\\Delta H_{\\\\rm{in}}italic_μ start_POSTSUBSCRIPT 0 end_POSTSUBSCRIPT roman_Δ italic_H start_POSTSUBSCRIPT roman_in end_POSTSUBSCRIPT represents the inhomogeneous linewidth broadening, which accounts for magnetic inhomogeneities in the sample. Our FeGa thin films have broad FMR peaks, resulting in a high damping value of about α=0.08𝛼0.08\\\\alpha=0.08italic_α = 0.08.', 'Figure 1(c) shows the in-plane magnetic loop of FeGa obtained through MOKE microscopy. The loop exhibits magnetic hysteresis with a coercive field of less than 5 mT and full magnetic saturation at around 7 mT. The insets display MOKE images of the Hall bar under saturated conditions, although imaging the small magnetic domains with MOKE proved challenging.', 'To study the effect of SAWs on the magnetization dynamics of FeGa, we used direct imaging with X-ray photoemission electron microscopy (XPEEM) at the ALBA synchrotron facility. This technique allows us to observe and quantify both SAWs and MAWs. The experiment involves illuminating the sample with X-rays at the L3subscript𝐿3L_{3}italic_L start_POSTSUBSCRIPT 3 end_POSTSUBSCRIPT energy edge of Fe, which excites secondary electrons. A 10 kV potential between the device and the XPEEM objective pulls out these electrons. Two types of images can be obtained: XPEEM, which is sensitive to the piezoelectric voltage at the sample surface, and X-ray magnetic circular dichroism (XMCD), which provides magnetic contrast by subtracting two images taken with opposite circular helicity, canceling non-helicity-dependent effects.', 'SAWs are emitted by the IDTs and propagate along the acoustic path. The AC electric field applied to the IDT to generate SAWs is synchronized with the repetition rate of the synchrotron X-ray bunches, enabling stroboscopic imaging at specific phases of the SAW.[42] The local piezoelectric field from the SAW affects the kinetic energy of the photoelectrons that are accelerated out from the piezoelectric sample and is highly sensitive to the electric field between the sample and the microscope objective. By adding a bias voltage (VBsubscript𝑉BV_{\\\\mathrm{B}}italic_V start_POSTSUBSCRIPT roman_B end_POSTSUBSCRIPT) to the sample relative to the objective, we can change the contrast of the SAWs. Scanning the detector counts as a function of VBsubscript𝑉BV_{\\\\mathrm{B}}italic_V start_POSTSUBSCRIPT roman_B end_POSTSUBSCRIPT at opposite SAW phases allows us to measure the peak-to-peak amplitude of the piezoelectric potential at the sample surface.', 'The inset of Fig. 2 shows an XPEEM image of the LiNbO3 substrate at location P1 [see Fig. 1(a)]. The red and black rectangles represent the studied areas, corresponding to opposite SAW phases. The spectra in Fig. 2 display normalized detector counts as a function of VBsubscript𝑉BV_{\\\\mathrm{B}}italic_V start_POSTSUBSCRIPT roman_B end_POSTSUBSCRIPT for each phase, with the colors matching the studied areas in the inset. Subtracting both spectra, we obtain the SAW peak-to-peak voltage (Vppsubscript𝑉ppV_{\\\\mathrm{pp}}italic_V start_POSTSUBSCRIPT roman_pp end_POSTSUBSCRIPT), the horizontal shift between both spectra. We can determine the corresponding strain amplitudes by solving the coupled electromagnetic and elastic equations.[43] In our experiment, we measured Vpp=0.86subscript𝑉pp0.86V_{\\\\mathrm{pp}}=0.86italic_V start_POSTSUBSCRIPT roman_pp end_POSTSUBSCRIPT = 0.86 V at 500\\xa0MHz and calculated the strain component amplitudes as εx\\u2062x=6.4×10−5subscript𝜀𝑥𝑥6.4superscript105\\\\varepsilon_{xx}=6.4\\\\times 10^{-5}italic_ε start_POSTSUBSCRIPT italic_x italic_x end_POSTSUBSCRIPT = 6.4 × 10 start_POSTSUPERSCRIPT - 5 end_POSTSUPERSCRIPT, εz\\u2062z=1.0×10−5subscript𝜀𝑧𝑧1.0superscript105\\\\varepsilon_{zz}=1.0\\\\times 10^{-5}italic_ε start_POSTSUBSCRIPT italic_z italic_z end_POSTSUBSCRIPT = 1.0 × 10 start_POSTSUPERSCRIPT - 5 end_POSTSUPERSCRIPT, and εx\\u2062z=1.4×10−5subscript𝜀𝑥𝑧1.4superscript105\\\\varepsilon_{xz}=1.4\\\\times 10^{-5}italic_ε start_POSTSUBSCRIPT italic_x italic_z end_POSTSUBSCRIPT = 1.4 × 10 start_POSTSUPERSCRIPT - 5 end_POSTSUPERSCRIPT.', 'To study the MAWs excited in the FeGa film, we took a series of XMCD images at position P2 [see Fig. 1(a)] under various magnetic field strengths. To eliminate static features such as magnetic domains and surface impurities at low magnetic fields, we used a four-image process: taking two images with the same X-ray helicity at a 180∘superscript180180^{\\\\circ}180 start_POSTSUPERSCRIPT ∘ end_POSTSUPERSCRIPT phase difference in SAW and subtracting them, then obtaining magnetic contrast by subtracting images taken with opposite helicity. We call this a two-phase XMCD image. Figure 3(a) shows a standard XMCD image of magnetic domains (left) and a two-phase XMCD image of MAWs (right). From the MAW images, we extracted their profile and fitted it to a sinusoidal wave, using amplitude and phase as fitting parameters [see Fig. 3(b)]. To quantify the amplitude, we normalized it by the contrast difference between opposing domains, which is proportional to the magnetization saturation (MSsubscript𝑀𝑆M_{S}italic_M start_POSTSUBSCRIPT italic_S end_POSTSUBSCRIPT). This normalized amplitude is shown in Fig. 3(c), with each black point indicating the amplitude at different magnetic fields, ranging from 1 to 6 mT. The magnetic field is applied in the film plane at a 30∘superscript3030^{\\\\circ}30 start_POSTSUPERSCRIPT ∘ end_POSTSUPERSCRIPT angle to the SAW propagation direction to maximize the magnetoelastic torque.[44, 19, 20] Our MAW quantification estimates a magnetization precession angle of 1∘superscript11^{\\\\circ}1 start_POSTSUPERSCRIPT ∘ end_POSTSUPERSCRIPT to 1.5∘superscript1.51.5^{\\\\circ}1.5 start_POSTSUPERSCRIPT ∘ end_POSTSUPERSCRIPT, with a maximum efficiency of 2.3∘superscript2.32.3^{\\\\circ}2.3 start_POSTSUPERSCRIPT ∘ end_POSTSUPERSCRIPT/strain, comparable to nickel and cobalt.[29]', 'Next, we compared our results to micromagnetic simulations to quantify the magnetoelastic coupling constant. We used the MuMax3 simulation software,[45] which incorporates all effective field contributions, including Zeeman, demagnetization, anisotropy, and magnetoelastic fields generated by the coupling between SAWs and magnetization. The effective magnetoelastic field is given by', 'where Bisubscript𝐵𝑖B_{i}italic_B start_POSTSUBSCRIPT italic_i end_POSTSUBSCRIPT are the magnetoelastic constants, and misubscript𝑚𝑖m_{i}italic_m start_POSTSUBSCRIPT italic_i end_POSTSUBSCRIPT are the normalized magnetization components. The sample is polycrystalline, so B1=B2subscript𝐵1subscript𝐵2B_{1}=B_{2}italic_B start_POSTSUBSCRIPT 1 end_POSTSUBSCRIPT = italic_B start_POSTSUBSCRIPT 2 end_POSTSUBSCRIPT. The simulation that better reproduces the experimental results uses B1=4subscript𝐵14B_{1}=4italic_B start_POSTSUBSCRIPT 1 end_POSTSUBSCRIPT = 4\\xa0MJ/m3 and a small in-plane anisotropy of about 1 mT in the x𝑥xitalic_x direction, parallel to the direction of SAW propagation. The results, shown as a solid purple line in Fig. 3(c), reveal a peak at 1 mT due to the in-plane uniaxial anisotropy rather than a magnetic resonance. Since the SAW frequency is below the resonance frequency, the maximum effective field is near zero and thus generates maximum magnetization oscillation.', 'We chose FeGa films for their high magnetostriction, anticipating large MAW amplitudes. However, from the experimental results we estimate a value of the magnetoelastic constant that is similar to those observed in nickel and cobalt thin films [30] but with a MAW amplitude about ten times smaller than in nickel, though comparable to cobalt. We ascribe this reduction in MAW amplitude to the MSsubscript𝑀𝑆M_{S}italic_M start_POSTSUBSCRIPT italic_S end_POSTSUBSCRIPT value of FeGa and the dependence of MAW dispersion relations on the applied field angle. It is worth noticing that MAWs propagate at a certain angle relative to the magnetization direction (30∘ in the present study).', 'According to Eq.\\xa0(1), a high MSsubscript𝑀𝑆M_{S}italic_M start_POSTSUBSCRIPT italic_S end_POSTSUBSCRIPT value at a fixed magnetic field shifts the resonance to higher frequencies. Figure 4(a) illustrates this by comparing the solid black curve (representing FeGa with MS=1300subscript𝑀𝑆1300M_{S}=1300italic_M start_POSTSUBSCRIPT italic_S end_POSTSUBSCRIPT = 1300 kA/m3) with the dashed-dotted red curve (representing nickel with MS=500subscript𝑀𝑆500M_{S}=500italic_M start_POSTSUBSCRIPT italic_S end_POSTSUBSCRIPT = 500 kA/m3). The SAWs introduce a wavelength parameter in the magnetic waves, λ=fSAW/vs𝜆subscript𝑓SAWsubscript𝑣s\\\\lambda=f_{\\\\text{SAW}}/v_{\\\\text{s}}italic_λ = italic_f start_POSTSUBSCRIPT SAW end_POSTSUBSCRIPT / italic_v start_POSTSUBSCRIPT s end_POSTSUBSCRIPT, where fSAWsubscript𝑓SAWf_{\\\\text{SAW}}italic_f start_POSTSUBSCRIPT SAW end_POSTSUBSCRIPT is the excitation frequency and vssubscript𝑣sv_{\\\\text{s}}italic_v start_POSTSUBSCRIPT s end_POSTSUBSCRIPT is the speed of sound in the substrate. The non-uniform magnetization precession affects exchange and dipolar energies, typically leading to an additional increase in frequency with decreasing wavelength.[46]\\nSymbols in figure 4(a) show resonance frequencies for MAW with its corresponding wavelength (λ=7.8𝜆7.8\\\\lambda=7.8italic_λ = 7.8 μ𝜇\\\\muitalic_μm) when the SAW propagation direction and the applied magnetic field form a 30∘superscript3030^{\\\\circ}30 start_POSTSUPERSCRIPT ∘ end_POSTSUPERSCRIPT angle (φHsubscript𝜑𝐻\\\\varphi_{H}italic_φ start_POSTSUBSCRIPT italic_H end_POSTSUBSCRIPT). Each point represents the MAW resonance frequency for a given magnetic field. For MS=500subscript𝑀𝑆500M_{S}=500italic_M start_POSTSUBSCRIPT italic_S end_POSTSUBSCRIPT = 500 kA/m3 (red squares), the resonance starts close to 500 MHz and increases with the applied magnetic field. In contrast, for MS=1300subscript𝑀𝑆1300M_{S}=1300italic_M start_POSTSUBSCRIPT italic_S end_POSTSUBSCRIPT = 1300 kA/m3 (black dots), the resonance starts around 3 GHz, so exciting it with SAWs at 500 MHz results in non-resonance MAWs. The gap between FMR (λ=∞𝜆\\\\lambda=\\\\inftyitalic_λ = ∞) and MAW resonance increases with MSsubscript𝑀𝑆M_{S}italic_M start_POSTSUBSCRIPT italic_S end_POSTSUBSCRIPT, as shown for nickel (MS=500subscript𝑀𝑆500M_{S}=500italic_M start_POSTSUBSCRIPT italic_S end_POSTSUBSCRIPT = 500 kA/m3) and FeGa (MS=1300subscript𝑀𝑆1300M_{S}=1300italic_M start_POSTSUBSCRIPT italic_S end_POSTSUBSCRIPT = 1300 kA/m3).', 'The angle between the SAW propagation and the applied magnetic field, φHsubscript𝜑𝐻\\\\varphi_{H}italic_φ start_POSTSUBSCRIPT italic_H end_POSTSUBSCRIPT, also affects the size of the gap, increasing it as φHsubscript𝜑𝐻\\\\varphi_{H}italic_φ start_POSTSUBSCRIPT italic_H end_POSTSUBSCRIPT grows. Figure 4(b) presents additional simulations for FeGa, showing the MAW resonant magnetic field (μ0\\u2062Hressubscript𝜇0subscript𝐻res\\\\mu_{0}H_{\\\\rm res}italic_μ start_POSTSUBSCRIPT 0 end_POSTSUBSCRIPT italic_H start_POSTSUBSCRIPT roman_res end_POSTSUBSCRIPT) for a 6 GHz SAW excitation [blue dot in panel (a)] as a function of φHsubscript𝜑𝐻\\\\varphi_{H}italic_φ start_POSTSUBSCRIPT italic_H end_POSTSUBSCRIPT. The resonance field decreases from nearly 30 mT when the SAWs and the applied field are parallel to almost zero at φH=45∘subscript𝜑𝐻superscript45\\\\varphi_{H}=45^{\\\\circ}italic_φ start_POSTSUBSCRIPT italic_H end_POSTSUBSCRIPT = 45 start_POSTSUPERSCRIPT ∘ end_POSTSUPERSCRIPT.', 'To summarize, we investigated the dynamic interaction between SAWs and magnetization in a galfenol thin film on a piezoelectric LiNbO3 substrate. We demonstrated the electric control of magnetization waves through XMPEEM measurements. Our findings revealed the presence of both SAWs and magnetoacoustic waves (MAWs) in the FM thin film, with the MAW amplitude being comparable to that in cobalt but smaller than in nickel. Our technique allows quantification of strain and MAW amplitude and thus enables us to obtain an estimate for the magnetoelastic constant (B1=4subscript𝐵14B_{1}=4italic_B start_POSTSUBSCRIPT 1 end_POSTSUBSCRIPT = 4\\xa0MJ/m3) in sputtered 10 nm galfenol thin film with rich-Ga content (Fe72Ga28). Our simulations indicate that we generate MAW in a non-resonance mode and suggest that we can achieve larger MAW amplitudes when resonance conditions are fulfilled. The simulations also show that parameters such as the film’s magnetic moment or propagation angle between MAW and magnetization play a crucial role in determining the resonance condition and setting the overall MAW amplitude.']\n"
          ]
        }
      ]
    },
    {
      "cell_type": "code",
      "source": [
        "print(paragraphs_2)#just for test to see our unlabeled database_2"
      ],
      "metadata": {
        "colab": {
          "base_uri": "https://localhost:8080/"
        },
        "id": "T5gVjgiPekkg",
        "outputId": "913b75dc-1423-47db-e968-9e1ed613821b"
      },
      "execution_count": 64,
      "outputs": [
        {
          "output_type": "stream",
          "name": "stdout",
          "text": [
            "['Help | Advanced Search', 'See recent articles', 'We investigate the spontaneous breaking of subsystem symmetry in a stack of two-dimensional Fermi liquid metals, each maintaining a subsystem number conservation symmetry, driven by interlayer exciton condensation. The resulting Goldstone modes in this broken symmetry phase couple to the quasiparticle current perpendicular to the layers. This coupling, which remains non-zero for small momentum transfers, leads to the emergence of a three-dimensional anisotropic marginal Fermi liquid state when the number of layers is sufficiently large. We propose a possible experimental realization of this phenomenon in two-dimensional multilayer van der Waals heterostructures. Using self-consistent mean-field calculations, we characterize the subsystem symmetry-broken metallic state and examine the effects of fluctuations on its physical properties within the random phase approximation. We find that these fluctuations produce additional logarithmic enhancements to the specific heat at low temperature, specifically $C\\\\sim T (\\\\log(1/T))^2$.', 'Topological quantum computation relies on control of non-Abelian anyons for inherently fault-tolerant storage and processing of quantum information. By now, blueprints for topological qubits are well developed for electrically active topological superconductor and fractional quantum Hall platforms. We leverage recent insights into the creation and detection of non-Abelian anyons in electrically insulating spin systems to propose topological qubit architectures based on quantum spin liquids. We present two types of prototype designs that enable the requisite control in a potentially scalable framework: one invokes spin liquids integrated into magnetic tunnel junction arrays, the other uses semiconductor-spin liquid hybrids. We further identify various protocols for interrogating spin-liquid-based topological qubits, both to validate the underlying principles of topological quantum computation and to establish gates required for universal quantum computation. These results provide long-term direction for experimental investigation of Kitaev materials and potentially other solid-state spin liquid hosts.', \"There are two competing pictures for how the $O(3)$ non-linear sigma model (NLSM) with a topological theta term renormalises to the $\\\\mathfrak{\\\\hat{su}}(2)_1$ Wess-Zumino-Witten model. In the Affleck-Haldane picture, an `extension field' parametrises the correlated fluctuations of the couplings and extends the target space from $S^2$ to $S^3$; recently, however, Zirnbauer has advanced a competing picture where the extension field is frozen out and the infrared theory is more naturally thought of as a compact free boson dual to $\\\\mathfrak{\\\\hat{su}}(2)_1$. We show that the $J_1$-$J_2$ spin chain evinces a phase transition between these pictures -- corresponding to whether the dimer field that parametrises local singlet order is part of a joint $O(4)$ Néel-singlet order parameter or appears as a separate gapped mode. For the $O(3)$ NLSM itself, this analysis supports the Zirnbauer picture.\", 'Degenerate two-dimensional electron liquids are theoretically established to possess two vastly distinct collisional electron mean free paths, where even-parity deformations of the Fermi surface are hydrodynamic with a short collisional mean free path but odd-parity deformations remain near ballistic (known as the \"tomographic\" transport regime). Predicted signatures of this regime rely on the scaling of observables with temperature or device dimension, both of which are difficult to establish with certainty. Here, we consider magnetotransport in a minimal model of tomographic electrons and show that even a small magnetic field suppresses tomographic transport signatures and thus acts as a sensitive and unique probe of this regime. Fundamentally, the magnetic field breaks time-reversal invariance, which is a prerequisite for the odd-even parity effect in the collisional relaxation. We analyze in detail the scaling of the transverse conductivity, which has been linked to small-channel conductance of interaction-dominated electrons, and show that a tomographic scaling regime at intermediate wavenumbers is quickly suppressed with magnetic field to a hydrodynamic or collisionless form. We confirm that the suppression occurs at relatively small magnetic fields when the cyclotron radius is comparable to the ballistic mean free path of the dominant odd-parity mode. This occurs at a much smaller magnetic field than the magnetic field strength required to suppress hydrodynamic electron transport, which suggests an experimental protocol to extract the odd-parity mean free path.', 'We compute the spectra of anyon quasiparticles in all three super-selection sectors of the Kitaev model (i.e., visons, fermions and bosons), perturbed by a Zeeman field away from its exactly solvable limit, to gain insights on the competition of its non-abelian spin-liquid with other nearby phases, such as the mysterious intermediate state observed in the antiferromagnetic model. Both for the ferro- and antiferro-magnetic models we find that the fermions and visons become gapless at nearly identical critical Zeeman couplings. In the ferromagnetic model this is consistent with a direct transition into a polarized state. In the anti-ferromagnetic model this implies that previous theories of the intermediate phase viewed as a spin liquid with a different fermion Chern number are inadequate, as they presume that the vison gap does not close. In the antiferromagnetic model we also find that a bosonic quasiparticle becomes gapless at nearly the same critical field as the fermions and visons. This boson carries the quantum numbers of an anti-ferromagnetic order parameter, suggesting that the intermediate phase has spontaneously broken symmetry with this order.', 'We construct a (1+1)-dimension continuum model of 4-component fermions incorporating the exceptional Lie group symmetry $G_2$. Four gapped and five gapless phases are identified via the one-loop renormalization group analysis. The gapped phases are controlled by four different stable $SO(8)$ Gross-Neveu fixed points, among which three exhibit an emergent triality, while the rest one possesses the self-triality, i.e., invariant under the triality mapping. The gapless phases include three $SO(7)$ critical ones, a $G_2$ critical one, and a Luttinger liquid. Three $SO(7)$ critical phases correspond to different $SO(7)$ Gross-Neveu fixed points connected by the triality relation similar to the gapped SO(8) case. The $G_2$ critical phase is controlled by an unstable fixed point described by a direct product of the Ising and tricritical Ising conformal field theories with the central charges $c=\\\\frac{1}{2}$ and $c=\\\\frac{7}{10}$, respectively, while the latter one is known to possess spacetime supersymmetry. In the lattice realization with a Hubbard-type interaction, the triality is broken into the duality between two $SO(7)$ symmetries and the supersymmetric $G_2$ critical phase exhibits the degeneracy between bosonic and fermionic states, which are reminiscences of the continuum model.', 'We develop a comprehensive method to construct analytical continuum models for moiré systems directly from first-principle calculations without any parameter fitting. The core idea of this method is to interpret the terms in the continuum model as a basis, allowing us to determine model parameters as coefficients of this basis through Gram-Schmidt orthogonalization. We apply our method to twisted MoTe$_2$ and WSe$_2$ with twist angles ranging from 2.13$^\\\\circ$ to 3.89$^\\\\circ$, producing continuum models that exhibit excellent agreement with both energy bands and wavefunctions obtained from first-principles calculations. We further propose a strategy to integrate out the higher-energy degrees of freedom to reduce the number of the parameters in the model without sacrificing the accuracy for low-energy bands. Our findings reveal that decreasing twist angles typically need an increasing number of harmonics in the moiré potentials to accurately replicate first-principles results. We provide parameter values for all derived continuum models, facilitating further robust many-body calculations. Our approach is general and applicable to any commensurate moiré materials accessible by first-principles calculations.', 'Topological phases in frustrated quantum magnetic systems have captivated researchers for decades, with the chiral spin liquid (CSL) standing out as one of the most compelling examples. Featured by long-range entanglement, topological order, and exotic fractional excitations, the CSL has inspired extensive exploration for practical realizations. In this work, we demonstrate that CSLs can emerge in a kagome lattice driven by vacuum quantum fluctuations within a single-mode chiral cavity. The chiral cavity imprints quantum fluctuations with time-reversal symmetry breaking, fostering chiral interactions among electrons and stabilizing a robust CSL phase without external laser excitation. Moreover, we identify experimentally accessible observables -- such as average photon number and transport properties -- that reveal connections between photon dynamics and the emergent chiral order. Our findings establish a novel pathway for creating, controlling, and probing topological and symmetry-breaking quantum phases in strongly correlated systems.', 'In 1990, the Millis, Monien, and Pines (MMP) model and its improvement, the Zha, Barzykin, and Pines (ZBP) model in 1996, emerged as a realistic explanation of the cuprate NMR. These two models assume a single electronic component, translational symmetry, and that the electrons simultaneously have aspects of localized antiferromagnetic (AF) spins and delocalized Cu $d_{x^2-y^2}$ band states. NMR experiments were routinely fit to these models in the 1990s and early 2000s until they finally failed as NMR experiments developed further. It appears that cuprate theorists have given up on explaining the NMR and the NMR data is forgotten. Here, we assume a two-component model of electrons where the electrons reside in two regions, one metallic with delocalized band states, and the other antiferromagnetic with localized spins. This model breaks translational symmetry. We show that the normal state spin relaxation for the planar Cu, O, and Y atoms in $\\\\mathrm{YBa_2Cu_3O_{7-\\\\delta}}$ and their Knight shifts are explained by this two-component model. The temperature dependence of the Cu spin relaxation rate anisotropy in the superconducting state is also explained qualitatively.', 'Protein function does not solely depend on structure but often relies on dynamical transitions between distinct conformations. Despite this fact, our ability to characterize or predict protein dynamics is substantially less developed compared to state-of-the-art protein structure prediction. Molecular simulations provide unique opportunities to study protein dynamics, but the timescales associated with conformational changes generate substantial challenges. Enhanced sampling algorithms with collective variables can greatly reduce the computational cost of sampling slow processes. However, defining collective variables suitable to enhance sampling of protein conformational transitions is non-trivial. Low-frequency vibrations have long been considered as promising candidates for collective variable but their identification so far relied on assumptions inherently invalid at low frequencies. We recently introduced an analysis of molecular vibrations that does not rely on such approximations and remains accurate at low frequencies. Here, we modified this approach to efficiently isolate low-frequency vibrations in proteins and applied it to a set of five proteins of varying complexity. We demonstrate that our approach is not only highly reproducible but results in collective variables that consistently enhance sampling of protein conformational transitions and associated free energy surfaces on timescales compatible with high throughput applications. This enables the efficient generation of protein conformational ensembles, which will be key for future prediction algorithms aiming beyond static protein structures.', 'Altermagnets constitute a new class of magnetic materials that combine properties previously thought to be exclusive to either antiferromagnets or ferromagnets, and have unique properties of their own. In particular, a combination of symmetries connecting magnetic sublattices gives rise to a band spin splitting exhibiting unconventional d, g, or i-wave character. Their unique electronic properties have already led to new spin-dependent transport effects. Here, we consider their spin and charge dynamics on ultrafast timescales. We use a minimal tight binding model that captures the main features of the altermagnetic candidate material KRu$_4$O$_8$. In the framework of this model, we compute the spin-dependent electronic scattering dynamics after ultrashort-pulse excitation and show through these microscopic calculations how electron-electron and electron-phonon scattering processes redistribute optically excited carriers in a 2D slice of the Brillouin zone. We find that the optically excited spin polarization is long lived (~1ps) compared to the electron-electron momentum scattering lifetime of roughly 10fs. This contrasts remarkably with the much shorter spin lifetimes observed in typical ultrafast electronic spin dynamics in conventional ferromagnets and antiferromagnets, making these pulse-driven spin excitation experiments a key probe of altermagnetism.', 'Synthetic active collectives, composed of many nonliving individuals capable of cooperative changes in group shape and dynamics, hold promise for practical applications and for the elucidation of guiding principles of natural collectives. However, the design of collective robotic systems that operate effectively without intelligence or complex control at either the individual or group level is challenging. We investigate how simple steric interaction constraints between active individuals produce a versatile active system with promising functionality. Here we introduce the link-bot: a V-shape-based, single-stranded chain composed of active bots whose dynamics are defined by its geometric link constraints, allowing it to possess scale- and processing-free programmable collective behaviors. A variety of emergent properties arise from this dynamic system, including locomotion, navigation, transportation, and competitive or cooperative interactions. Through the control of a few link parameters, link-bots show rich usefulness by performing a variety of divergent tasks, including traversing or obstructing narrow spaces, passing by or enclosing objects, and propelling loads in both forward and backward directions. The reconfigurable nature of the link-bot suggests that our approach may significantly contribute to the development of programmable soft robotic systems with minimal information and materials at any scale.', 'Electron-phonon coupling (EPC) is key for understanding many properties of materials such as superconductivity and electric resistivity. Although first principles density-functional-theory (DFT) based EPC calculations are used widely, their efficacy is limited by the accuracy and efficiency of the underlying exchange-correlation functionals. These limitations become exacerbated in complex $d$- and $f$-electron materials, where beyond-DFT approaches and empirical corrections, such as the Hubbard $U$, are commonly invoked. Here, using the examples of CoO and NiO, we show how the efficient r2scan density functional correctly captures strong EPC effects in transition-metal oxides without requiring the introduction of empirical parameters. We also demonstrate the ability of r2scan to accurately model phonon-mediated superconducting properties of the main group compounds (e.g., MgB$_2$), with improved electronic bands and phonon dispersions over those of traditional density functionals. Our study provides a pathway for extending the scope of accurate first principles modeling of electron-phonon interactions to encompass complex $d$-electron materials.', 'Phase change materials such as Ge$_{2}$Sb$_{2}$Te$_{5}$ (GST) are ideal candidates for next-generation, non-volatile, solid-state memory due to the ability to retain binary data in the amorphous and crystal phases, and rapidly transition between these phases to write/erase information. Thus, there is wide interest in using molecular modeling to study GST. Recently, a Gaussian Approximation Potential (GAP) was trained for GST to reproduce Density Functional Theory (DFT) energies and forces at a fraction of the computational cost [Zhou et al. Nature Electronics $\\\\mathbf{6}$, 746-754 (2023)]; however, simulations of large length and time scales are still challenging using this GAP model. Here we present a machine-learned (ML) potential for GST implemented using the Atomic Cluster Expansion (ACE) framework. This ACE potential shows comparable accuracy to the GAP potential but performs orders of magnitude faster. We train the ACE potentials both directly from DFT, as well as using a recently introduced indirect learning approach where the potential is trained instead from an intermediate ML potential, in this case, GAP. Indirect learning allows us to consider a significantly larger training set than could be generated using DFT alone. We compare the directly and indirectly learned potentials and find that both reproduce the structure and thermodynamics predicted by the GAP, and also match experimental measures of GST structure. The speed of the ACE model, particularly when using GPU acceleration, allows us to examine repeated transitions between crystal and amorphous phases in device-scale systems with only modest computational resources.', 'The emergence of superconductivity in the octahedrally coordinated (1T) phase of TaS2 is preceded by the intriguing loss of long-range order in the charge density wave (CDW). Such decoherence, attainable by different methods, results in the formation of nm-sized coherent CDW domains bound by a two-dimensional network of domain walls (DW) - mosaic phase -, which has been proposed as the spatial origin of the superconductivity. Here, we report the atomic-scale characterization of the superconducting state of 1T-TaSSe, a model 1T compound exhibiting the CDW mosaic phase. We use high-resolution scanning tunneling spectroscopy and Andreev spectroscopy to probe the microscopic nature of the superconducting state in unambiguous connection with the electronic structure of the mosaic phase. Spatially resolved conductance maps at the Fermi level at the onset of superconductivity reveal that the density of states is mostly localized on the CDW domains compared to the domain walls, which suggests their dominant role in the formation of superconductivity. This scenario is confirmed within the superconducting dome at 340 mK, where superconductivity is fully developed, and the subtle spatial inhomogeneity of the superconducting gap remains unlinked to the domain wall network. Our results provide key new insights into the fundamental interplay between superconductivity and CDW in these relevant strongly correlated systems.', \"Latent symmetries, which materialize after performing isospectral reductions, have recently been shown to be instrumental in revealing novel topological phases in one-dimensional systems, among many other applications. In this work, we explore how to construct a family of seemingly complicated two-dimensional models that result in energy-dependent Haldane models upon performing an isospectral reduction. In these models, we find energy-dependent latent Semenoff masses without introducing a staggered on-site potential. In addition, energy-dependent latent Haldane masses also emerge in decorated lattices with nearest-neighbor complex hoppings. Using the Haldane model's properties, we then predict the location of the topological gaps in the aforementioned family of models and construct phase diagrams to determine where the topological phases lie in parameter space. This idea yielded, for instance, useful insights in the case of a modified version of $\\\\alpha$-graphyne and hexagonal plaquettes with additional decorations, where the gap-closing energies can be calculated using the ISR to predict topological phase transitions.\", 'In this work, we study the resonant tunneling (RT) of electrons and H atoms in double-barrier (DB) systems. Our numerical calculations directly verify the correspondence between the resonant tunneling energies and the energy levels of quasi-bound states (QBS) within the double barriers. Based on this, in-depth analyses are carried out on the modulation of QBS energy levels and numbers which show step variation with the inter-barrier spacing. The mathematical criterion for the existence of QBS is derived, and the impacts of the barrier width and barrier height on QBS levels are investigated. Taking the rectangular double-barrier as an example, we have studied the manipulation of electronic structures and optical properties of the inter-barrier region (quasi-potential well) by tuning the inter-barrier spacing (width of quasi-potential well). Atom-like optical absorption features are found in the range of infrared to visible spectrum, which can be continuously tuned by the variation of quasi-potential well width. The potential application of double-barrier nanostructures in ultrahigh-precision detection of electromagnetic radiations is demonstrated.', 'A recent experiment reports a creation of goldene, which is two-dimensional gold with hexagonal structure. By rolling up the goldene, gold nanotubes (GNT) should exist, but their structural and electronic properties are not understood well. Based on first-principles calculations, we demonstrate a breakdown of inverse square law, wherein the curvature energy stored in a GNT decreases with the inverse square of the GNT radius. This is due to the enhanced curvature energy in specific GNTs having nearly flat bands around the Fermi level. We show that the electron states on the flat band of GNT reflect those on the Fermi surface of goldene by using the Bloch and geometric boundary conditions, and that in-plane character of the latter states enhances the curvature energy.', 'Two-molecule theory refers to a class of microscopic, self-consistent field theories for the radial distribution function in classical molecular liquids. The version examined here can be considered as one of the very few formally derived closures to the reference interaction site model (RISM) equation. The theory is applied to polyethylene liquids, computing their equilibrium structural and thermodynamic properties at melt densities. The equation for the radial distribution function, which is represented as an average over the accessible states of two molecules in an external field that mimics the effects of the other molecules in the liquid, is computed by Monte Carlo simulation along with the intramolecular structure function. An improved direct sampling algorithm is utilized to speed the equilibration. Polyethylene chains of 24 and 66 united atom CH2 units are studied. Results are compared with full, many-chain molecular dynamics (MD) simulations and self-consistent polymer-RISM (PRISM) theory with the atomic Percus-Yevick (PY) closure under the same conditions. It is shown that the two-molecule theory produces results that are close to those of MD, and is thus able to overcome defects of PRISM-PY theory and predict more accurate liquid structure at both short and long range. Predictions for the equation of state are also discussed.', 'By decoupling forward and backward stochastic trajectories, we develop a family of martingales and work theorems for the same stochastic process. We achieve this by introducing an alternative work theorem derivation that uses tools from stochastic calculus instead of path integrals. Our derivation applies to both overdamped and underdamped Langevin dynamics and generalizes work theorems so that they connect new quantities in stochastic processes, potentially revealing new applications in dissipative systems.', 'The recent discovery of an axial amplitude (Higgs) mode in the long-studied charge density wave (CDW) systems GdTe$_3$ and LaTe$_3$ suggests a heretofore unidentified hidden order. A theoretical study proposed that the axial Higgs results from a hidden ferroaxial component of the CDW, which could arise from non-trivial orbital texture. Here, we report extensive experimental studies on ErTe$_3$ and HoTe$_3$ that possess a high-temperature CDW similar to other RTe$_3$ (R = rare earth), along with an additional low-temperature CDW with an orthogonal ordering vector. Combining Raman spectroscopy with large-angle convergent beam electron diffraction (LACBED), rotational anisotropy second-harmonic generation (RA-SHG), and muon-spin relaxation ($\\\\mu$SR), we provide unambiguous evidence that the high-temperature CDW breaks translation, rotation, and all vertical and diagonal mirror symmetries, but not time-reversal or inversion. In contrast, the low-temperature CDW only additionally breaks translation symmetry. Simultaneously, Raman scattering shows the high-temperature CDW produces an axial Higgs mode while the low-temperature mode is scalar. The weak monoclinic structural distortion and clear axial response in Raman and SHG are consistent with a ferroaxial phase in \\\\ch{RTe3} driven by coupled orbital and charge orders. Thus, our study provides a new standard for uncovering unconventional orders and confirms the power of Higgs modes to reveal them.', 'Understanding how symmetry-breaking processes generate order out of disorder is among the most fundamental problems of nature. The scalar Higgs mode - a massive (quasi-) particle - is a key ingredient in these processes and emerges with the spontaneous breaking of a continuous symmetry. Its related exotic and elusive axial counterpart, a Boson with vector character, can be stabilized through the simultaneous breaking of multiple continuous symmetries. Here, we employ a magnetic field to tune the recently discovered axial Higgs-type charge-density wave amplitude modes in rare-earth tritellurides. We demonstrate a proportionality between the axial Higgs component and the applied field, and a 90$^{\\\\circ}$ phase shift upon changing the direction of the B-field. This indicates that the axial character is directly related to magnetic degrees of freedom. Our approach opens up an in-situ control over the axialness of emergent Higgs modes.', 'We present experimental evidence of orbital Hall torque and unidirectional magnetoresistance (UMR), arising from the orbital Hall effect generated by the transverse flow of orbital angular momentum in light metals under an applied electric current. Through second-harmonic measurements, we investigate orbital Hall torque and UMR in bilayer devices composed of ferromagnetic materials (FM), such as Ni and NiFe, paired with light metals (LM), such as Ti and Nb. Our results demonstrate that LM/Ni bilayers exhibit enhanced damping-like torque and unidirectional magnetoresistance (UMR) compared to LM/NiFe bilayers. This enhancement suggests that angular momentum is generated via the orbital Hall effect within the light metal, where it undergoes orbital-to-spin conversion within the Ni ferromagnet, ultimately transferring to the magnetization of the ferromagnetic layer. Torque and UMR are also absent in single-layer devices, highlighting the necessity of the bilayer structure for orbital current generation.', 'Superlattice formation dictates the physical properties of many materials, including the nature of the ground state in magnetic materials. Chemical composition is commonly considered to be the primary determinant of superlattice identity, especially in intercalation compounds. Here, we find that, contrary to this conventional wisdom, kinetic control of superlattice growth leads to the coexistence of disparate domains within a compositionally \"perfect\" single crystal. We demonstrate that Cr$_{1/4}$TaS$_2$ is a bulk noncollinear antiferromagnet in which scattering between bulk and minority superlattice domains engenders complex magnetotransport below the Néel temperature, including an anomalous Hall effect. We characterize the magnetic phases in different domains, image their nanoscale morphology, and propose a mechanism for nucleation and growth. These results provide a blueprint for the deliberate engineering of macroscopic transport responses via microscopic patterning of magnetic exchange interactions in superlattice domains.', 'Superconductors at temperatures below the critical temperature $T_c$ can be modeled as a mixture of Fermi and Bose gases, where the Fermi gas consists of conduction electrons and the Bose gas comprises Cooper pairs. This simple model enables the computation of the temperature dependence of $2 r(T) / N$, where $N$ is the total number of conduction electrons and $r(T)$ is the number of Cooper pairs at temperature $T$. Analyzing $2 r(T) / N$ across various superconductors may provide significant insights into the mechanisms behind high-temperature superconductivity, especially regarding coherence in Cooper pairs.', 'Frustrated spin models may lead to the formation of both classical non-collinear spin structures and unique quantum phases including highly entangled quantum spin liquids. Here, we study the entanglement and spatial quantum correlations in linear spin-wave theory around a classical spin-spiral ground state. We find that the entanglement between pairs of sites is short-ranged, and is completely absent in certain cases. In contrast, the entanglement hidden in multi-site clusters is peaked close to phase transitions and shows an asymptotic behavior modulated by the period of the magnetic structure. These findings motivate further exploring the connection in the entanglement properties of fully quantum and of quasiclassical spin models.', \"The structured deformation theory is used within the thermodynamics of irreversible processes framework in order to build a damage model relevant for quasi-brittle materials. The cracks are supposed smeared in the body and their shape is assumed to be sinusoidal. The convex of elasticity supposes a limitation of the thermodynamic force associated to the relative sliding of the crack lips. This limitation consists of both some equivalent to the Coulomb's friction and a cohesive force issued from the Barenblatt approach. This leads to an initial yield surface that can be expressed as the Mohr-Coulomb criterion, known to be relevant for such materials in term of initial yield surface and prediction of the crack orientation. The evolution law introduces an hardening and softening function that, combined to the rest of the framework, allows the description of the stress to strain evolution. The results are identified and compared to the Kupfer's database on concrete.\", 'Energy efficient, safe and reliable Li-ion batteries (LIBs) are required for a wide range of applications. Charging capabilities of thick electrodes still holding their stored high-energy is a most desirable characteristic in future advanced LIBs. The introduction of ultra-thick graphite anode meets limitations in internal electrode transport properties, leading to Li-ion gradients with detrimental consequences for battery cell performance and lifetime. Yet, there is a lack of experimental tools capable of providing a complete view of local processes and evolving gradients within such thick electrodes. Here, we introduce a multi-modal operando measurement approach, enabling quantitative spatio-temporal observations of Li concentrations and intercalation phases in ultra-thick, graphite electrodes. Neutron imaging and diffraction concurrently provide correlated information from the macroscopic scale of the cell and electrode down to the crystallographic scale portraying the intercalation and deintercalation processes. In particular, the evolving formation of the solid electrolyte interphase (SEI), observation of gradients in total lithium content, as well as in the formation of ordered LixC6 phases and trapped lithium have been mapped throughout the first charge-discharge cycle of the cell. Different lithiation stages co-exist during charging and discharging of an ultra-thick composite graphite-based electrode; delayed lithiation and delithiation processes are observed at the central region of the electrode, while the SEI formation, potential plating and dead lithium are predominantly found closer to the interface with the separator. The study furthermore emphasizes the potential of the method to study Li ion diffusion and the kinetics of lithiation phase formation in advanced ultra-thick electrodes.', \"We examine the behavior of a single impurity particle embedded within a Totally Asymmetric Simple Exclusion Process (TASEP). By analyzing the impurity's dynamics, characterized by two arbitrary hopping parameters $ \\\\alpha $ and $\\\\beta$, we investigate both its macroscopic impact on the system and its individual trajectory, providing new insights into the interaction between the impurity and the TASEP environment. We classify the induced hydrodynamic limit shapes based on the initial densities to the left and right of the impurity, along with the values of the parameters $\\\\alpha$,$\\\\beta$. We develop a new method that enables the analysis of the impurity's behavior within an arbitrary density field, thereby generalizing the traditional coupling technique used for second-class particles. With this tool, we extend to the impurity case under certain parameter conditions, Ferrari and Kipnis's results on the distribution of the asymptotic speed of a second-class particle within a rarefaction fan.\", 'Understanding mechanisms of quantum ordering in strongly correlated systems remains a central challenge in condensed matter physics, with implications for designing novel quantum materials. Here, we investigate kinetic antiferromagnetism on a triangular lattice under an applied magnetic field, where spin-polarons emerge as charge-magnon bound states with mutual attraction. Using large-scale diagrammatic Monte Carlo simulations, we show that this interaction drives high-temperature phase separation into charge- and magnon-rich regions, bordered by polarised Mott insulating voids. Spectral function analysis reveals a substantial energy correction from magnon interactions, indicating that these carrier-rich regions form a strongly bound charge-magnon liquid. These findings shed new light on recent experiments on MoTe2/WSe2 moiré bilayers, underscoring kinetic magnetism as a unique pathway for strong inter-carrier attraction and high-temperature quantum ordering, with potential applications in quantum materials.', 'We have drawn connections between the Sachdev-Ye-Kitaev model and the multi-orbit Hatsugei-Kohmoto model, emphasizing their similarities and differences regarding chaotic behaviors. The features of the spectral form factor, such as the dip-ramp-plateau structure and the adjacent gap ratio, indicate chaos in the disordered orbital Hatsugei-Kohmoto model. One significant conclusion is that the plateau value of the out-of-time-order correlator, whether in the Hatsugei-Kohmoto model, Sachdev-Ye-Kitaev model with two- or four-body interactions, or a disorder-free Sachdev-Ye-Kitaev model, does not effectively differentiate between integrable and chaotic phases in many-body systems. This observation suggests a limitation in using out-of-time-order correlator plateau values as a diagnostic tool for chaos. Our exploration of these ideas provides a deeper understanding of how chaos arises in non-Fermi liquid systems and the tools we use to study it. It opens the door to further questions, particularly about whether there are more effective ways to distinguish between chaotic and integrable phases in these complex systems.', 'Each year, the production of synthetic dye wastewater reaches a trillion tons, posing a significant challenge to addressing water scarcity on a global level. Hence, the treatment of wastewater to prevent water scarcity is of prime importance, and failing to do so will increase ecotoxicological risks and human health. Textile wastewater contains harmful dye. Photocatalytic degradation of such dye-contaminated wastewater is crucial to purifying the dye-contaminated water. However, this process takes time, uses high-power lamps, and is expensive. Here, we report the effect of the concentration of precursor on the size and surface morphology of TiO2 nanostructures prepared by facile hydrothermal synthesis and its ability to perform as a photocatalyst to degrade the most common industrial textile dye, methylene blue (MB), under natural sunlight. The impact of particle size on the photocatalytic activity and photocarrier migration rate was thoroughly examined. Also, the effect of pH on adsorption and photocatalytic degradation has been evaluated in detail. With several optimized conditions, almost complete dye degradation was achieved within 40 minutes under the direct illumination of natural sunlight. The enhanced photocatalytic performance can be correlated to the synergetic effect of a higher charge transfer mechanism, good catalytic active surface area availability (386 m2/g), and several optimized parameters that affect the reaction efficacy. Additionally, repeated use of NPs without sacrificing performance five times confirmed its stability and Sustainability as a promising candidate for large-scale industrial textile wastewater remedies.', 'The correlated Stoke antiStokes (SaS) scattering plays a crucial role in quantum information processing, such as heralded light sources, Fock state dynamics, and write read protocol for quantum memory. However, several reported materials exhibit low degree of SaS correlation and require high-power pulse laser excitation, limiting further applications. Herein, we explore the giant correlated multiorder SaS scattering under low power continuous laser excitation through red-sideband resonance of exciton in semiconductor ZnTe nanobelts. At low temperatures, we observe an unexpectedly strong anti-Stokes signal for multiorder longitudinal optical phonons, with SaS correlations two or four orders of magnitude larger than reported results. Furthermore, we observed the mitigation of laser heating effect for longitudinal optical phonon in SaS scattering. This finding paves a new pathway to study multiorder quantum correlated photon pairs produced through exciton-resonant Raman scattering.', 'Lead-free perovskite materials have emerged as key players in optoelectronics, showcasing exceptional optical and electronic properties, alongside being environmentally friendly and non-toxic elements. Recently, among studied perovskite materials, vacancy-ordered double perovskites (VODPs) stand out as a promising alternative. In this study, we captured the electronic, optical, excitonic, and polaronic properties of a series of VODPs with the chemical formula Rb$_{2}$BX$_{6}$ (B = Si, Ge, Sn, Pt; X = Cl, Br, I) using first-principles calculations. Our results indicate these materials exhibit high stability and notable electronic and optical properties. The calculated G$_{0}$W$_{0}$ bandgap values of these perovskites fall within the range of 0.56 to 6.12 eV. Optical properties indicate strong infra-red to ultraviolet light absorption across most of the systems. Additionally, an analysis of excitonic properties reveals low to moderate exciton-binding energies and variable exciton lifetimes, implying higher quantum yield and conversion efficiency. Furthermore, utilizing the Feynman polaron model, polaronic parameters are evaluated, and for the majority of systems, charge-separated polaronic states are less stable than bound excitons. Finally, an investigation of Polaronic mobility reveals high polaron mobility for electrons (3.33-85.11 cm$^{2}$V$^{-1}$s$^{-1}$) compared to previously reported Cs-based VODP materials. Overall, these findings highlight Rb-based VODPs as promising candidates for future optoelectronic applications.', 'We report on optical studies of the Ruddlesden-Popper nickelates La$_{n+1}$Ni$_{n}$O$_{3n+1}$ with $n = 2$ (La$_{3}$Ni$_{2}$O$_{7}$), $n = 3$ (La$_{4}$Ni$_{3}$O$_{10}$) and $n = \\\\infty$ (LaNiO$_{3}$). As the number of the NiO$_{6}$ octahedra layers $n$ grows, the ratio of the kinetic energy determined from the experimental optical conductivity and that from band theory $K_{\\\\text{exp}}/K_{\\\\text{band}}$ increases, suggesting a reduction of electronic correlations. While the strong electronic correlations in the bilayer La$_{3}$Ni$_{2}$O$_{7}$ place it on the verge of the Mott insulating phase, the trilayer La$_{4}$Ni$_{3}$O$_{10}$ and infinite-layer LaNiO$_{3}$ exhibit moderate electronic correlations, falling into the regime of correlated metals. The evolution of the electronic correlations in La$_{n+1}$Ni$_{n}$O$_{3n+1}$ is likely to be dominated by the Ni-$d_{z^2}$ orbital. Our results provide important information for understanding the superconductivity in Ruddlesden-Popper nickelates.', 'We investigate the effect of top Al2O3 interlayer thickness on the memory window (MW) of Si channel ferroelectric field-effect transistors (Si-FeFETs) with TiN/Al2O3/Hf0.5Zr0.5O2/SiOx/Si (MIFIS) gate structure. We find that the MW first increases and then remains almost constant with the increasing thickness of the top Al2O3. The phenomenon is attributed to the lower electric field of the ferroelectric Hf0.5Zr0.5O2 in the MIFIS structure with a thicker top Al2O3 after a program operation. The lower electric field makes the charges trapped at the top Al2O3/Hf0.5Zr0.5O2 interface, which are injected from the metal gate, cannot be retained. Furthermore, we study the effect of the top Al2O3 interlayer thickness on the reliability (endurance characteristics and retention characteristics). We find that the MIFIS structure with a thicker top Al2O3 interlayer has poorer retention and endurance characteristics. Our work is helpful in deeply understanding the effect of top interlayer thickness on the MW and reliability of Si-FeFETs with MIFIS gate stacks.', 'We predict the existence of double-flattop quantum droplets in atomic Bose-Bose mixtures. Solutions of this type have two flattop regions of nearly uniform atomic density corresponding to a compressed central core surrounded by a rarefied layer. The birth of these double-flattop quantum droplets is analytically described using a perturbation theory, which in the leading order reduces the problem to the cubic nonlinear Schrödinger equation. Its properties are then used to predict the shape of double-flattop solutions and draw the conclusions about their stability. The analytical results apply to one- and multidimensional quantum droplets, provided that the energy density satisfies certain conditions. Using the numerical continuation from the asymptotic limit, we obtain the families of one- and two-dimensional double flattop quantum droplets and confirm the stability of the nodeless states of this type.', 'Quasi-two-dimensional averievites with triangle-kagome-triangle trilayers are of interest due to their rich structural and magnetic transitions and strong spin frustration that are expected to host quantum spin liquid ground state with suitable substitution or doping. Herein, we report growth of bulk single crystals of averievite CsClCu5V2O10 with dimensions of several millimeters on edge in order to (1) address the open question whether the room temperature crystal structure is P-3m1, P-3, P21/c or else, (2) to elucidate the nature of phase transitions, and (3) to study direction-dependent physical properties. Single-crystal-to-single-crystal structural transitions at ~305 K and ~127 K were observed in the averievite CsClCu5V2O10 single crystals. The nature of the transition at ~305 K, which was reported as P-3m1-P21/c transition, was found to be a structural transition from high temperature P-3m1 to low temperature P-3 by combining variable temperature synchrotron X-ray single crystal and high-resolution powder diffraction. In-plane and out-of-plane magnetic susceptibility and heat capacity measurements confirm a first-order transition at 305 K, a structural transition at 127 K and an antiferromagnetic transition at 24 K. These averievites are thus ideal model systems for a deeper understanding of structural transitions and magnetism.', 'Electron-magnon coupling reveals key insights into the interfacial properties between non-magnetic metals and magnetic insulators, influencing charge transport and spin dynamics. Here, we present temperature-dependent Raman spectroscopy and magneto-transport measurements of few-layer graphene (FLG)/antiferromagnetic FePS\\\\(_3\\\\) heterostructures. The magnon mode in FePS\\\\(_3\\\\) softens below 40 K, and effective magnon stiffness decreases with cooling. Magnetotransport measurements show that FLG exhibits negative magnetoresistance (MR) in the heterostructure at low fields (\\\\(\\\\pm 0.2 \\\\, \\\\text{T}\\\\)), persisting up to 100 K; beyond this, MR transitions to positive. Notably, as layer thickness decreases, the coupling strength at the interface reduces, leading to a suppression of negative MR. Additionally, magnetodielectric measurements in the FLG/FePS\\\\(_3\\\\)/FLG heterostructure show an upturn at temperatures significantly below ($T_\\\\text{N}$), suggesting a role for the magnon mode in capacitance, as indicated by hybridization between magnon and phonon bands in pristine FePS\\\\(_3\\\\) \\\\textit{via} magnetoelastic coupling.', 'Nonlinear electrokinetic phenomena, where electrically driven fluid flows depend nonlinearly on the applied voltage, are commonly encountered in aqueous suspensions of colloidal particles. A prime example is the induced-charge electro-osmosis, driven by an electric field acting on diffuse charge induced near a polarizable surface. Nonlinear electrohydrodynamic flows also occur in non-polar fluids, driven by the electric field acting on space charge induced by conductivity gradients. Here, we analyze the flows about a charge-neutral spherical solid particle in an applied uniform electric field that arise from conductivity dependence on local field intensity. The flow pattern varies with particle conductivity: while the flow about a conducting particle has a quadrupolar pattern similar to induced-charge electro-osmosis albeit with opposite direction, the flow about an insulating particle has a more complex structure. We find that this flow induces a force on a particle near an electrode that varies non-trivially with particle conductivity: while it is repulsive for perfectly insulating particle and particles more conductive than the suspending medium, there exists a range of particle conductivities where the force is attractive. The force decays as inverse square of the distance to the electrode and thus can dominate the dielectrophoretic attraction due to the image dipole, which falls off with the fourth power with the distance. This electrohydrodynamic lift opens new possibilities for colloidal manipulation and driven assembly by electric fields.', 'Quantum brachistochrone method has recently emerged as a technique allowing one to implement the desired unitary evolution operator in a physical system within the minimal time. Here, we apply this approach to the problem of time-optimal quantum state transfer in the array of three qubits with time-varying nearest-neighbor couplings and analytically derive the fastest protocol.', 'A method for measuring the electrical connectivity between parts of a rectangular superconductor was developed for weak links making an arbitrary angle with the long side of the sample. The method is based on magneto-optical observation of characteristic lines where the critical current makes discontinuous deviations in the flow direction to adapt to the non-uniform condition created by the presence of the weak link. Assuming the Bean critical state model in the full penetration regime for a sample submitted to a perpendicular magnetic field, the complete flow pattern of screening currents is reconstructed, from which the transparency of the weak link, i.e., the ratio between its critical current and that of the pristine sample, $\\\\tau = \\\\frac{J_i}{J_c}$, is then related to the angle $\\\\theta$ formed by two characteristic discontinuity lines which, in turn, are intimately associated to the presence of the weak link. The streamline distribution is compared with magneto-optical observations of the flux penetration in Nb superconducting films, where a weak link was created using focused ion beam milling. The present work generalizes previous analyses in which the weak link was perpendicular to the long sides of the rectangular sample. Equations and measurements demonstrate that the relationship between the transparency and the angle $\\\\theta$ is not affected by the tilting of the weak link. Noticeably, in order to attain optimum connectivity, the weak link critical current can be less than that of the pristine sample, namely, $\\\\tau _{max}=\\\\sin \\\\Phi$, where $\\\\Phi$ is the tilt angle of the weak link. This expression generalizes the previous result of $\\\\tau _{max}=1$ for $\\\\Phi=$ 90$^\\\\circ$.', 'Monolayer 1{\\\\it T}$^{\\\\prime}$-\\\\ce{MoS2} exhibits spin- and valley-dependent massive tilted Dirac cones with two velocity correction terms in low-energy effective Hamiltonian. We theoretically investigate the longitudinal diffusive magnetoconductivity of monolayer 1{\\\\it T}$^{\\\\prime}$-\\\\ce{MoS2} by using the linear response theory. It is shown that, when the Fermi level is close to the spin-orbit coupling gap, the Weiss oscillation splits into two branches and exhibits spin-valley polarization in the presence of both a spatial periodic electric potential modulation in the lateral direction and a nonzero perpendicular electric field. The spin-valley polarization stems from the interplay between the tilted Dirac cones, the spin-orbit coupling gap, and the external electric potential modulation, and can be treated as a signature of monolayer 1{\\\\it T}$^{\\\\prime}$-\\\\ce{MoS2}. When the Fermi level is far from the spin-orbit coupling gap, the spin-polarization appears in the Weiss oscillation under a magnetic field modulation in the lateral direction. This polarization behavior arises from the interplay between the tilted Dirac cones, the spin-orbit coupling, and the external magnetic field modulation, indicating that a finite spin-orbit coupling gap is not indispensable for polarization in the Weiss oscillation.', 'Broken symmetry plays a pivotal role in determining the macroscopic electrical, optical, magnetic, and topological properties of materials. Circular dichroism (CD) has been widely employed to probe broken symmetry in various systems, from small molecules to bulk crystals, but designing CD responses on demand remains a challenge, especially for antiferromagnetic materials. Here, we develop a cavity-enhanced CD technique to sensitively probe the magnetic order and broken symmetry in the van der Waals antiferromagnet FePS3. By introducing interfacial inversion asymmetry in cavity-coupled FePS3 crystals, we demonstrate that the induced CD is strongly coupled with the zig-zag antiferromagnetic order of FePS3 and can be tuned both spectrally and in magnitude by varying the cavity length and FePS3 thickness. Our findings open new avenues for using cavity-modulated CD as a sensitive diagnostic probe to detect weak broken symmetries, particularly at hidden interfaces, and in systems exhibiting hidden spin polarization or strong correlations.', 'The recent discovery of superconductivity in pressurized Ruddlesden-Popper (RP) of nickelates has potential similarities with cuprate superconductors, which may provide unique perspectives on the mechanisms of high-temperature superconductivity. Up to now, most of high-pressure experiments concentrated on the lanthanum-related RP phase. Therefore, the discovery of new superconducting nickelate compounds is highly desired to explore the generality of pressure-induced superconductivity in RP nickelates. Here, we grow high-quality Pr4Ni3O10 single crystal with an optical floating zone furnace under high oxygen pressure and conduct high-pressure transport measurements with various pressure transmitting mediums. The density wave in Pr4Ni3O10 single crystal was suppressed by pressure, accompanying the arising of superconducting state beyond 10 GPa. The maximum and unsaturated Tc of 39 K is obtained within our research pressure. Although zero resistivity was not achieved in our experiments, the pressure and temperature-dependent diamagnetism along with the systematic evolution of resistivity with applied magnetic field, corroborate the superconductivity in Pr4Ni3O10 single crystals. Our findings provide a new platform for the investigation of the relationship among structural evolution, magnetism, correlation, and superconductivity in Ruddlesden-Popper nickelates.', 'Since the discovery of ferroelectricity in HfO2 thin films, significant research has focused on Zr-doped HfO2 and solid solution (Hf,Zr)O2 thin films. Functional properties can be further tuned via multilayering, however, this approach has not yet been fully explored in HfO2-ZrO2 films. This work demonstrates ferroelectricity in a 50 nm thick, solution-processed HfO2-ZrO2 multilayer film, marking it as the thickest such film to date exhibiting ferroelectric properties. The multilayer structure was confirmed through transmission electron microscopy (TEM) and energy dispersive x-ray spectroscopy, with high-resolution TEM revealing grain continuity across multiple layers. This finding indicates that a polar phase in the originally paraelectric ZrO2 layer, can be stabilized by the HfO2 layer. The film attains a remanent polarization of 8 uC/cm2 and exhibits accelerated wake-up behavior, attributed to its higher breakdown strength resulting from the incorporation of multiple interfaces. These results offer a faster wake-up mechanism for thick ferroelectric hafnia films.', 'The inherent complexity of biological agents often leads to motility behavior that appears to have random components. Robust stochastic inference methods are therefore required to understand and predict the motion patterns from time discrete trajectory data provided by experiments. In many cases second order Langevin models are needed to adequately capture the motility. Additionally, population heterogeneity needs to be taken into account when analyzing data from several individual organisms. In this work, we describe a maximum likelihood approach to infer dynamical, stochastic models and, simultaneously, estimate the heterogeneity in a population of motile active particles from discretely sampled, stochastic trajectories. To this end we propose a new method to approximate the likelihood for non-linear second order Langevin models. We show that this maximum likelihood ansatz outperforms alternative approaches especially for short trajectories. Additionally, we demonstrate how a measure of uncertainty for the heterogeneity estimate can be derived. We thereby pave the way for the systematic, data-driven inference of dynamical models for actively driven entities based on trajectory data, deciphering temporal fluctuations and inter-particle variability.', 'Although not as wide, and popular, as that of quantum mechanics, the investigation of fundamental aspects of statistical mechanics constitutes an important research field in the building of modern physics. Besides the interest for itself, both for physicists and philosophers, and the obvious pedagogical motivations, there is a further, compelling reason for a thorough understanding of the subject. The fast development of models and methods at the edge of the established domain of the field requires indeed a deep reflection on the essential aspects of the theory, which are at the basis of its success. These elements should never be disregarded when trying to expand the domain of statistical mechanics to systems with novel, little known features. It is thus important to (re)consider in a careful way the main ingredients involved in the foundations of statistical mechanics. Among those, a primary role is covered by the dynamical aspects (e.g. presence of chaos), the emergence of collective features for large systems, and the use of probability in the building of a consistent statistical description of physical systems. With this goal in mind, in the present review we aim at providing a consistent picture of the state of the art of the subject, both in the classical and in the quantum realm. In particular, we will highlight the similarities of the key technical and conceptual steps with emphasis on the relevance of the many degrees of freedom, to justify the use of statistical ensembles in the two domains.', \"Engineering technologies frequently draw inspiration from nature, as exemplified in bio-inspired adhesive surfaces. These surfaces present textures adorned by pillars, mimicking the topography found on the pads of certain animals renowned for their exceptional adhesive capabilities. The adhesive response is strongly influenced by the morphology of these pillars. In typical existing models, perfect bonding conditions are assumed between the pillar and the countersurface, and solely the detachment process of the pillar from the countersurface is investigated.\\nThe proposed model, based on the assumption that interactions at the interface are governed by van der Waals forces modeled by the Lennard-Jones potential law, enables the examination of the entire approach and retraction cycle, tracking the movement of the pillar towards and away from the countersurface.\\nOur findings reveal that adhesive contact mechanics is primarily influenced by the geometry of the pillar and the potential presence of interfacial 'defects', which in turn affect the distribution of contact pressure. Furthermore, we show that the detachment process may simultaneously involve various modes of separation, such as crack propagation from outer edge, crack propagation from inner defects, and uniform decohesion. This suggests that existing theoretical models alone cannot fully elucidate the complexity of detachment phenomena. Additionally, we anticipate the occurrence of hysteretic losses during the approach-retraction cycle, attributed to pull-in and pull-off contact jumps. Adhesive hysteresis is a phenomenon consistently observed in experiments but frequently overlooked in existing models.\", 'Microscopically probing quantum many-body systems by resolving their constituent particles is essential for understanding quantum matter. In most physical systems, distinguishing individual particles, such as electrons in solids, or neutrons and quarks in neutron stars, is impossible. Atom-based quantum simulators offer a unique platform that enables the imaging of each particle in a many-body system. Until now, however, this capability has been limited to quantum systems in discretized space such as optical lattices and tweezers, where spatial degrees of freedom are quantized. Here, we introduce a novel method for imaging atomic quantum many-body systems in the continuum, allowing for in situ resolution of every particle. We demonstrate the capabilities of our approach on a two-dimensional atomic Fermi gas. We probe the density correlation functions, resolving their full spatial functional form, and reveal the shape of the Fermi hole arising from Pauli exclusion as a function of temperature. Our method opens the door to probing strongly-correlated quantum gases in the continuum with unprecedented spatial resolution, providing in situ access to spatially resolved correlation functions of arbitrarily high order across the entire system.', 'We report the first in situ observation of density fluctuations on the scale of the thermal de Broglie wavelength in an ultracold gas of bosons. Bunching of $^{87}$Rb atoms in a quasi two-dimensional system is observed by single-atom imaging using a quantum gas microscope. Compared to a classical ensemble, we observe a 30 percent enhancement of the second-order correlation function. We show the spatial and thermal dependence of these correlations. The reported method of detecting in situ correlations can be applied to interacting many-body systems and to the study of critical phenomena near phase transitions.', 'We demonstrate atom-resolved detection of itinerant bosonic $^{23}$Na and fermionic $^6$Li quantum gases, enabling the direct in situ measurement of interparticle correlations. In contrast to prior work on lattice-trapped gases, here we realize microscopy of quantum gases in the continuum. We reveal Bose-Einstein condensation with single-atom resolution, measure the enhancement of two-particle $g^{(2)}$ correlations of thermal bosons, and observe the suppression of $g^{(2)}$ for fermions; the Fermi or exchange hole. For strongly interacting Fermi gases confined to two dimensions, we directly observe non-local fermion pairs in the BEC-BCS crossover. We obtain the pairing gap, the pair size, and the short-range contact directly from the pair correlations. In situ thermometry is enabled via the fluctuation-dissipation theorem. Our technique opens the door to the atom-resolved study of strongly correlated quantum gases of bosons, fermions, and their mixtures.', \"Quantum transport calculations are essential for understanding and designing nanoelectronic devices, yet the trade-off between accuracy and computational efficiency has long limited their practical applications. We present a general framework that combines the deep learning tight-binding Hamiltonian (DeePTB) approach with the non-equilibrium Green's Function (NEGF) method, enabling efficient quantum transport calculations while maintaining first-principles accuracy. We demonstrate the capabilities of the DeePTB-NEGF framework through two representative applications: comprehensive simulation of break junction systems, where conductance histograms show good agreement with experimental measurements in both metallic contact and single-molecule junction cases; and simulation of carbon nanotube field effect transistors through self-consistent NEGF-Poisson calculations, capturing essential physics including the electrostatic potential and transfer characteristic curves under finite bias conditions. This framework bridges the gap between first-principles accuracy and computational efficiency, providing a powerful tool for high-throughput quantum transport simulations across different scales in nanoelectronics.\", 'We show that the ground state of a weakly charged two-dimensional electron-hole fluid in a strong magnetic field is a broken translational symmetry state with interpenetrating lattices of localized vortices and antivortices in the electron-hole-pair field. The vortices and antivortices carry fractional charges of equal sign but unequal magnitude and have a honeycomb lattice structure that contrasts with the triangular lattices of superconducting electron-electron-pair vortex lattices. We predict that increasing charge density and weakening magnetic fields drive vortex delocalization transitions signaled experimentally by abrupt increases in counterflow transport resistance.', 'This study presents an \\\\textit{ab initio} investigation of the XANES spectra at the aluminum K edge for three compounds: Al$_2$O$_3$, AlF$_3$ and AlCl$_3$, where the Al atoms share the same oxidation state~(III) and are coordinated in an octahedral symmetry. The XANES spectra calculated within the independent-particle approximation reveal significant differences, including shifts in the spectrum onset, variations in the spectral shapes, and the presence of a pre-peak in the case of AlCl$_3$, all in correspondence with the behavior of the PDOS of the absorbing atom in the different materials. The origin of the features stems from the specific band structure of each compound. When electron--hole interactions are taken into account through the solution of the Bethe-Salpeter equation, a series of dark and bright excitons with large binding energies and Frenkel character is obtained. The strong excitonic effects lead to the suppression of the pre-peak in AlCl$_3$ and further accentuate the differences among the three Al K-edge spectra.', 'The power conversion efficiency (PCE) of organic solar cells (OSCs) has been largely improved by the introduction of novel non-fullerene acceptors (NFAs). Further improvements in PCE require a more comprehensive understanding of the free charge generation process. Recently, the small PCE of donor-acceptor blends with low offsets between the relevant frontier orbitals was attributed to inefficient exciton dissociation. However, another source of photocurrent loss is the competition between exciton diffusion and decay, which is particularly relevant for bilayers or bulk heterojunction blends with phase separated morphology. Here, we present an analytical model that combines exciton diffusion with a set of rate equations based on Marcus theory of charge transfer. An expression for the charge generation efficiency is derived from the steady-state solution of the model. Thereby, the intrinsic exciton lifetime is identified as a pivotal parameter to facilitate efficient charge generation in spite of a vanishing driving force for exciton dissociation. The dynamic formulation of the model is used to elucidate the characteristic time scales of charge generation. It is found that for low-offset systems, the pure diffusive times are considerably shorter than those associated with charge generation. It can therefore be concluded that when estimating domain sizes via exciton diffusion measurements, the assumption that excitons are instantaneously quenched at the donor-acceptor interface is only valid when a high driving force for exciton dissociation is present. The model is applied to the transient absorption dynamics of a PM6:Y6 blend. It is demonstrated that the charge generation dynamics are determined by the interplay between exciton diffusion and hole transfer kinetics, with an estimated Y6 domain size of 25nm, while interfacial charge transfer (CT) states separate rapidly into free charges.', 'Since the initial discovery of two-dimensional van der Waals (vdW) materials, significant effort has been made to incorporate the three properties of magnetism, band structure topology, and strong electron correlations $-$ to leverage emergent quantum phenomena and expand their potential applications. However, the discovery of a single vdW material that intrinsically hosts all three ingredients has remained an outstanding challenge. Here we report the discovery of a Kondo-interacting topological antiferromagnet in the vdW 5$f$ electron system UOTe. It has a high antiferromagnetic (AFM) transition temperature of 150 K, with a unique AFM configuration that breaks the combined parity and time reversal ($PT$) symmetry in an even number of layers while maintaining zero net magnetic moment. Our angle-resolved photoemission spectroscopy (ARPES) measurements reveal Dirac bands near the Fermi level, which combined with our theoretical calculations demonstrate UOTe as an AFM Dirac semimetal. Within the AFM order, we observed the presence of the Kondo interaction, as evidenced by the emergence of a 5$f$ flat band near the Fermi level below 100 K and hybridization between the Kondo band and the Dirac band. Our density functional theory calculations in its bilayer form predict UOTe as a rare example of a fully-compensated AFM Chern insulator.', \"Complex fluids subjected to localized microscopic energy inputs exhibit nonequilibrium behaviors that remain poorly understood. To identify changes in the fluid's microstructural conformation, we introduce a general method grounded in the breakdown of the equipartition theorem for laser-trapped probes dragged at a mean constant speed. Specifically, we link the different scaling regimes in the probe's position variance, obtained through large-scale Brownian simulations of a polymeric fluid, to transitions from diffusive to jump dynamics, where the fluid intermittently relaxes accumulated stress. This suggests stored elastic stress may be the physical mechanism behind recently measured nonlinear friction curves. Our approach overcomes the limitations of continuum macroscopic descriptions and introduces an empirical method to experimentally detect nonequilibrium transitions in fluids' structure.\", 'Bethe-Salpeter equation (BSE) in the self-consistent Hartree-Fock (HF) basis is often used for describing complex many-body effects in material science applications. Its exact solution on the real-frequency axis at finite temperature for polarization using the diagrammatic Monte Carlo method [Phys. Rev. B \\\\textbf{109}, 045152, (2024)] captures effects of multiple Coulomb scattering of a single particle-hole excitation, but does not account for multiple pair excitations important for studying dielectric loses in metals at frequencies comparable to the plasmon mode. In this paper we report technical developments which allow one to efficiently compute the dielectric response in a wide frequency range from zero to a few Fermi energies without systematic bias at finite $T$. By applying it to the homogeneous electron gas we demonstrate how at small momenta the gap in the spectral density between the electron-hole and plasmon excitations, existing within the HF-BSE approach, is filled with two particle-hole excitations and is completely washed out already at temperature $T \\\\sim \\\\varepsilon_F/10$.', 'We establish that the nonequilibrium dynamics of most pure states gives rise to the same entropy production as that of the corresponding ensemble, provided the effective dimension of the ensemble is large enough. This establishes the positivity of entropy production under a wide variety of nonequilibrium situations. Our results follow from dynamical typicality and suitable continuity properties alone, without relying on non-integrability, and they complement other recent efforts to establish \"pure state second laws\". An explicit comparison with the distinctively different two-point measurement scheme is also provided.', 'We propose the realization of a fractional Chern mosaic: a state characterized by a spatially varying topological order. This state is enabled by a separation of length scales that emerges when three graphene sheets are sequentially rotated by a small twist angle. The resulting structure features not only conventional moiré lattices, but also a much larger supermoiré lattice. We demonstrate that a fractional Chern mosaic arises when electron correlations induce fractionalization locally on the moiré scale, while the pattern of fractionalization varies at the supermoiré scale.', 'The physical mechanism of microbial motion near solid-liquid interfaces is crucial for understanding various biological phenomena and developing ecological applications. However, limited works have been conducted on the swimming behavior of C. reinhardtii, a typical \"puller\" type cell, near solid surfaces, particularly with varying and conflicting experimental observations. Here, we investigate the swimming behavior of this http URL using a three-dimensional real-time tracking microscopy system both near a solid-liquid interface and in the fluid bulk region. We explore the relationships between the cell density, swimming speed and orientation with respect to the distance from the solid-liquid interface, confirming the phenomenon of C. reinhardtii accumulation near the solid-liquid interface. Based on the traditional definitions of \"pusher\" and \"puller\" cells, we propose a simplified model consisting of two pairs of mutually perpendicular force dipoles for C. reinhardtii. This model is employed to analyze the complex hydrodynamic interactions between C. reinhardtii and the solid surface, providing a potential theoretical explanation for the observed accumulation phenomenon at the solid-liquid interface.', 'Increasing the enzyme concentration generally speeds up enzymatic reactions. However, in this Letter, we show that increasing the enzyme concentration can also slow down the enzymatic reaction. We consider a simple allosteric protein with multiple modification sites, catalyzed by two enzymes with the same catalytic activity, but slightly different affinities. We show that increasing the concentration of one enzyme can slow the relaxation to the equilibrium state. The mechanism for this slowing is similar the Markovian Mpemba effect, and we name this phenomenon as the Enzymatic Mpemba effect.', \"The rapid evolution of artificial intelligence, particularly large language models, presents unprecedented opportunities for materials science research. We proposed and developed an AI materials scientist named MatPilot, which has shown encouraging abilities in the discovery of new materials. The core strength of MatPilot is its natural language interactive human-machine collaboration, which augments the research capabilities of human scientist teams through a multi-agent system. MatPilot integrates unique cognitive abilities, extensive accumulated experience, and ongoing curiosity of human-beings with the AI agents' capabilities of advanced abstraction, complex knowledge storage and high-dimensional information processing. It could generate scientific hypotheses and experimental schemes, and employ predictive models and optimization algorithms to drive an automated experimental platform for experiments. It turns out that our system demonstrates capabilities for efficient validation, continuous learning, and iterative optimization.\", 'Developing efficient path integral (PI) methods for atomistic simulations of vibrational spectra in heterogeneous condensed phases and interfaces has long been a challenging task. Here, we present the h-CMD method, short for hybrid centroid molecular dynamics, that combines the recently introduced fast quasi-CMD (f-QCMD) method with fast CMD (f-CMD). In this scheme, molecules that are believed to suffer more seriously from the curvature problem of CMD, e.g., water, are treated with f-QCMD, while the rest, e.g., solid surfaces, are treated with f-CMD. To test the accuracy of the newly introduced scheme, the infrared spectra of the interfacial D2O confined in the archetypal ZIF-90 framework are simulated using h-CMD compared to a variety of other PI methods, including thermostatted ring-polymer molecular dynamics (T-RPMD) and partially adiabatic CMD as well as f-CMD and experiment as reference. Comparisons are also made to classical MD, where nuclear quantum effects are neglected entirely. Our detailed comparisons at different temperatures of 250-600 K show that h-CMD produces O-D stretches that are in close agreement with the experiment, correcting the known curvature problem and red-shifting of the stretch peaks of CMD. h-CMD also corrects the known issues associated with too artificially dampened and broadened spectra of T-RPMD, which leads to missing the characteristic doublet feature of the interfacial confined water, rendering it unsuitable for these systems. The new h-CMD method broadens the applicability of f-QCMD to heterogeneous condensed phases and interfaces, where defining curvilinear coordinates for the entire system is not feasible.', 'Through the use of strain and induced piezoelectric fields, surface acoustic waves have been shown to control quantum information processes, such as single photon emission and the coherent transport of electron spins. Regarding the latter, systems using plane surface waves have provided suitable demonstration systems, but to build complexity, more control over the acoustic wave may be required. One method for acoustic control is the use of phononic crystals consisting of periodic arrays of nanofabricated holes on the surface of a device. These inclusions form a metamaterial-like layer with properties different from the normal material to dictate the physics of wave motion. Exploiting these surface properties can lead to acoustic waveguides, which can be designed to control the path of the surface acoustic waves. The design parameters of a new type of phononic crystal waveguide is explored that uses 2-fold elliptical cylinder inclusions to create a slow region that also limits coupling and radiative loss to bulk acoustic modes. Such a waveguide would be the foundational piece in an acoustic circuit that could then mediate complex spin transport geometries.', 'There are two types of quantum chaos: eigenbasis chaos and spectral chaos. The first type controls the early-time physics, e.g. the thermal relaxation and the sensitivity of the system to initial conditions. It can be traced back to the Eigenstate Thermalization Hypothesis (ETH), a statistical hypothesis about the eigenvectors of the Hamiltonian. The second type concerns very late-time physics, e.g. the ramp of the Spectral Form Factor. It can be traced back to Random Matrix Universality (RMU), a statistical hypothesis about the eigenvalues of the Hamiltonian. The Bohigas-Giannoni-Schmit (BGS) conjecture asserts a direct relationship between the two types of chaos for quantum systems with a chaotic semiclassical limit. The BGS conjecture is challenged by the Poissonian Hamiltonian ensembles, which can be used to model any quantum system displaying RMU. In this paper, we start by analyzing further aspects of such ensembles. On general and numerical grounds, we argue that these ensembles can have chaotic semiclassical limits. We then study the Poissonian ensemble associated with the Sachdev-Ye-Kitaev (SYK) model. While the distribution of couplings peaks around the original SYK model, the Poissonian ensemble is not $k$-local. This suggests that the link between ETH and RMU requires of physical $k$-locality as an assumption. We test this hypothesis by modifying the couplings of the SYK Hamiltonian via the Metropolis algorithm, rewarding directions in the space of couplings that do not display RMU. The numerics converge to a $k$-local Hamiltonian with eigenbasis chaos but without spectral chaos. We finally comment on ways out and corollaries of our results.', 'The outcome of continuously measuring a quantum system is a string of data whose intricate correlation properties reflect the underlying quantum dynamics. In this paper we study the role of these correlation in reconstructing the probabilities of finite sequences of outcomes, the so-called empirical distributions. Our approach is cast in terms of generic quantum instruments, and therefore encompass all types of sequential and continuous quantum measurements. We also show how this specializes to important cases, such as quantum jumps. To quantify the precise role of correlations, we introduce a relative-entropy based measure that quantifies the range of correlations in the string, and the influence that these correlations have in reconstructing finite sequences.', \"Cavity exciton-polaritons exhibit ballistic transport and can achieve a distance of 100 $\\\\mu $m in one picosecond. This ballistic transport significantly enhances mobility compared to that of bare excitons, which often move diffusively and become the bottleneck for energy conversion and transfer devices. Despite being robustly reproduced in experiments and simulations, there is no comprehensive microscopic theory addressing the group velocity of polariton transport, and its renormalization due to phonon scattering while still preserving this ballistic behavior. In this work, we develop a microscopic theory to describe the group velocity renormalization using a finite-temperature Green's function approach. Utilizing the generalized Holstein-Tavis-Cummings Hamiltonian, we analytically derive an expression for the group velocity renormalization and find that it is caused by phonon-mediated transitions from the lower polariton states to the dark states. The theory predicts that the magnitude of group velocity renormalization scales linearly with the phonon bath reorganization energy under weak coupling conditions and also linearly depends on the temperature in the high-temperature regime. These predictions are numerically verified using quantum dynamics simulations via the mean-field Ehrenfest method, demonstrating quantitative agreement. Our findings provide theoretical insights and a predictive analytical framework that advance the understanding and design of cavity-modified semiconductors and molecular ensembles, opening new avenues for engineered polaritonic devices.\", \"We propose an experimental scheme for performing a Bell test using momentum-entangled pairs of atoms with different masses. This proposal uses the metastable isotopes of helium 3He* and 4He* for their single-atom detection capabilities, though the approach could be generalised to other atoms. The entangled state is generated by colliding these species and manipulated via two independent atom interferometers. This method enables precise control of the relative phases of each species, overcoming previous challenges in single-species atomic momentum Bell tests. Numerical simulations of the process show that it should be possible to achieve a significant violation of Bell's inequality under realistic experimental conditions and within a quantum mechanics framework. This type of superposition is interesting from a general relativity perspective as it introduces ambiguity in determining spacetime curvature of the quantum state. Such experiments are necessary to better understand the intersection between quantum mechanics and gravity.\", 'Machine learning has become a crucial tool for predicting the properties of crystalline materials. However, existing methods primarily represent material information by constructing multi-edge graphs of crystal structures, often overlooking the chemical and physical properties of elements (such as atomic radius, electronegativity, melting point, and ionization energy), which have a significant impact on material performance. To address this limitation, we first constructed an element property knowledge graph and utilized an embedding model to encode the element attributes within the knowledge graph. Furthermore, we propose a multimodal fusion framework, ESNet, which integrates element property features with crystal structure features to generate joint multimodal representations. This provides a more comprehensive perspective for predicting the performance of crystalline materials, enabling the model to consider both microstructural composition and chemical characteristics of the materials. We conducted experiments on the Materials Project benchmark dataset, which showed leading performance in the bandgap prediction task and achieved results on a par with existing benchmarks in the formation energy prediction task.', 'Despite its excellent performance in microelectronic industry, silicon was not able to perform well in photonic devices arena. This is because the silicon has never been a good optical source mainly due to its indirect band gap structure. Many of the device functionalities in silicon have been reported, with an exception of, until recently, a reliable optical source. Silicon is a nonlinear material which makes use of its nonlinearities to realize various functionalities. This paper presents a theoretical treatment of generating and enhancing third-harmonic field which may be used as optical source, crystal state monitoring and all-optical signal processing applications.', 'Inertial waves in convective regions of stars exhibit topological properties linked to a Chern number of 1. The first of these is a unique, unidirectional, prograde oscillation mode within the cavity, which propagates at arbitrarily low frequencies for moderate azimuthal wavenumbers. The second one are phase singularities around which the phase winds in Fourier space, with winding numbers of $\\\\pm 1$ depending on the hemisphere. Phase winding is a collective effect over waves propagating in all directions that is strongly robust to noise. This suggests a topology-based method for wave detection in noisy observational data.', 'The discovery of new materials is very important to the field of materials science. When researchers explore new materials, they often have expected performance requirements for their crystal structure. In recent years, data-driven methods have made great progress in the direction plane of crystal structure generation, but there is still a lack of methods that can effectively map material properties to crystal structure. In this paper, we propose a Crystal DiT model to generate the crystal structure from the expected material properties by embedding the material properties and combining the symmetry information predicted by the large language model. Experimental verification shows that our proposed method has good performance.', 'Single-cell experiments revealed substantial variability in generation times, growth rates but also in birth and division sizes between genetically identical cells. Understanding how these fluctuations determine the fitness of the population, i.e. its growth rate, is necessary in any quantitative theory of evolution. Here, we develop a biologically-relevant model which accounts for the stochasticity in single-cell growth rates, birth sizes and division sizes. We derive expressions for the population growth rate and for the mean birth size in the population in terms of the single-cell fluctuations. Allowing division sizes to fluctuate reveals how the mechanism of cell size control (timer, sizer, adder) influences population growth. Surprisingly, we find that fluctuations in single-cell growth rates can be beneficial for population growth when slow-growing cells tend to divide at smaller sizes than fast-growing cells. Our framework is not limited to exponentially-growing cells like $\\\\textit{Escherichia coli}$, and we derive similar expressions for cells with linear and bi-linear growth laws, such as $\\\\textit{Mycobacterium tuberculosis}$ and fission yeast $\\\\textit{Schizosaccharomyces pombe}$, respectively.', 'Optimal control theory aims to find an optimal protocol to steer a system between assigned boundary conditions while minimizing a given cost functional in finite time. Equations arising from these types of problems are often non-linear and difficult to solve numerically. In this note, we describe numerical methods of integration for two partial differential equations that commonly arise in optimal control theory: the Fokker-Planck equation driven by a mechanical potential for which we use Girsanov theorem; and the Hamilton-Jacobi-Bellman, or dynamic programming, equation for which we find the gradient of its solution using the Bismut-Elworthy-Li formula. The computation of the gradient is necessary to specify the optimal protocol. Finally, we give an example application in solving an optimal control problem without spacial discretization by machine learning.', 'The exact quantum dynamics of lattice models can be computationally intensive, especially when aiming for large system sizes and extended simulation times necessary to converge transport coefficients. By leveraging finite memory times to access long-time dynamics using only short-time data, generalized master equations (GMEs) can offer a route to simulating the dynamics of lattice problems efficiently. However, such simulations are limited to small lattices whose dynamics exhibit finite-size artifacts that contaminate transport coefficient predictions. To address this problem, we introduce a novel approach that exploits finite memory in time \\\\textit{and} space to efficiently predict the many-body dynamics of dissipative lattice problems involving short-range interactions. This advance enables one to leverage the short-time dynamics of small lattices to simulate arbitrarily large systems over long times. We demonstrate the strengths of this method by focusing on nonequilibrium polaron relaxation and transport in the dispersive Holstein model, successfully simulating lattice dynamics in one and two dimensions free from finite-size effects, reducing the computational expense of such simulations by multiple orders of magnitude. Our method is broadly applicable and provides an accurate and efficient means to investigate nonequilibrium relaxation with microscopic resolution over mesoscopic length and time scales that are relevant to experiment.', 'Materials science datasets are inherently heterogeneous and are available in different modalities such as characterization spectra, atomic structures, microscopic images, and text-based synthesis conditions. The advancements in multi-modal learning, particularly in vision and language models, have opened new avenues for integrating data in different forms. In this work, we evaluate common techniques in multi-modal learning (alignment and fusion) in unifying some of the most important modalities in materials science: atomic structure, X-ray diffraction patterns (XRD), and composition. We show that structure graph modality can be enhanced by aligning with XRD patterns. Additionally, we show that aligning and fusing more experimentally accessible data formats, such as XRD patterns and compositions, can create more robust joint embeddings than individual modalities across various tasks. This lays the groundwork for future studies aiming to exploit the full potential of multi-modal data in materials science, facilitating more informed decision-making in materials design and discovery.', 'In optimal quantum control, control landscape phase transitions (CLPTs) indicate sharp changes occurring in the set of optimal protocols, as a physical model parameter is varied. Here, we demonstrate the existence of a new class of CLPTs, associated with changes in the topological properties of the optimal level set in a two-qubit state-preparation problem. In particular, the distance distribution of control protocols sampled through stochastic homotopic dynamics reveals discontinuous changes in the number of connected components in the optimal level set, as a function of the protocol duration. We demonstrate how topological CLPTs can be detected in modern-day experiments.', 'Simulating electronic behavior in materials and devices with realistic large system sizes remains a formidable task within the $ab$ $initio$ framework due to its computational intensity. Here we show DeePTB, an efficient deep learning-based tight-binding approach with $ab$ $initio$ accuracy to address this issue. By training on structural data and corresponding $ab$ $initio$ eigenvalues, the DeePTB model can efficiently predict tight-binding Hamiltonians for unseen structures, enabling efficient simulations of large-size systems under external perturbations such as finite temperatures and strain. This capability is vital for semiconductor band gap engineering and materials design. When combined with molecular dynamics, DeePTB facilitates efficient and accurate finite-temperature simulations of both atomic and electronic behavior simultaneously. This is demonstrated by computing the temperature-dependent electronic properties of a gallium phosphide system with $10^6$ atoms. The availability of DeePTB bridges the gap between accuracy and scalability in electronic simulations, potentially advancing materials science and related fields by enabling large-scale electronic structure calculations.', 'Response theories in condensed matter typically describe the response of an electron fluid to external electromagnetic fields, while perturbations on neutral particles are often designed to mimic such fields. Here, we study the response of fermions to a space-time-dependent velocity field, thereby sidestepping the issue of gauge charge. First, we use a semiclassical chiral kinematic theory to obtain the local density of current and extract the orbital magnetization. The theory immediately predicts a \"converse vortical effect,\" defined as an orbital magnetization driven by linear velocity. It receives contributions from magnetic moments on the Fermi surface and the Berry curvature of the occupied bands. Then, transcending semiclassics via a complementary Kubo formalism reveals that the uniform limit of a clean system receives only the Berry curvature contribution while other limits sense the Fermi surface magnetic moments too. We propose CoSi as a candidate material and suggest magnetometry of a sample under a thermal gradient to detect the effect. Overall, our study sheds light on the effects of a space-time-dependent velocity field on electron fluids and paves the way for exploring quantum materials using new probes and perturbations.', 'Two legged skewed spin-$\\\\frac{1}{2}$ ladders are frustrated and exhibit exotic quantum phases in ground state due to strong quantum fluctuations and competing spin exchanges. Here, we study ground state properties of a spin-$\\\\frac{1}{2}$ Heisenberg model on 3/4, 3/5 and 5/5 skewed ladders in the presence of a Zeeman magnetic field, $B$, using exact diagonalization and the density matrix renormalization group method. We note the existence of plateaus at $m =$ 1/3 and 2/3 for 3/4 skewed ladder, at $m =$ 1/4, 1/2, and 3/4 for 3/5 skewed ladder, and at $m =$ 0, 1/3, and 2/3 for 5/5 skewed ladder, where $m$ is the ratio of the observed magnetization ($M$) to the saturated magnetization (${M_\\\\mathrm{max}}$). The plateau state is always a gapped state and the plateau width depends on the gap in the system. Surprisingly, the 3/4 and 5/5 skewed ladders show interesting quadrupolar or n-type spin nematic phases below the 1/3$^{rd}$ plateau, i.e, at very low magnetic fields. These two systems are unique as they host both a plateau and a quadrupolar phase at low magnetic fields. The linear variation of pitch angle of the spin with magnetization and behavior of binding energy of magnon pairs as function of magnetic field are also calculated in both the systems. We also study the contribution of the binding energy to two magnon condensate.', 'Small-angle X-ray and neutron scattering (SAXS and SANS) are powerful techniques in material science and soft matter. In this study, it was addressed how multiple SAXS or SANS datasets are best weighted when doing simultaneous fitting. Three weighting schemes were tested: (1) equal weighting of all datapoints, (2) equal weighting of each dataset through normalization with the number of datapoints, (3) weighting proportional to the information content. The weighing schemes were assessed by model refinement against synthetic data under numerous conditions. The first weighting scheme led to the most accurate parameter estimation, especially when one dataset substantially outnumbered the other(s). Furthermore, it was demonstrated that inclusion of Gaussian priors significantly improved the accuracy of the refined parameters, as compared to common practice, where each parameter is constrained uniformly within an allowed interval.', \"Dissipation is a ubiquitous phenomenon that affects the fate of chaotic quantum many-body dynamics. Here, we show that chaos can be robust against dissipation but can also assist and anomalously enhance relaxation. We compute exactly the dissipative form factor of a generic Floquet quantum circuit with arbitrary on-site dissipation modeled by quantum channels and find that, for long enough times, the system always relaxes with two distinctive regimes characterized by the presence or absence of gap-closing. While the system can sustain a robust ramp for a long (but finite) time interval in the gap-closing regime, relaxation is ``assisted'' by quantum chaos in the regime where the gap remains nonzero. In the latter regime, we prove that, if the thermodynamic limit is taken first, the gap does not close even in the dissipationless limit. We complement our analytical findings with numerical results for quantum qubit circuits.\", \"We study two related universal anomalies of the spectral function of cuprates, so called waterfall and high-energy kink features, by a combined cellular dynamical mean-field theory and angle-resolved photoemission study for the oxychloride Na$_x$Ca$_{2-x}$CuO$_2$Cl$_2$ (Na-CCOC). Tracing their origin back to an interplay of spin-polaron and local correlation effects both in undoped and hole-doped (Na-)CCOC, we establish them as a universal crossover between regions differing in the momentum dependence of the coupling and not necessarily in the related quasiparticles' energies. The proposed scenario extends to doping levels coinciding with the cuprate's superconducting dome and motivates further investigations of the fate of spin-polarons in the superconducting phase.\", 'Topological defects are ubiquitous on surfaces with orientational order fields. Here, we study equilibrium states generated by the feedback between geometry and nematic order on fluid membranes with an integer topological defect. When the Frank elastic constants associated with the orientational field dominate, the surfaces spontaneously deform toward an conical shape featuring an aster topological defect at its apex. In the case of vanishing tension this is a solution to the normal force balance. We show that the stability of the surface depends on the balance of the elastic parameters and the phase of the defect. When boundary constraints are introduced, we observe three distinct modes of deformation. These deformation modes take advantage of the way in which splay, twist and bend distortions of the director field can be exchanged on a curved surface. We discuss how these deformation modes are distinguished by their response to the cost of twist distortions and the existence of inverted solutions. Our findings show that fusion of +1/2 topological defect pairs can reduce the total energy of deformable surfaces. Finally, we argue how these results can be relevant for biological systems.', 'We present a comprehensive study on the longitudinal magneto-thermal transport in a paramagnetic effective spin-1/2 magnetic insulator CsYbSe$_2$, by introducing a minimal model requiring only Zeeman splitting and magnetoelastic coupling. We use it to argue that hybridized excitations -- formed from acoustic phonons and localized spin-flip-excitations across the Zeeman gap of the crystal electric field ground doublet -- are responsible for a non-monotonic field dependence of longitudinal thermal conductivity. Beyond highlighting a starring role for phonons, our results raise the prospect of universal magneto-thermal transport phenomena in paramagnetic insulators that originate from simple features shared across many systems.', 'Search processes often involve multiple agents that collectively search a randomly located target. While increasing the number of agents usually decreases the time at which the first agent finds the target, it also requires resources to create and sustain more agents. In this letter, we consider collective search costs that do not only account for the search time but also for the costs associated with launching and sustaining agents. First a general formalism is presented for independent agents in terms of the target survival probability for a single-agent search, where agents are allowed to be launched at arbitrary times. With this, the optimal number of searchers to be launched simultaneously at the initial time is analytically derived. Then, the optimal times at which later agents should be launched are calculated for different classes of the single-agent survival probabilities demonstrating how short- and long-time behaviors impact the optimal strategies. Finally the costs for launching new searchers are compared with those for resetting a single one.', 'We carry out a systematic study of the electronic and magnetic structure of the ambient-pressure bilayer La$_3$Ni$_2$O$_7$. Employing the hybrid exchange-correlation functional, we show that the exchange-correlation pushes the bonding $d_{z^2}$ bands below the Fermi level to be fully occupied. The calculated Fermi surfaces and the correlation normalized band structure match well with the experimental findings at ambient pressure. Moreover, the electronic susceptibility calculated for this new band structure features nesting-induced peaks near the wave vector $Q=(\\\\pi/2, \\\\pi/2)$, suggesting a possible density wave instability in agreement with recent experiments. Through a mean field study and DFT+U calculation introducing a Hubbard U interaction within conventional density functional theory, we confirm the spin-charge intertwined double stripe order is the magnetic ground state. Our results provide a faithful description for the low-pressure La$_3$Ni$_2$O$_7$ electronic structure.', 'It is well known that a nontrivial Chern number results in quantized Hall conductance. What is less known is that, generically, the Hall response can be dramatically different from its quantized value in materials with broken inversion symmetry. This stems from the leading Hall contribution beyond the linear order, known as the Berry curvature dipole (BCD). While the BCD is in principle always present, it is typically very small outside of a narrow window close to a topological transition and is thus experimentally elusive without careful tuning of external fields, temperature, or impurities. In this work, we transcend this challenge by devising optical driving and quench protocols that enable practical and direct access to large BCD and nonlinear Hall responses. Varying the amplitude of an incident circularly polarized laser drives a topological transition between normal and Chern insulator phases, and importantly allows the precise unlocking of nonlinear Hall currents comparable to or larger than the linear Hall contributions. This strong BCD engineering is even more versatile with our two-parameter quench protocol, as demonstrated in our experimental proposal. Our predictions are expected to hold qualitatively across a broad range of Hall materials, thereby paving the way for the controlled engineering of nonlinear electronic properties in diverse media.', \"Describing the ground states of continuous, real-space quantum many-body systems, like atoms and molecules, is a significant computational challenge with applications throughout the physical sciences. Recent progress was made by variational methods based on machine learning (ML) ansatzes. However, since these approaches are based on energy minimization, ansatzes must be twice differentiable. This (a) precludes the use of many powerful classes of ML models; and (b) makes the enforcement of bosonic, fermionic, and other symmetries costly. Furthermore, (c) the optimization procedure is often unstable unless it is done by imaginary time propagation, which is often impractically expensive in modern ML models with many parameters. The stochastic representation of wavefunctions (SRW), introduced in Nat Commun 14, 3601 (2023), is a recent approach to overcoming (c). SRW enables imaginary time propagation at scale, and makes some headway towards the solution of problem (b), but remains limited by problem (a). Here, we argue that combining SRW with path integral techniques leads to a new formulation that overcomes all three problems simultaneously. As a demonstration, we apply the approach to generalized ``Hooke's atoms'': interacting particles in harmonic wells. We benchmark our results against state-of-the-art data where possible, and use it to investigate the crossover between the Fermi liquid and the Wigner molecule within closed-shell systems. Our results shed new light on the competition between interaction-driven symmetry breaking and kinetic-energy-driven delocalization.\", 'State transfer between different quantum systems is key for successful quantum technologies. Over long distances, photons are irreplaceable, but on short ranges in miniaturized complex devices or hybrid systems, coupling via orders of magnitude shorter wavelength acoustic waves has great potential. With interfaces to light, acoustic waves, and more, optically active quantum dots (QDs) are essential for multi-component systems. Here, we propose a hybrid acousto-optical method of non-resonant QD charge state control as an extension of the recent all-optical swing-up state preparation. We show that exciton and biexciton states or other superpositions of charge states can be prepared. Each field can act as a trigger, so an optically gated acoustic control and the opposite scheme, where an optical pulse controls the transition during acoustic modulation, can be implemented. Thus, we introduce acoustic state control into a system that lacks direct acoustic coupling between the states. The method does not rely on pulse shaping and is expected to work with arbitrary pulse shapes. Evaluating the phonon impact, we find an almost decoherence-free exciton preparation even at elevated temperatures with current QD and acoustic technology. This approach may also pave the way for optically controlled entanglement between emitters and acoustic modes and further on-chip state transfer via quantum acoustic busses.', 'Motivated by systems where a high temperature non-Fermi liquid gives way to low temperature $\\\\mathbb{Z}_3$ Potts nematic order, we studied a three-orbital Sachdev-Ye-Kitaev (SYK) model in the large-$N$ limit. In the single-site limit, this model exhibits a spontaneous orbital-selective transition which preserves average particle-hole symmetry, with two orbitals becoming insulators while the third orbital remains a non-Fermi liquid down to zero temperature. We extend this study to lattice models of three-orbital SYK dots, exploring uniform symmetry broken states on the triangular and cubic lattices. At high temperature, these lattice models exhibit an isotropic non-Fermi liquid metal phase. On the three-dimensional (3D) cubic lattice, the low temperature uniform $\\\\mathbb{Z}_3$ nematic state corresponds to an orbital selective layered state which preserves particle-hole symmetry at small hopping and spontaneously breaks the particle-hole symmetry at large hopping. Over a wide range of temperature, the transport in this layered state shows metallic in-plane resistivity but insulating out-of-plane resistivity. On the 2D triangular lattice, the low temperature state with uniform orbital order is also a correlated $\\\\mathbb{Z}_3$ nematic with orbital-selective transport but it remains metallic in both principal directions. We discuss a Landau theory with $\\\\mathbb{Z}_3$ clock terms which captures salient features of the phase diagram and nematic order in all these models. We also present results on the approximate wavevector dependent orbital susceptibility of the isotropic non-Fermi liquid states.', 'We found signatures of current-induced sliding motion in helimagnetic $\\\\mathrm{Mn}\\\\mathrm{Au}_2$ thin films. An abrupt change in differential resistivity occurred at a threshold bias current in the helimagnetic state, whereas it was absent in the induced ferromagnetic state. Broadband voltage noise also emerged above the threshold current in the helimagnetic state. Based on the similarity to canonical charge/spin density wave systems, we ascribed the origin of these phenomena to the sliding motion of the helimagnetic structure.', \"We study slender, helical elastic rods subject to distributed forces and moments. Focussing on the case when the helix axis remains straight, we employ the method of multiple scales to systematically derive an 'equivalent-rod' theory from the Kirchhoff rod equations: the helical filament is described as a naturally-straight rod (aligned with the helix axis) for which the extensional and torsional deformations are coupled. Importantly, our analysis is asymptotically exact in the limit of a 'highly-coiled' filament (when the helical wavelength is much smaller than the characteristic lengthscale over which the filament bends due to external loading) and is able to account for large, unsteady displacements. In addition, our analysis yields explicit conditions on the external loading that must be satisfied for a straight helix axis. In the small-deformation limit, we exactly recover the coupled wave equations used to describe the free vibrations of helical coil springs, thereby justifying previous equivalent-rod approximations in which linearised stiffness coefficients are assumed to apply locally and dynamically. We then illustrate our theory with two loading scenarios: (I) a heavy helical rod deforming under its own weight; and (II) the dynamics of axial rotation (twirling) in viscous fluid, which may be considered as a simple model for a bacteria flagellar filament. In both scenarios, we demonstrate excellent agreement with solutions of the full Kirchhoff rod equations, even beyond the formal limit of validity of the highly-coiled assumption. More broadly, our analysis provides a framework to develop reduced models of helical rods in a wide variety of physical and biological settings, and yields analytical insight into their elastic instabilities. In particular, our analysis indicates that tensile instabilities are a generic phenomenon when both distributed forces and moments are present.\", \"We study the spectral properties of the adjacency matrix in the giant connected component of Erdös-Rényi random graphs, with average connectivity $p$ and randomly distributed hopping amplitudes. By solving the self-consistent cavity equations satisfied by the matrix elements of the resolvent, we compute the probability distribution of the local density of states, which governs the scaling with the system size of the moments of the eigenvectors' amplitudes, as well as several other observables related to the spectral statistics. For small values of $p>1$ above the percolation threshold, we unveil the presence of an exotic delocalized but (weakly) multifractal phase in a broad region of the parameter space, which separates the localized phase found for $p\\\\le1$ from the fully-delocalized GOE-like phase expected for $p\\\\to \\\\infty$. We explore the fundamental physical mechanism underlying the emergence of delocalized multifractal states, rooted in the pronounced heterogeneity in the topology of the graph. This heterogeneity arises from the interplay between strong fluctuations in local degrees and hopping amplitudes, and leads to an effective fragmentation of the graph. We further support our findings by characterizing the level statistics and the two-point spatial correlations within the multifractal phase, and address the ensuing anomalous transport and relaxation properties affecting the quantum dynamical evolution.\", 'We study the Kondo lattice model of multipolar magnetic moments interacting with conduction electrons on a triangular lattice. Bond-dependent electron hoppings induce a compass-like anisotropy in the effective Ruderman-Kittel-Kasuya-Yosida interaction between multipolar moments. This unique anisotropy stabilizes multipolar skyrmion crystals at zero magnetic field. In a unit cell, the skyrmion fractionalizes into meron composites subject to the conservation of total topological charge. Diverse multipolar phases in the phase diagram give rise to novel spontaneous Hall response of conduction electrons.', 'We propose a new approach to study the transition between different topological states, based on the assessment of the vibrational resonances in infrared spectra. We consider the Haldane and Kane-Mele models finding that Born effective charges are nearly quantized, with a discontinuous jump concomitant with the topological phase transition. In particular, Born effective charges display a finite value in the trivial phase and a null one in the nontrivial one. This is rooted in the connection between Born effective charges and electronic Berry curvature at the band edges. Finally, at the topological phase transition of the Haldane model, we also observe a nearly quantized jump of the chiral splitting of the zone-center phonon frequencies, induced by time-reversal symmetry breaking.', 'The Griffiths phase in systems with quenched disorder occurs below the ordering transition of the pure system down to the ordering transition of the actual disordered system. While it does not exhibit long-range order, large fluctuations in the disorder degrees of freedom result in exponentially rare, long-range ordered states and hence the occurrence of broad distributions in response functions. Inside the Griffiths phase of the two-dimensional bond-diluted Ising model the distribution of the magnetic susceptibility is expected to have such a broad, exponential tail. A large-deviations Monte Carlo algorithm is used to sample this distribution and the exponential tail is extracted over a wide range of the support down to very small probabilities of the order of $10^{-300}$. We study the behavior of the susceptibility distribution across the full phase diagram, from the paramagnetic state through the Griffiths phase to the ferromagnetically ordered system and down to the zero-temperature point. We extract the rate function of large-deviation theory as well as its finite-size scaling behavior and we reveal interesting differences and similarities between the cases. A connection between the fraction of ferromagnetic bonds in a given disorder sample and the size of the magnetic susceptibility is demonstrated numerically.', 'This paper introduces a new approach toward characterizing local structural features of two-dimensional particle systems. The approach can accurately identify and characterize defects in high-temperature crystals, distinguish a wide range of nominally disordered systems, and robustly describe complex structures such as grain boundaries. This paper also introduces two-dimensional functionality into the open-source software program VoroTop which automates this analysis. This software package is built on a recently-introduced multithreaded version of VORO++, enabling the analysis of systems with billions of particles on high-performance computer architectures.', \"Many active systems are capable of forming intriguing patterns at scales significantly larger than the size of their individual constituents. Cyanobacteria are one of the most ancient and important phyla of organisms that has allowed the evolution of more complex life forms. Despite its importance, the role of motility on the pattern formation of their colonies is not understood. Here, we investigate the large-scale collective effects and rich dynamics of gliding filamentous cyanobacteria colonies, while still retaining information about the individual constituents' dynamics and their interactions. We investigate both the colony's transient and steady-state dynamics and find good agreement with experiments. We furthermore show that the Peclet number and aligning interaction strength govern the system's topological transition from an isotropic distribution to a state of large-scale reticulate patterns. Although the system is topologically non-trivial, the parallel and perpendicular pair correlation functions provide structural information about the colony, and thus can be used to extract information about the early stages of biofilm formation. Finally, we find that the effects of the filaments' length cannot be reduced to a system of interacting points. Our model proves to reproduce both cyanobacteria colonies and systems of biofilaments where curvature is transported by motility.\", \"Focusing on Bethe-ansatz integrable models, robust to both time-reversal symmetry breaking and disorder, we consider the Russian Doll Model (RDM) for finite system sizes and energy levels. Suggested as a time-reversal-symmetry breaking deformation of Richardson's model, the well-known and simplest model of superconductivity, RDM revealed an unusual cyclic renormalization group (RG) over the system size $N$, where the energy levels repeat themselves, shifted by one after a finite period in $\\\\ln N$, supplemented by a hierarchy of superconducting condensates, with the superconducting gaps following the so-called Efimov (exponential) scaling. The equidistant single-particle spectrum of RDM made the above Efimov scaling and cyclic RG to be asymptotically exact in the wideband limit of the diagonal potential. Here, we generalize this observation in various respects. We find that, beyond the wideband limit, when the entire spectrum is considered, the periodicity of the spectrum is not constant, but appears to be energy-dependent. Moreover, we resolve the apparent paradox of shift in the spectrum by a single level after the RG period, despite the disappearance of a finite fraction of energy levels. We also analyze the effects of disorder in the diagonal potential on the above periodicity and show that it survives only for high energies beyond the energy interval of the disorder amplitude. Our analytic analysis is supported with exact diagonalization.\", 'We identify a new mechanism for the intrinsic superconducting diode effect (SDE) in multiphase superconductors. Using a Ginzburg-Landau and a microscopic two-band model, we find phase transitions into a mixed phase with finite-momentum Cooper pairs and SDE with high (including maximal) diode efficiencies, despite the individual phases exhibiting no SDE and equal inversion parity. We thus show that parity mixing $-$ invoked in previous proposals $-$ is not a crucial ingredient for SDE. The new mechanism may be relevant in a multitude of known multiphase superconductors like UTe$_2$.', 'Two dimensional materials subject to long-wavelength modulations have emerged as novel platforms to study topological and correlated quantum phases. In this article, we develop a versatile and computationally inexpensive method to predict the topological properties of materials subjected to a superlattice potential by combining degenerate perturbation theory with the method of symmetry indicators. In the absence of electronic interactions, our analysis provides a systematic rule to find the Chern number of the superlattice-induced miniband starting from the harmonics of the applied potential and a few material-specific coefficients. Our method also applies to anomalous (interaction-generated) bands, for which we derive an efficient algorithm to determine all Chern numbers compatible with a self-consistent solution to the Hartree-Fock equations. Our approach gives a microscopic understanding of the quantum anomalous Hall insulators recently observed in rhombohedral graphene multilayers.', 'I formulate the theory of three dimensional \"Malthusian flocks\" -- i.e., coherently moving collections of self-propelled entities (such as living creatures) which are being \"born\" and \"dying\" during their motion -- whose constituents all have a preference for having their velocity vectors lie parallel to the same two-dimensional plane. I determine the universal scaling exponents characterizing such systems exactly, finding that the dynamical exponent $z=3/2$, the \"anisotropy\" exponent $\\\\zeta=3/4$, and the \"roughness\" exponent $\\\\chi=-1/2$. I also give the scaling laws implied by these exponents.', 'We present a computational study to explore the potential of different experimental approaches to tune the magnetic interactions in two-dimensional van der Waals magnets. We selected CrGeSe$_3$, CrGeTe$_3$, and Janus Cr$_2$Ge$_2$(Se,Te)$_3$ monolayers as case studies and calculated the full exchange tensors among all relevant atomic pairs and analyze their dependence on different external parameters, such as biaxial and uniaxial strain, as well as gate voltage. We pay special attention to interactions that emerge or vanish due to changes of the symmetry of the system. We find that biaxial and uniaxial strains significantly modify isotropic exchange couplings, which can lead to a transition from a ferromagnetic to an antiferromagnetic phase, while a gate voltage induces Dzyaloshinskii-Moriya interactions, forming a vortex pattern whose chirality is determined by the sign of the electric field. The electric dipole moment of the Janus material is large, raising the possibility of multiferroic behaviour. The polarizability is similar for the three compounds.', 'Large language models show a surprising in-context learning ability -- being able to use a prompt to form a prediction for a query, yet without additional training, in stark contrast to old-fashioned supervised learning. Providing a mechanistic interpretation and linking the empirical phenomenon to physics are thus challenging and remain unsolved. We study a simple yet expressive transformer with linear attention and map this structure to a spin glass model with real-valued spins, where the couplings and fields explain the intrinsic disorder in data. The spin glass model explains how the weight parameters interact with each other during pre-training, and further clarifies why an unseen function can be predicted by providing only a prompt yet without further training. Our theory reveals that for single-instance learning, increasing the task diversity leads to the emergence of in-context learning, by allowing the Boltzmann distribution to converge to a unique correct solution of weight parameters. Therefore the pre-trained transformer displays a prediction power in a novel prompt setting. The proposed analytically tractable model thus offers a promising avenue for thinking about how to interpret many intriguing but puzzling properties of large language models.', \"Burgess et al. have recently introduced the BLOR corrective exchange-correlation functional that is, by construction, the unique simplified rotationally-invariant DFT+U functional that enforces the flat-plane condition separately on each effective orbital of a localized subspace. Detached from the Hubbard model, functionals of this type are both double-counting correction free and, when optimized in situ using appropriate error quantifiers, effectively parameter free. In this work, the extension of the BLOR functional to address many-body errors (mBLOR) is derived. The mBLOR functional is built to enforce the flat-plane condition on the entire subspace, rather than on each orbital individually. In this way inter-orbital errors are corrected on the same footing as the single-particle ones. Focusing on exact test cases with strong inter-orbital interactions, the BLOR and mBLOR functionals were benchmarked against contemporary DFT+U functionals using the total energy extensivity condition on stretched homo-nuclear p-block dimers that represent various self-interaction and static-correlation error regimes. The BLOR functional outperformed all other DFT+$U$ functionals tested, which often act to increase total-energy errors, yet it still yielded large errors in some systems. mBLOR instead yielded low energy errors across all four strongly-correlated dimers, while being constructed using only semi-local approximation ingredients. As mBLOR would not otherwise introduce a band-gap correction in the manner that is a desirable feature of DFT+U, we developed a cost-free technique to reintroduce it automatically by moving the functional's unusual explicit derivative discontinuity into the potential. With this in place, mBLOR is the only known DFT$+U$ functional that opens the bandgap of stretched neutral homo-nuclear dimers without the aid of unphysical spin-symmetry breaking.\", 'We investigate numerically the identification of relevant structural features that contribute to the dynamical heterogeneity in a model glass-forming liquid. By employing the recently proposed information imbalance technique, we select these features from a range of physically motivated descriptors. This selection process is performed in a supervised manner (using both dynamical and structural data) and an unsupervised manner (using only structural data). We then apply the selected features to predict future dynamics using a machine learning technique. Finally, we discuss the potential applications of this approach in identifying the dominant mechanisms governing the glassy slow dynamics.', 'Optically inactive (dark) intervalley momentum-forbidden excitons are characterized by relatively long life time, and therefore are desirable candidates for realizing collective excitonic phases. However, testing their coherence by light directly is impossible. Here we propose a method for detecting a dark excitonic condensate. It relies on the interaction between excitons and phonons responsible for the interconversion between bright and dark excitons. As long as the dark condensate forms, the Rabi oscillations between photons and bright excitons can become strongly modified, and can be viewed as the photon-exciton-phonon polaritonic effect. The multi-component nature of the dark condensate consistent with the point-group symmetry is taken into account in the limit of weak phonon-exciton interaction. A perspective for the case of the strong interaction leading to the polaronic effect is discussed.', 'We investigate how the signatures of the topological properties of the bandstructures for nodal-point semimetals are embedded in the response coefficients, arising in two distinct experimental set-ups, by taking the Rarita-Schwinger-Weyl (RSW) semimetal as an example. The first scenario involves the computation of third-rank tensors representing second-order response coefficients, relating the charge/thermal current densities to the combined effects of the gradient of the chemical potential and an external electric field/temperature gradient. On the premises that internode scatterings can be ignored, the relaxation-time approximation leads to a quantized value for the nonvanishing components of each of these nonlinear response tensors, characterizing a single untilted RSW node. Furthermore, the final expressions turn out to be insensitive to the specific values of the chemical potential and the temperature. The second scenario involves computing the magnetoelectric conductivity under the action of collinear electric ($\\\\mathbf E$) and magnetic ($\\\\mathbf B$) fields, representing a planar Hall set-up. In particular, our focus is in bringing out the dependence of the linear-in-$|\\\\mathbf B|$ parts of the conductivity tensor on the intrinsic topological properties of the bandstructure, which are nonvanishing only in the presence of a nonzero tilt in the energy spectrum.', 'Voltage is a sensitive quantity to quantum interference in coherent electronic transport. We study the voltage fluctuations in disordered graphene nanoribbons with zigzag and armchair edge terminations in a four-terminal configuration. We show that the average and standard deviation of the voltage oscillates with the separation of the attached voltage probes and depend on the coupling strength of the probes. The voltage fluctuations can be large enough to observe negative voltages for weakly coupled probes. As we numerically verified, the voltage fluctuations are described within a random matrix approach for weakly disordered nanoribbons at energies away from the Fermi energy. However, near the Fermi energy, zigzag nanoribbons exhibit Anderson localization, whereas electrons are anomalously localized in armchair nanoribbons. This distinction leads to different voltage statistics for zigzag and armchair nanoribbons.', 'We develop a 1D model of twin branching in shape memory alloys. The free energy of the branched microstructure comprises the interfacial and elastic strain energy contributions, both expressed in terms of the average twin spacing treated as a continuous function of the position. The total free energy is then minimized, and the corresponding Euler-Lagrange equation is solved numerically using the finite element method. The model can be considered as a continuous counterpart of the recent discrete model of Seiner et al. (2020), and our results show a very good agreement with that model in the entire range of physically relevant parameters. Furthermore, our continuous setting facilitates incorporation of energy dissipation into the model. The effect of rate-independent dissipation on the evolution of the branched microstructure is thus studied. The results show that significant effects on the microstructure and energy of the system are expected only for relatively small domain sizes.', 'Long-time tails, or algebraic decay of time-correlation functions, have long been known to exist both in many-body systems and in models of non-interacting particles in the presence of quenched disorder that are often referred to as Lorentz models. In the latter, they have been studied extensively by a wide variety of methods, the best known example being what is known as weak-localization effects in disordered systems of non-interacting electrons. This paper provides a unifying, and very simple, approach to all of these effects. We show that simple modifications of the diffusion equation due to either a random diffusion coefficient, or a random scattering potential, accounts for both the decay exponents and the prefactors of the leading long-time tails in the velocity autocorrelation functions of both classical and quantum Lorentz models.', \"In thermal environments, information processing requires thermodynamic costs determined by the second law of thermodynamics. Information processing within finite time is particularly important, since fast information processing has practical significance but is inevitably accompanied by additional dissipation. In this paper, we reveal the fundamental thermodynamic costs and the tradeoff relations between incompatible information processing such as measurement and feedback in the finite-time regime. To this end, we introduce a general framework based on the concept of the Pareto front for thermodynamic costs, revealing the existence of fundamental tradeoff relations between them. Focusing on discrete Markov jump processes, we consider the tradeoff relation between thermodynamic activities, which in turn determines the tradeoff relation between entropy productions. To identify the Pareto fronts, we introduce a new Wasserstein distance that captures the thermodynamic costs of subsystems, providing a geometrical perspective on their structure. Our framework enables us to find the optimal entropy production of subsystems and the optimal time evolution to realize it. In an illustrative example, we find that even in situations where naive optimization of total dissipation cannot realize the function of Maxwell's demon, reduction of the dissipation in the feedback system according to the tradeoff relation enables the realization of the demon. We also show that an optimal Maxwell's demon can be implemented by using double quantum dots. Furthermore, our framework is applicable to larger scale systems with multiple states, as demonstrated by a model of chemotaxis. Our results would serve as a designing principle of efficient thermodynamic machines performing information processing, from single electron devices to biochemical signal transduction.\", \"Understanding lattice dynamics and thermal transport in crystalline compounds with intrinsically low lattice thermal conductivity ($\\\\kappa_L$) is crucial in condensed matter physics. In this work, we investigate the lattice thermal conductivity of crystalline CsCu$_4$Se$_3$ by coupling first-principles anharmonic lattice dynamics with a unified theory of thermal transport. We consider the effects of both cubic and quartic anharmonicity on phonon scattering rates and energy shifts, as well as the diagonal and off-diagonal terms of heat flux operators. Our results reveal that the vibrational properties of CsCu$_4$Se$_3$ are characterized by strong anharmonicity and wave-like phonon tunneling. In particular, the strong anharmonic scattering induced by Cu- and Cs-dominated phonon modes plays a non-negligible role in suppressing particle-like propagation. Moreover, the coherence-driven conductivity dominates the total thermal conductivity along the $z$-axis, leading to an anomalous, wide-temperature-range (100-700 K) glassy-like thermal transport. Importantly, the significant coherence contribution, resulting from the coupling of distinct vibrational eigenstates, facilitates effective thermal transport across layers, sharply contrasting with traditional layered materials. As a result, the non-monotonic temperature dependence of coherences' thermal conductivity results from the combined effects of anharmonic scattering rates and anharmonic phonon renormalization. Our work not only reveals the significant contributions from the off-diagonal terms of heat flux operators in crystalline CsCu$_4$Se$_3$, but also explains the non-monotonic relationship between wave-like thermal conductivity and anharmonic scattering, providing insights into the microscopic mechanisms driving anomalous heat transport.\", 'X-ray absorption spectroscopy (XAS) is a powerful characterization technique for probing the local chemical environment of absorbing atoms. However, analyzing XAS data presents significant challenges, often requiring extensive, computationally intensive simulations, as well as significant domain expertise. These limitations hinder the development of fast, robust XAS analysis pipelines that are essential in high-throughput studies and for autonomous experimentation. We address these challenges with OmniXAS, a framework that contains a suite of transfer learning approaches for XAS prediction, each contributing to improved accuracy and efficiency, as demonstrated on K-edge spectra database covering eight 3d transition metals (Ti-Cu). The OmniXAS framework is built upon three distinct strategies. First, we use M3GNet to derive latent representations of the local chemical environment of absorption sites as input for XAS prediction, achieving up to order-of-magnitude improvements over conventional featurization techniques. Second, we employ a hierarchical transfer learning strategy, training a universal multi-task model across elements before fine-tuning for element-specific predictions. Models based on this cascaded approach after element-wise fine-tuning outperform element-specific models by up to 69%. Third, we implement cross-fidelity transfer learning, adapting a universal model to predict spectra generated by simulation of a different fidelity with a higher computational cost. This approach improves prediction accuracy by up to 11% over models trained on the target fidelity alone. Our approach boosts the throughput of XAS modeling by orders of magnitude versus first-principles simulations and is extendable to XAS prediction for a broader range of elements. This transfer learning framework is generalizable to enhance deep-learning models that target other properties in materials research.', 'We propose a minimal model starting from a parent Chern band with quartic dispersion that can describe the spin-valley polarized electrons in rhombohedral tetra-layer graphene. The interplay between repulsive and attractive interactions on top of that parent Chern band is studied. We conduct standard self-consistent mean-field calculations, and find a rich phase diagram that consists of metal, quantum anomalous Hall crystal, chiral topological superconductor, as well as trivial gapped Bose-Einstein condensate. In particular, there exists a topological phase transition from the chiral superconductor to the Bose-Einstein condensate at zero temperature. Motivated by the recent experimental and theoretical studies of composite Fermi liquid in rhombohedral stacked multi-layer graphene, we further generalize the physical electron model to its composite fermion counterpart based on a field theory analysis. The chiral superconductor phase of the composite fermion becomes the non-Abelian Moore-Read quantum Hall phase. We argue that a chiral (pseudo-)spin liquid phase can emerge in the vicinity of this Moore-Read quantum Hall phase. Our work suggests rhombohedral multi-layer graphene as a potential platform for rich correlated topological phases.', 'The dynamics of overdamped Josephson junctions under varying microwave-driving conditions have been studied through numerical simulations using the resistively-shunted junction (RSJ) model. The aim is to determine the optimal junction characteristics and external microwave (rf) parameters that maximize the width of quantum voltage levels (Shapiro steps) from order n = 0 to n > 1. Both the rf and dc power requirements, along with the junction parameter spread and power attenuation, are analyzed as key factors that need to be optimized for improved performance of the quantum device. This work aims to advance the development of next-generation Programmable Josephson Voltage Standards with logic architectures that surpass the conventional binary and ternary codifications used in present quantum voltage arrays, while significantly reducing the overall number of junctions as well as the number of sub-arrays and bias lines.', 'Periodically driven (Floquet) systems have attracted growing attention due to the emergence of intriguing phenomena that are absent in equilibrium physics. In this letter, we identify a new class of Floquet criticality characterized by nontrivial topology. For generic driven Majorana fermion chains with chiral symmetry, we analytically demonstrate that Floquet driving can enrich the transition point, resulting in topologically distinct quantum critical lines that are absent in undriven systems. Furthermore, we provide an intuitive physical explanation for the underlying mechanism of the nontrivial topology at Floquet criticality and generalize our results to higher dimensions. This work not only extends the scope of topological physics in Floquet systems but also deepens our understanding of gapless topological phases of matter.', 'We apply density functional theory to explore the magnetoelectric (ME) properties of two-dimensional $\\\\mathrm{Nb}_3\\\\mathrm{(Cl,Br,I)}_8$. These compounds have recently been proposed to exhibit coupled ferroelectric and ferromagnetic order leading to a switchable anomalous valley Hall effect (AVHE). Using both spin-spiral and self-consistent spin-orbit coupled calculations, we predict an in-plane $120^\\\\circ$ cycloid of trimerized spins as the ground state for $\\\\mathrm{Nb}_3\\\\mathrm{Cl}_8$. For $\\\\mathrm{Nb}_3\\\\mathrm{Br}_8$ and $\\\\mathrm{Nb}_3\\\\mathrm{I}_8$ we find long period incommensurate helical order. We calculate a number of magnetic properties such as the exchange constants, orbital magnetization, and Weiss temperatures. It is then shown that, despite having both broken inversion and time-reversal symmetry, the proposed AVHE and linear ME response are forbidden by the presence of helical order in the ground state. In addition, the computed switching trajectory demonstrates that it is unlikely that the polar state of the monolayers can be switched with a homogeneous electric field due to an unusual equation of state of the out-of-plane dipole moment. Nevertheless, we highlight that in the presence of a strong electric field, the trimerized spins in $\\\\mathrm{Nb}_3\\\\mathrm{Cl}_8$ will exhibit a magnetic phase transition from the $120^\\\\circ$ cycloid to out-of-plane ferromagnetic order, which restores the symmetry required for both AVHE and linear ME effects.', \"We present a proof-of-concept design for an atomtronic rotation sensor consisting of an array of ``double-target'' Bose-Einstein condensates (BECs). A ``target'' BEC is a disk-shaped condensate surrounded by a concentric ring-shaped condensate. A ``double-target'' BEC is two adjacent target BECs whose ring condensates partially overlap. The sensor consists of an $n\\\\times m$ array of these double-target BECs. The measurement of the frame rotation speed, $\\\\Omega_{R}$, is carried out by creating the array of double-target BECs (setup step), inducing one unit of quantized flow in the top ring of each member of the array (initialization step), applying potential barriers in the overlap region of each member (measurement step), and observing whether the induced flow is transferred from the top to the bottom ring in each member (readout step). We describe a set of simulations showing that a single instance of a double-target BEC behaves in a way that enables the efficient operation of an $n\\\\times m$ array for measuring $\\\\Omega_{R}$. As an example of sensor operation we present a simulation showing that a 2$\\\\times$2 array can be designed to measure $\\\\Omega_{R}$ in a user-specified range.\", 'Quantum dot-based spin qubit realization is one of the most promising quantum computing systems owing to its integrability with classical computation hardware and its versatility in realizing qubits and quantum gates. In this work, we investigate a quantum dot-based universal set of quantum gates (single qubit gates and the Toffoli gate) in the presence of hyperfine fluctuation noise and phononic charge noise. We model the spin dynamics and noise processes in the NOT gate, Hadamard gate and the Toffoli gate using the Lindblad master equation formalism to estimate the operating ranges of the external static and ac magnetic fields to achieve high fidelity operation of these gates in a noisy environment. In addition, the generality of the framework proposed in this paper enables modeling of larger quantum processors based on spin qubits in realistic conditions.', 'Computing the partition function, $Z$, of an Ising model over a graph of $N$ \\\\enquote{spins} is most likely exponential in $N$. Efficient variational methods, such as Belief Propagation (BP) and Tree Re-Weighted (TRW) algorithms, compute $Z$ approximately by minimizing the respective (BP- or TRW-) free energy. We generalize the variational scheme by building a $\\\\lambda$-fractional interpolation, $Z^{(\\\\lambda)}$, where $\\\\lambda=0$ and $\\\\lambda=1$ correspond to TRW- and BP-approximations, respectively. This fractional scheme -- coined Fractional Belief Propagation (FBP) -- guarantees that in the attractive (ferromagnetic) case $Z^{(TRW)} \\\\geq Z^{(\\\\lambda)} \\\\geq Z^{(BP)}$, and there exists a unique (\\\\enquote{exact}) $\\\\lambda_*$ such that $Z=Z^{(\\\\lambda_*)}$. Generalizing the re-parametrization approach of \\\\citep{wainwright_tree-based_2002} and the loop series approach of \\\\citep{chertkov_loop_2006}, we show how to express $Z$ as a product, $\\\\forall \\\\lambda:\\\\ Z=Z^{(\\\\lambda)}{\\\\tilde Z}^{(\\\\lambda)}$, where the multiplicative correction, ${\\\\tilde Z}^{(\\\\lambda)}$, is an expectation over a node-independent probability distribution built from node-wise fractional marginals. Our theoretical analysis is complemented by extensive experiments with models from Ising ensembles over planar and random graphs of medium and large sizes. Our empirical study yields a number of interesting observations, such as the ability to estimate ${\\\\tilde Z}^{(\\\\lambda)}$ with $O(N^{2::4})$ fractional samples and suppression of variation in $\\\\lambda_*$ estimates with an increase in $N$ for instances from a particular random Ising ensemble, where $[2::4]$ indicates a range from $2$ to $4$. We also discuss the applicability of this approach to the problem of image de-noising.', 'Grover\\'s algorithm is a primary algorithm offered as evidence that quantum computers can provide an advantage over classical computers. It involves an \"oracle\" specified for a given application whose structure is not part of the formal scaling of the quadratic speedup guaranteed by the algorithm. Grover\\'s algorithm also requires exponentially many calls to the quantum oracle to succeed (about $\\\\sqrt{2^n}$ calls for $n$ qubits), raising the question of its implementation on both noisy and error-corrected quantum computers. In this work, we construct a quantum-inspired algorithm, executable on a classical computer, that performs Grover\\'s task in a linear number of calls to (simulations of) the oracle - an exponentially smaller number than Grover\\'s algorithm - and demonstrate this algorithm explicitly for Boolean satisfiability problems. The complexity of our algorithm depends on the cost to simulate the oracle once which may or may not be exponential. Indeed, Grover\\'s algorithm does not have an a priori quantum speedup as soon as one is given access to the \"source code\" of the oracle. Our findings illustrate this point explicitly as our algorithm exploits the structure of the quantum circuit used to program the quantum computer to speed up the search. There remain problems where Grover\\'s algorithm would provide an asymptotic speedup if it could be run accurately for large enough sizes. Our quantum-inspired algorithm provides lower bounds, in terms of circuit complexity, for quantum hardware to beat classical approaches for these problems. These estimates, combined with the unfavorable scaling of the success probability of Grover\\'s algorithm - which in the presence of noise decays as a double exponential in the number of qubits - makes a practical speedup unrealistic even under extremely optimistic assumptions of the evolution of both hardware quality and availability.', 'Within the histories formalism the decoherence functional is a formal tool to investigate the emergence of classicality in isolated quantum systems, yet an explicit evaluation of it from first principles has not been reported. We provide such an evaluation for up to five-time histories based on exact numerical diagonalization of the Schrödinger equation. We find a robust emergence of decoherence for slow and coarse observables of a generic random matrix model and extract a finite size scaling law by varying the Hilbert space dimension over four orders of magnitude. Specifically, we conjecture and observe an exponential suppression of coherent effects as a function of the particle number of the system. This suggests a solution to the preferred basis problem of the many worlds interpretation (or the set selection problem of the histories formalism) within a minimal theoretical framework -- without relying on environmentally induced decoherence, quantum Darwinism, Markov approximations, low-entropy initial states or ensemble averages.', 'Autonomous vehicles are essential to future transportation systems, potentially reducing traffic congestion. This study examines the impact of different vehicle control strategies on traffic flow through simulations. We propose a novel stochastic cellular automaton model, the controlled stochastic optimal velocity (CSOV) model, which incorporates vehicle control effects. Within the CSOV model, two control strategies are implemented: gap-based control (GC), which adjusts vehicle velocity to balance the gaps between adjacent vehicles, and flow-based control (FC), which aims to maintain a consistent local flow between the front and rear vehicles. Results show that both control strategies improve traffic flow. However, under weaker control, the GC sometimes resulted in lower flow compared to no control. In contrast, the FC consistently enhanced flow across control strengths, yielding more robust outcomes. Furthermore, when both strategies achieved comparable flow rates, the FC provided a more stable velocity distribution under varying traffic densities than the GC.', 'Transport in open quantum systems can be explored through various theoretical frameworks, including the quantum master equation, scattering matrix, and Heisenberg equation of motion. The choice of framework depends on factors such as the presence of interactions, the coupling strength between the system and environment, and whether the focus is on steady-state or transient regimes. Existing literature treats these frameworks independently, lacking a unified perspective. Our work addresses this gap by clarifying the role and status of these approaches using a minimal single-level quantum dot model in a two-terminal setup under voltage and temperature biases. We derive analytical expressions for particle and energy currents and their fluctuations in both steady-state and transient regimes. Exact results from the Heisenberg equation are shown to align with scattering matrix and master equation approaches within their respective validity regimes. Crucially, we establish a protocol for the weak-coupling limit, bridging the applicability of master equations at weak-coupling with Heisenberg or scattering matrix approaches at arbitrary coupling strength.', 'We establish a connection between tagged particles and size-biased empirical processes in interacting particle systems, in analogy to classical results on the propagation of chaos. In a mean-field scaling limit, the evolution of the occupation number on the tagged particle site converges to a time-inhomogeneous Markov process with non-linear master equation given by the law of large numbers of size-biased empirical measures. The latter are important in recent efforts to understand the dynamics of condensation in interacting particle systems.', 'The status of the Chiral Magnetic Effect (CME) response in full Quantum Chromodynamics (QCD) has been controversial so far, with previous lattice QCD studies indicating either its strong suppression or vanishing in thermal equilibrium state. We introduce the Euclidean-time correlator of axial charge and electric current as an observable that can be used to study the finite out-of-equilibrium CME response in first-principle lattice QCD simulations with background magnetic field. This observable directly reflects the fact that in the background magnetic field, a state with nonzero axial charge features nonzero electric current. For free fermions, the axial-vector correlator only receives contributions from the Lowest Landau Level, and exhibits a linear dependence on both magnetic field and temperature with a universal coefficient. With an appropriate regularization, non-vanishing axial-vector correlator is compatible with the vanishing of the CME current in thermal equilibrium state with nonzero chiral chemical potential $\\\\mu_5$. We demonstrate that the real-time counterpart of the Euclidean-time axial-vector correlator is intimately related to the real-time form of the axial anomaly equation, which strongly limits possible corrections in full QCD. We present numerical results for the Euclidean-time axial-vector correlator in $SU(2)$ lattice gauge theory with $N_f = 2$ light quark flavours, demonstrating reasonable agreement with free fermion result on both sides of the chiral crossover. The proposed methodology should help to answer the question whether the QCD corrections might be responsible for non-observation of CME in heavy-ion collision experiments such as the RHIC isobar run.', 'We introduce new diagnostics of the transition between the ergodic and many-body localization phases, which are based on complexity measures defined via the probability distribution function of the Lanczos coefficients of the tri-diagonalized Hamiltonian. We use these complexity measures to analyze the power-law random banded matrix model as a function of the correlation strength and show that the moments and the entropy of the distribution diagnose the ergodic to many-body transition, as well as the distinctive feature of the phases concerning the memory of the initial conditions.', 'World-wide efforts aim at the realization of advanced quantum simulators and processors. However, despite the development of intricate hardware and pulse control systems, it may still not be generally known which effective quantum dynamics, or channels, are implemented on these devices. To systematically infer those, we propose a neural-network algorithm approximating generic discrete-time dynamics through the repeated action of an effective quantum channel. We test our approach considering time-periodic Lindblad dynamics as well as non-unitary subsystem dynamics in many-body unitary circuits. Moreover, we exploit it to investigate cross-talk effects on the ibmq_ehningen quantum processor, which showcases our method as a practically applicable tool for inferring quantum channels when the exact nature of the underlying dynamics on the physical device is not known a priori. While the present approach is tailored for learning Markovian dynamics, we discuss how it can be adapted to also capture generic non-Markovian discrete-time evolutions.', 'Quantum magic, or nonstabilizerness, provides a crucial characterization of quantum systems, regarding the classical simulability with stabilizer states. In this work, we propose a novel and efficient algorithm for computing stabilizer Rényi entropy, one of the measures for quantum magic, in spin systems with sign-problem free Hamiltonians. This algorithm is based on the quantum Monte Carlo simulation of the path integral of the work between two partition function ensembles and it applies to all spatial dimensions and temperatures. We demonstrate this algorithm on the one and two dimensional transverse field Ising model at both finite and zero temperatures and show the quantitative agreements with tensor-network based algorithms. Furthermore, we analyze the computational cost and provide both analytical and numerical evidences for it to be polynomial in system size.', 'The discovery of the non-Hermitian skin effect (NHSE) has revolutionized our understanding of wave propagation in non-Hermitian systems, highlighting unexpected localization effects beyond conventional theories. Here, we discover that NHSE, accompanied by multitype spectral phases, can be induced by manipulating nonconservative couplings. By characterizing the spectra through the windings of the energy bands, we demonstrate that band structures with identical, opposite, and even twisted windings can be achieved. These inequivalent types of spectra originate from the multichannel interference resulting from the interplay between conservative and nonconservative couplings. Associated with the multitype spectra, unipolar and bipolar NHSE with different eigenmode localizations can be observed. Additionally, our findings link the nonreciprocal transmission properties of the system to multiple spectral phases, indicating a connection with the skin modes. This paper paves new pathways for investigating non-Hermitian topological effects and manipulating nonreciprocal energy flow.', 'Thin film interference is integral to modern photonics and optoelectronics, e.g. allowing for precise design of high performance optical filters, efficiency enhancements in photovoltaics and light-emitting devices, as well as the realization of microlasers and high-performance photodetectors. However, interference inevitably leads to a change of spectral characteristics with angle, which is generally undesired and can limit the usefulness of thin-film coatings and devices. Here, we introduce a strategy to overcome this fundamental limit in optics by utilizing and tuning the exciton-polariton modes arising in ultra-strongly coupled microcavities. We demonstrate optical filters with narrow pass bands that shift by less than their half width (<15 nm) even at extreme angles. Our filters cover the entire visible range and surpass comparable metal-dielectric-metal filters in all relevant metrics. By expanding this strategy to strong coupling with the photonic sidebands of dielectric multilayer stacks, we also obtain filters with high extinction ratios and up to 98% peak transmission. Based on these findings, we realize ultrathin and flexible narrowband filter films, monolithically integrate our filters with organic photodiodes, and demonstrate polarization-sensitive polariton filters. These results illustrate how strong coupling provides additional degrees of freedom in thin film optics that will enable a multitude of exciting new applications in micro-optics, sensing, and biophotonics.', 'We present a framework for simulating the open dynamics of spin-boson systems by combining variational non-Gaussian states with a quantum trajectories approach. We apply this method to a generic spin-boson Hamiltonian that has both Tavis-Cummings and Holstein type couplings, and which has broad applications to a variety of quantum simulation platforms, polaritonic physics, and quantum chemistry. Additionally, we discuss how the recently developed truncated Wigner approximation for open quantum systems can be applied to the same Hamiltonian. We benchmark the performance of both methods and identify the regimes where each method is best suited to. Finally we discuss strategies to improve each technique.', \"Quasicrystals are unique materials characterized by long-range order without periodicity. They are observed in systems such as metallic alloys, soft matter, and particle simulations. Unlike periodic crystals, which are invariant under real-space symmetry operations, quasicrystals possess symmetry that requires description by a space group in reciprocal space. In this study, we report the self-assembly of a six-fold chiral quasicrystal using molecular dynamics simulations of a two-dimensional particle system. The particles interact via the Lennard-Jones-Gauss pair potential and are subjected to a periodic substrate potential. We confirm the presence of chiral symmetry through diffraction patterns and order parameters, revealing unique local motifs in both real and reciprocal space. The quasicrystal's properties, including the tiling structure and symmetry and the extent of diffuse scattering, are strongly influenced by substrate potential depth and temperature. Our results provide insights into the mechanisms of chiral quasicrystal formation and the role and potential of external fields in tailoring quasicrystal structures.\", 'We show that Hall conductance and its non-abelian and higher-dimensional analogs are obstructions to promoting a symmetry of a state to a gauge symmetry. To do this, we define a local Lie algebra over a Grothendieck site as a pre-cosheaf of Lie algebras with additional properties and propose that a gauge symmetry should be described by such an object. We show that infinitesimal symmetries of a gapped state of a quantum spin system form a local Lie algebra over a site of semilinear sets and use it to construct topological invariants of the state. Our construction applies to lattice systems on arbitrary asymptotically conical subsets of a Euclidean space including those which cannot be studied using field theory.', 'arXiv Operational Status \\n                    Get status notifications via\\n                    email\\n                    or slack']\n"
          ]
        }
      ]
    },
    {
      "cell_type": "code",
      "source": [
        "print(documents)#just for test to see our labeled databases"
      ],
      "metadata": {
        "id": "GPAgXNUVsz6F",
        "colab": {
          "base_uri": "https://localhost:8080/"
        },
        "outputId": "b8dccfb1-33e1-474e-a7a9-c8fe26499348"
      },
      "execution_count": 42,
      "outputs": [
        {
          "output_type": "stream",
          "name": "stdout",
          "text": [
            "{'magnetic': ['The interaction between surface acoustic waves and magnetization offers an efficient route for electrically controlling magnetic states. Here, we demonstrate the excitation of magnetoacoustic waves in galfenol, a highly magnetostrictive alloy made of iron (72%) and gallium (28%). We quantify the amplitude of the induced magnetization oscillations using magnetic imaging in an X-ray photoelectron microscope and estimate the dynamic magnetoelastic constants through micromagnetic simulations. Our findings demonstrate the potential of galfenol for magnonic applications and reveal that, despite strong magnetoelastic coupling, magnetic interactions and spin-wave dispersion relations significantly influence the overall amplitude of magnetoacoustic waves.', 'SAWs are MHz-GHz strain waves that propagate along the surface of a solid[13, 14] and can originate from oscillating voltages through interdigital transducers (IDTs) in a piezoelectric material. These waves create an oscillating strain that can induce a varying magnetic anisotropy field in a magnetostrictive material.[15, 16, 17] The GHz frequency range is particularly relevant for magnetization dynamics because it matches internal resonance energies, and the associated spin waves have wavelengths in the nanometer-micrometer range.', 'Previous studies in galfenol with lower Ga content (18−20%18percent2018-20\\\\%18 - 20 %) have used SAWs to reduce the coercive field in thin films[31] and create magnetic patterns [32] at the microscale, demonstrating the potential for controlling magnetic states with oscillating strain. Field sensors have been proposed based on the field-dependent SAW absorption observed in thick FeGa films.[33, 34] However, direct measurements of magnetoelastic waves and the quantification of magnetoelastic coefficients in the GHz regime are still lacking.', 'The sample under study consists of a piezoelectric 127.86 deg Y-cut LiNbO3 substrate and a 10-nm-thick FeGa film deposited by DC magnetron sputtering and patterned like a Hall bar [see Fig. 1(a)]. We deposited 5-nm thick buffer and 2-nm thick capping molybdenum layers below and above the galfenol film to ensure good adhesion and prevent oxidation. The sample’s stoichiometry is Fe72Ga28, but it will be referred to as FeGa throughout this article. More details on FeGa growth can be found elsewhere.[39]\\nUnidirectional IDTs were patterned at opposite ends of the FeGa film using electron beam lithography, metal evaporation, and liftoff [see Fig 1(a)]. This configuration allows both the generation of SAWs that propagate along the FM film and the measurement of transmitted SAW power (S21subscript𝑆21S_{21}italic_S start_POSTSUBSCRIPT 21 end_POSTSUBSCRIPT coefficient). We designed the IDTs to generate Rayleigh SAWs, characterized by in-plane and out-of-plane longitudinal strain components (εx\\u2062xsubscript𝜀𝑥𝑥\\\\varepsilon_{xx}italic_ε start_POSTSUBSCRIPT italic_x italic_x end_POSTSUBSCRIPT and εz\\u2062zsubscript𝜀𝑧𝑧\\\\varepsilon_{zz}italic_ε start_POSTSUBSCRIPT italic_z italic_z end_POSTSUBSCRIPT, respectively) and a shear strain component (εx\\u2062zsubscript𝜀𝑥𝑧\\\\varepsilon_{xz}italic_ε start_POSTSUBSCRIPT italic_x italic_z end_POSTSUBSCRIPT). The spatial periodicity of the finger-like electrodes in the IDTs was designed to excite SAWs with a fundamental frequency of 125 MHz and its corresponding harmonics [see the S21subscript𝑆21S_{21}italic_S start_POSTSUBSCRIPT 21 end_POSTSUBSCRIPT spectrum in Fig. 1(a)]. Through the magnetoelastic effect, the strain waves from the SAWs are transformed into a dynamically effective magnetic field, producing the torque on the magnetization of FeGa and thus generating MAWs.', 'where α𝛼\\\\alphaitalic_α is the Gilbert damping parameter, indicating the rate of energy dissipation, and μ0\\u2062Δ\\u2062Hinsubscript𝜇0Δsubscript𝐻in\\\\mu_{0}\\\\Delta H_{\\\\rm{in}}italic_μ start_POSTSUBSCRIPT 0 end_POSTSUBSCRIPT roman_Δ italic_H start_POSTSUBSCRIPT roman_in end_POSTSUBSCRIPT represents the inhomogeneous linewidth broadening, which accounts for magnetic inhomogeneities in the sample. Our FeGa thin films have broad FMR peaks, resulting in a high damping value of about α=0.08𝛼0.08\\\\alpha=0.08italic_α = 0.08.', 'Figure 1(c) shows the in-plane magnetic loop of FeGa obtained through MOKE microscopy. The loop exhibits magnetic hysteresis with a coercive field of less than 5 mT and full magnetic saturation at around 7 mT. The insets display MOKE images of the Hall bar under saturated conditions, although imaging the small magnetic domains with MOKE proved challenging.', 'To study the MAWs excited in the FeGa film, we took a series of XMCD images at position P2 [see Fig. 1(a)] under various magnetic field strengths. To eliminate static features such as magnetic domains and surface impurities at low magnetic fields, we used a four-image process: taking two images with the same X-ray helicity at a 180∘superscript180180^{\\\\circ}180 start_POSTSUPERSCRIPT ∘ end_POSTSUPERSCRIPT phase difference in SAW and subtracting them, then obtaining magnetic contrast by subtracting images taken with opposite helicity. We call this a two-phase XMCD image. Figure 3(a) shows a standard XMCD image of magnetic domains (left) and a two-phase XMCD image of MAWs (right). From the MAW images, we extracted their profile and fitted it to a sinusoidal wave, using amplitude and phase as fitting parameters [see Fig. 3(b)]. To quantify the amplitude, we normalized it by the contrast difference between opposing domains, which is proportional to the magnetization saturation (MSsubscript𝑀𝑆M_{S}italic_M start_POSTSUBSCRIPT italic_S end_POSTSUBSCRIPT). This normalized amplitude is shown in Fig. 3(c), with each black point indicating the amplitude at different magnetic fields, ranging from 1 to 6 mT. The magnetic field is applied in the film plane at a 30∘superscript3030^{\\\\circ}30 start_POSTSUPERSCRIPT ∘ end_POSTSUPERSCRIPT angle to the SAW propagation direction to maximize the magnetoelastic torque.[44, 19, 20] Our MAW quantification estimates a magnetization precession angle of 1∘superscript11^{\\\\circ}1 start_POSTSUPERSCRIPT ∘ end_POSTSUPERSCRIPT to 1.5∘superscript1.51.5^{\\\\circ}1.5 start_POSTSUPERSCRIPT ∘ end_POSTSUPERSCRIPT, with a maximum efficiency of 2.3∘superscript2.32.3^{\\\\circ}2.3 start_POSTSUPERSCRIPT ∘ end_POSTSUPERSCRIPT/strain, comparable to nickel and cobalt.[29]', 'The angle between the SAW propagation and the applied magnetic field, φHsubscript𝜑𝐻\\\\varphi_{H}italic_φ start_POSTSUBSCRIPT italic_H end_POSTSUBSCRIPT, also affects the size of the gap, increasing it as φHsubscript𝜑𝐻\\\\varphi_{H}italic_φ start_POSTSUBSCRIPT italic_H end_POSTSUBSCRIPT grows. Figure 4(b) presents additional simulations for FeGa, showing the MAW resonant magnetic field (μ0\\u2062Hressubscript𝜇0subscript𝐻res\\\\mu_{0}H_{\\\\rm res}italic_μ start_POSTSUBSCRIPT 0 end_POSTSUBSCRIPT italic_H start_POSTSUBSCRIPT roman_res end_POSTSUBSCRIPT) for a 6 GHz SAW excitation [blue dot in panel (a)] as a function of φHsubscript𝜑𝐻\\\\varphi_{H}italic_φ start_POSTSUBSCRIPT italic_H end_POSTSUBSCRIPT. The resonance field decreases from nearly 30 mT when the SAWs and the applied field are parallel to almost zero at φH=45∘subscript𝜑𝐻superscript45\\\\varphi_{H}=45^{\\\\circ}italic_φ start_POSTSUBSCRIPT italic_H end_POSTSUBSCRIPT = 45 start_POSTSUPERSCRIPT ∘ end_POSTSUPERSCRIPT.', 'The interaction between surface acoustic waves and magnetization offers an efficient route for electrically controlling magnetic states. Here, we demonstrate the excitation of magnetoacoustic waves in galfenol, a highly magnetostrictive alloy made of iron (72%) and gallium (28%). We quantify the amplitude of the induced magnetization oscillations using magnetic imaging in an X-ray photoelectron microscope and estimate the dynamic magnetoelastic constants through micromagnetic simulations. Our findings demonstrate the potential of galfenol for magnonic applications and reveal that, despite strong magnetoelastic coupling, magnetic interactions and spin-wave dispersion relations significantly influence the overall amplitude of magnetoacoustic waves.', 'SAWs are MHz-GHz strain waves that propagate along the surface of a solid[13, 14] and can originate from oscillating voltages through interdigital transducers (IDTs) in a piezoelectric material. These waves create an oscillating strain that can induce a varying magnetic anisotropy field in a magnetostrictive material.[15, 16, 17] The GHz frequency range is particularly relevant for magnetization dynamics because it matches internal resonance energies, and the associated spin waves have wavelengths in the nanometer-micrometer range.', 'Previous studies in galfenol with lower Ga content (18−20%18percent2018-20\\\\%18 - 20 %) have used SAWs to reduce the coercive field in thin films[31] and create magnetic patterns [32] at the microscale, demonstrating the potential for controlling magnetic states with oscillating strain. Field sensors have been proposed based on the field-dependent SAW absorption observed in thick FeGa films.[33, 34] However, direct measurements of magnetoelastic waves and the quantification of magnetoelastic coefficients in the GHz regime are still lacking.', 'The sample under study consists of a piezoelectric 127.86 deg Y-cut LiNbO3 substrate and a 10-nm-thick FeGa film deposited by DC magnetron sputtering and patterned like a Hall bar [see Fig. 1(a)]. We deposited 5-nm thick buffer and 2-nm thick capping molybdenum layers below and above the galfenol film to ensure good adhesion and prevent oxidation. The sample’s stoichiometry is Fe72Ga28, but it will be referred to as FeGa throughout this article. More details on FeGa growth can be found elsewhere.[39]\\nUnidirectional IDTs were patterned at opposite ends of the FeGa film using electron beam lithography, metal evaporation, and liftoff [see Fig 1(a)]. This configuration allows both the generation of SAWs that propagate along the FM film and the measurement of transmitted SAW power (S21subscript𝑆21S_{21}italic_S start_POSTSUBSCRIPT 21 end_POSTSUBSCRIPT coefficient). We designed the IDTs to generate Rayleigh SAWs, characterized by in-plane and out-of-plane longitudinal strain components (εx\\u2062xsubscript𝜀𝑥𝑥\\\\varepsilon_{xx}italic_ε start_POSTSUBSCRIPT italic_x italic_x end_POSTSUBSCRIPT and εz\\u2062zsubscript𝜀𝑧𝑧\\\\varepsilon_{zz}italic_ε start_POSTSUBSCRIPT italic_z italic_z end_POSTSUBSCRIPT, respectively) and a shear strain component (εx\\u2062zsubscript𝜀𝑥𝑧\\\\varepsilon_{xz}italic_ε start_POSTSUBSCRIPT italic_x italic_z end_POSTSUBSCRIPT). The spatial periodicity of the finger-like electrodes in the IDTs was designed to excite SAWs with a fundamental frequency of 125 MHz and its corresponding harmonics [see the S21subscript𝑆21S_{21}italic_S start_POSTSUBSCRIPT 21 end_POSTSUBSCRIPT spectrum in Fig. 1(a)]. Through the magnetoelastic effect, the strain waves from the SAWs are transformed into a dynamically effective magnetic field, producing the torque on the magnetization of FeGa and thus generating MAWs.', 'where α𝛼\\\\alphaitalic_α is the Gilbert damping parameter, indicating the rate of energy dissipation, and μ0\\u2062Δ\\u2062Hinsubscript𝜇0Δsubscript𝐻in\\\\mu_{0}\\\\Delta H_{\\\\rm{in}}italic_μ start_POSTSUBSCRIPT 0 end_POSTSUBSCRIPT roman_Δ italic_H start_POSTSUBSCRIPT roman_in end_POSTSUBSCRIPT represents the inhomogeneous linewidth broadening, which accounts for magnetic inhomogeneities in the sample. Our FeGa thin films have broad FMR peaks, resulting in a high damping value of about α=0.08𝛼0.08\\\\alpha=0.08italic_α = 0.08.', 'Figure 1(c) shows the in-plane magnetic loop of FeGa obtained through MOKE microscopy. The loop exhibits magnetic hysteresis with a coercive field of less than 5 mT and full magnetic saturation at around 7 mT. The insets display MOKE images of the Hall bar under saturated conditions, although imaging the small magnetic domains with MOKE proved challenging.', 'To study the MAWs excited in the FeGa film, we took a series of XMCD images at position P2 [see Fig. 1(a)] under various magnetic field strengths. To eliminate static features such as magnetic domains and surface impurities at low magnetic fields, we used a four-image process: taking two images with the same X-ray helicity at a 180∘superscript180180^{\\\\circ}180 start_POSTSUPERSCRIPT ∘ end_POSTSUPERSCRIPT phase difference in SAW and subtracting them, then obtaining magnetic contrast by subtracting images taken with opposite helicity. We call this a two-phase XMCD image. Figure 3(a) shows a standard XMCD image of magnetic domains (left) and a two-phase XMCD image of MAWs (right). From the MAW images, we extracted their profile and fitted it to a sinusoidal wave, using amplitude and phase as fitting parameters [see Fig. 3(b)]. To quantify the amplitude, we normalized it by the contrast difference between opposing domains, which is proportional to the magnetization saturation (MSsubscript𝑀𝑆M_{S}italic_M start_POSTSUBSCRIPT italic_S end_POSTSUBSCRIPT). This normalized amplitude is shown in Fig. 3(c), with each black point indicating the amplitude at different magnetic fields, ranging from 1 to 6 mT. The magnetic field is applied in the film plane at a 30∘superscript3030^{\\\\circ}30 start_POSTSUPERSCRIPT ∘ end_POSTSUPERSCRIPT angle to the SAW propagation direction to maximize the magnetoelastic torque.[44, 19, 20] Our MAW quantification estimates a magnetization precession angle of 1∘superscript11^{\\\\circ}1 start_POSTSUPERSCRIPT ∘ end_POSTSUPERSCRIPT to 1.5∘superscript1.51.5^{\\\\circ}1.5 start_POSTSUPERSCRIPT ∘ end_POSTSUPERSCRIPT, with a maximum efficiency of 2.3∘superscript2.32.3^{\\\\circ}2.3 start_POSTSUPERSCRIPT ∘ end_POSTSUPERSCRIPT/strain, comparable to nickel and cobalt.[29]', 'The angle between the SAW propagation and the applied magnetic field, φHsubscript𝜑𝐻\\\\varphi_{H}italic_φ start_POSTSUBSCRIPT italic_H end_POSTSUBSCRIPT, also affects the size of the gap, increasing it as φHsubscript𝜑𝐻\\\\varphi_{H}italic_φ start_POSTSUBSCRIPT italic_H end_POSTSUBSCRIPT grows. Figure 4(b) presents additional simulations for FeGa, showing the MAW resonant magnetic field (μ0\\u2062Hressubscript𝜇0subscript𝐻res\\\\mu_{0}H_{\\\\rm res}italic_μ start_POSTSUBSCRIPT 0 end_POSTSUBSCRIPT italic_H start_POSTSUBSCRIPT roman_res end_POSTSUBSCRIPT) for a 6 GHz SAW excitation [blue dot in panel (a)] as a function of φHsubscript𝜑𝐻\\\\varphi_{H}italic_φ start_POSTSUBSCRIPT italic_H end_POSTSUBSCRIPT. The resonance field decreases from nearly 30 mT when the SAWs and the applied field are parallel to almost zero at φH=45∘subscript𝜑𝐻superscript45\\\\varphi_{H}=45^{\\\\circ}italic_φ start_POSTSUBSCRIPT italic_H end_POSTSUBSCRIPT = 45 start_POSTSUPERSCRIPT ∘ end_POSTSUPERSCRIPT.'], 'ferromagnetic': ['Integrating magnetic devices into electronic circuits requires efficient mechanisms for electrical control of magnetization in ferromagnetic (FM) nanomagnets, as opposed to magnetic field control. Electric-field control of magnetism has garnered significant attention for its potential to design ultralow-power spintronic devices.[1] Current research focuses on using spin-polarized currents to exert torques on magnetic moments by transferring spin angular momentum.[2, 3] Various device geometries and material combinations have been proposed to generate high spin current densities, often leveraging spin-orbit interactions through Rashba, Dresselhaus, and spin Hall effects.[4, 5, 6, 7, 8] This approach allows for manipulating the magnetization in nanostructures with significantly reduced energy requirements.', 'Our experiment involves placing the FM thin film on the acoustic path of a piezoelectric substrate and exciting SAWs through IDTs at 500 MHz. Due to the magnetostrictive nature of FeGa, the deformation caused by the SAWs generates an oscillating anisotropy, leading to periodic changes in the magnetization direction. We directly image the resulting MAWs using X-ray microscopy and quantify the dynamic magnetoelastic coupling.', 'We initially characterized the sample using ferromagnetic resonance (FMR) and magneto-optical Kerr effect (MOKE) microscopy. We measured the FMR on a separate FeGa sample grown simultaneously with the magnetoacoustic device on an identical substrate to ensure that both objects had the same magnetic properties. In the FMR experiment, we placed the sample on a coplanar waveguide and excited it at various frequencies while sweeping the magnetic field from −400400-400- 400 mT to 400400400400 mT. At specific magnetic fields and MW frequencies, the magnetization enters resonance, absorbing more MW power and resulting in a dip in the transmission coefficient, which appears as darker shades in Fig. 1(b). The frequency and magnetic field of these resonances follow Kittel’s equation[40]', 'Integrating magnetic devices into electronic circuits requires efficient mechanisms for electrical control of magnetization in ferromagnetic (FM) nanomagnets, as opposed to magnetic field control. Electric-field control of magnetism has garnered significant attention for its potential to design ultralow-power spintronic devices.[1] Current research focuses on using spin-polarized currents to exert torques on magnetic moments by transferring spin angular momentum.[2, 3] Various device geometries and material combinations have been proposed to generate high spin current densities, often leveraging spin-orbit interactions through Rashba, Dresselhaus, and spin Hall effects.[4, 5, 6, 7, 8] This approach allows for manipulating the magnetization in nanostructures with significantly reduced energy requirements.', 'Our experiment involves placing the FM thin film on the acoustic path of a piezoelectric substrate and exciting SAWs through IDTs at 500 MHz. Due to the magnetostrictive nature of FeGa, the deformation caused by the SAWs generates an oscillating anisotropy, leading to periodic changes in the magnetization direction. We directly image the resulting MAWs using X-ray microscopy and quantify the dynamic magnetoelastic coupling.', 'We initially characterized the sample using ferromagnetic resonance (FMR) and magneto-optical Kerr effect (MOKE) microscopy. We measured the FMR on a separate FeGa sample grown simultaneously with the magnetoacoustic device on an identical substrate to ensure that both objects had the same magnetic properties. In the FMR experiment, we placed the sample on a coplanar waveguide and excited it at various frequencies while sweeping the magnetic field from −400400-400- 400 mT to 400400400400 mT. At specific magnetic fields and MW frequencies, the magnetization enters resonance, absorbing more MW power and resulting in a dip in the transmission coefficient, which appears as darker shades in Fig. 1(b). The frequency and magnetic field of these resonances follow Kittel’s equation[40]'], 'magnetization': ['Another efficient method for controlling magnetization using electric fields involves electrical tailoring magnetic anisotropy, a high-speed technique compatible with existing technologies.[9, 10] In this work, we study phonon coupling to magnetization [11, 12] in bilayer heterostructures that combine a piezoelectric material with a highly magnetostrictive FM iron-gallium (Fe72Ga28) alloy. We use voltage-controlled surface acoustic waves (SAWs) to generate a spatially and temporally varying magnetic anisotropy in the FM alloy.', 'In the past decade, numerous studies have demonstrated that SAWs can efficiently couple to magnetization via the magnetoelastic effect,[18, 19, 20, 21, 22, 23, 24] focusing on the magnetoacoustic waves (MAWs) generated by SAWs.[25, 25, 26, 27, 28, 29, 30] Transition metal FMs, including Heusler alloys with similar bulk magnetostriction coefficients (∼10−5similar-toabsentsuperscript105\\\\sim 10^{-5}∼ 10 start_POSTSUPERSCRIPT - 5 end_POSTSUPERSCRIPT), have shown significant variations in MAW amplitudes.', 'In this work, we investigate the interaction of SAWs with magnetization in a 10-nm-thick Fe72Ga28 thin film,\\nwhich has rich-Ga content compared with previous studies,[35, 36, 37, 31, 32, 33, 34] and falls within the ‘second peak’ of magnetostriction for FeGa alloys, a region known for enhanced magnetostrictive properties.[38, 39]\\nWe chose the thickness of 10 nm to ensure a low coercive field and small anisotropy.[36]', 'where γ𝛾\\\\gammaitalic_γ is the gyromagnetic ratio (γ≈28𝛾28\\\\gamma\\\\approx 28italic_γ ≈ 28\\xa0GHz/T), and μ0\\u2062Meffsubscript𝜇0subscript𝑀eff\\\\mu_{0}M_{\\\\mathrm{eff}}italic_μ start_POSTSUBSCRIPT 0 end_POSTSUBSCRIPT italic_M start_POSTSUBSCRIPT roman_eff end_POSTSUBSCRIPT is the effective magnetization saturation, which we estimated to be around 1.4\\xa0T from data shown in Fig.\\xa01(b). The effective magnetization saturation is given as Meff=MS−Hksubscript𝑀effsubscript𝑀𝑆subscript𝐻𝑘M_{\\\\mathrm{eff}}=M_{S}-H_{k}italic_M start_POSTSUBSCRIPT roman_eff end_POSTSUBSCRIPT = italic_M start_POSTSUBSCRIPT italic_S end_POSTSUBSCRIPT - italic_H start_POSTSUBSCRIPT italic_k end_POSTSUBSCRIPT, where MSsubscript𝑀𝑆M_{S}italic_M start_POSTSUBSCRIPT italic_S end_POSTSUBSCRIPT is the magnetization saturation, and Hksubscript𝐻𝑘H_{k}italic_H start_POSTSUBSCRIPT italic_k end_POSTSUBSCRIPT is the out-of-plane anisotropy field. We expect this field to be small in FeGa, so that Meff≈MSsubscript𝑀effsubscript𝑀𝑆M_{\\\\rm eff}\\\\approx M_{S}italic_M start_POSTSUBSCRIPT roman_eff end_POSTSUBSCRIPT ≈ italic_M start_POSTSUBSCRIPT italic_S end_POSTSUBSCRIPT. In addition, the linewidth (μ0\\u2062Δ\\u2062Hsubscript𝜇0Δ𝐻\\\\mu_{0}\\\\Delta Hitalic_μ start_POSTSUBSCRIPT 0 end_POSTSUBSCRIPT roman_Δ italic_H) of the FMR resonances follows a linear frequency dependence [41]', 'To study the effect of SAWs on the magnetization dynamics of FeGa, we used direct imaging with X-ray photoemission electron microscopy (XPEEM) at the ALBA synchrotron facility. This technique allows us to observe and quantify both SAWs and MAWs. The experiment involves illuminating the sample with X-rays at the L3subscript𝐿3L_{3}italic_L start_POSTSUBSCRIPT 3 end_POSTSUBSCRIPT energy edge of Fe, which excites secondary electrons. A 10 kV potential between the device and the XPEEM objective pulls out these electrons. Two types of images can be obtained: XPEEM, which is sensitive to the piezoelectric voltage at the sample surface, and X-ray magnetic circular dichroism (XMCD), which provides magnetic contrast by subtracting two images taken with opposite circular helicity, canceling non-helicity-dependent effects.', 'Next, we compared our results to micromagnetic simulations to quantify the magnetoelastic coupling constant. We used the MuMax3 simulation software,[45] which incorporates all effective field contributions, including Zeeman, demagnetization, anisotropy, and magnetoelastic fields generated by the coupling between SAWs and magnetization. The effective magnetoelastic field is given by', 'where Bisubscript𝐵𝑖B_{i}italic_B start_POSTSUBSCRIPT italic_i end_POSTSUBSCRIPT are the magnetoelastic constants, and misubscript𝑚𝑖m_{i}italic_m start_POSTSUBSCRIPT italic_i end_POSTSUBSCRIPT are the normalized magnetization components. The sample is polycrystalline, so B1=B2subscript𝐵1subscript𝐵2B_{1}=B_{2}italic_B start_POSTSUBSCRIPT 1 end_POSTSUBSCRIPT = italic_B start_POSTSUBSCRIPT 2 end_POSTSUBSCRIPT. The simulation that better reproduces the experimental results uses B1=4subscript𝐵14B_{1}=4italic_B start_POSTSUBSCRIPT 1 end_POSTSUBSCRIPT = 4\\xa0MJ/m3 and a small in-plane anisotropy of about 1 mT in the x𝑥xitalic_x direction, parallel to the direction of SAW propagation. The results, shown as a solid purple line in Fig. 3(c), reveal a peak at 1 mT due to the in-plane uniaxial anisotropy rather than a magnetic resonance. Since the SAW frequency is below the resonance frequency, the maximum effective field is near zero and thus generates maximum magnetization oscillation.', 'To summarize, we investigated the dynamic interaction between SAWs and magnetization in a galfenol thin film on a piezoelectric LiNbO3 substrate. We demonstrated the electric control of magnetization waves through XMPEEM measurements. Our findings revealed the presence of both SAWs and magnetoacoustic waves (MAWs) in the FM thin film, with the MAW amplitude being comparable to that in cobalt but smaller than in nickel. Our technique allows quantification of strain and MAW amplitude and thus enables us to obtain an estimate for the magnetoelastic constant (B1=4subscript𝐵14B_{1}=4italic_B start_POSTSUBSCRIPT 1 end_POSTSUBSCRIPT = 4\\xa0MJ/m3) in sputtered 10 nm galfenol thin film with rich-Ga content (Fe72Ga28). Our simulations indicate that we generate MAW in a non-resonance mode and suggest that we can achieve larger MAW amplitudes when resonance conditions are fulfilled. The simulations also show that parameters such as the film’s magnetic moment or propagation angle between MAW and magnetization play a crucial role in determining the resonance condition and setting the overall MAW amplitude.', 'Another efficient method for controlling magnetization using electric fields involves electrical tailoring magnetic anisotropy, a high-speed technique compatible with existing technologies.[9, 10] In this work, we study phonon coupling to magnetization [11, 12] in bilayer heterostructures that combine a piezoelectric material with a highly magnetostrictive FM iron-gallium (Fe72Ga28) alloy. We use voltage-controlled surface acoustic waves (SAWs) to generate a spatially and temporally varying magnetic anisotropy in the FM alloy.', 'In the past decade, numerous studies have demonstrated that SAWs can efficiently couple to magnetization via the magnetoelastic effect,[18, 19, 20, 21, 22, 23, 24] focusing on the magnetoacoustic waves (MAWs) generated by SAWs.[25, 25, 26, 27, 28, 29, 30] Transition metal FMs, including Heusler alloys with similar bulk magnetostriction coefficients (∼10−5similar-toabsentsuperscript105\\\\sim 10^{-5}∼ 10 start_POSTSUPERSCRIPT - 5 end_POSTSUPERSCRIPT), have shown significant variations in MAW amplitudes.', 'In this work, we investigate the interaction of SAWs with magnetization in a 10-nm-thick Fe72Ga28 thin film,\\nwhich has rich-Ga content compared with previous studies,[35, 36, 37, 31, 32, 33, 34] and falls within the ‘second peak’ of magnetostriction for FeGa alloys, a region known for enhanced magnetostrictive properties.[38, 39]\\nWe chose the thickness of 10 nm to ensure a low coercive field and small anisotropy.[36]', 'where γ𝛾\\\\gammaitalic_γ is the gyromagnetic ratio (γ≈28𝛾28\\\\gamma\\\\approx 28italic_γ ≈ 28\\xa0GHz/T), and μ0\\u2062Meffsubscript𝜇0subscript𝑀eff\\\\mu_{0}M_{\\\\mathrm{eff}}italic_μ start_POSTSUBSCRIPT 0 end_POSTSUBSCRIPT italic_M start_POSTSUBSCRIPT roman_eff end_POSTSUBSCRIPT is the effective magnetization saturation, which we estimated to be around 1.4\\xa0T from data shown in Fig.\\xa01(b). The effective magnetization saturation is given as Meff=MS−Hksubscript𝑀effsubscript𝑀𝑆subscript𝐻𝑘M_{\\\\mathrm{eff}}=M_{S}-H_{k}italic_M start_POSTSUBSCRIPT roman_eff end_POSTSUBSCRIPT = italic_M start_POSTSUBSCRIPT italic_S end_POSTSUBSCRIPT - italic_H start_POSTSUBSCRIPT italic_k end_POSTSUBSCRIPT, where MSsubscript𝑀𝑆M_{S}italic_M start_POSTSUBSCRIPT italic_S end_POSTSUBSCRIPT is the magnetization saturation, and Hksubscript𝐻𝑘H_{k}italic_H start_POSTSUBSCRIPT italic_k end_POSTSUBSCRIPT is the out-of-plane anisotropy field. We expect this field to be small in FeGa, so that Meff≈MSsubscript𝑀effsubscript𝑀𝑆M_{\\\\rm eff}\\\\approx M_{S}italic_M start_POSTSUBSCRIPT roman_eff end_POSTSUBSCRIPT ≈ italic_M start_POSTSUBSCRIPT italic_S end_POSTSUBSCRIPT. In addition, the linewidth (μ0\\u2062Δ\\u2062Hsubscript𝜇0Δ𝐻\\\\mu_{0}\\\\Delta Hitalic_μ start_POSTSUBSCRIPT 0 end_POSTSUBSCRIPT roman_Δ italic_H) of the FMR resonances follows a linear frequency dependence [41]', 'To study the effect of SAWs on the magnetization dynamics of FeGa, we used direct imaging with X-ray photoemission electron microscopy (XPEEM) at the ALBA synchrotron facility. This technique allows us to observe and quantify both SAWs and MAWs. The experiment involves illuminating the sample with X-rays at the L3subscript𝐿3L_{3}italic_L start_POSTSUBSCRIPT 3 end_POSTSUBSCRIPT energy edge of Fe, which excites secondary electrons. A 10 kV potential between the device and the XPEEM objective pulls out these electrons. Two types of images can be obtained: XPEEM, which is sensitive to the piezoelectric voltage at the sample surface, and X-ray magnetic circular dichroism (XMCD), which provides magnetic contrast by subtracting two images taken with opposite circular helicity, canceling non-helicity-dependent effects.', 'Next, we compared our results to micromagnetic simulations to quantify the magnetoelastic coupling constant. We used the MuMax3 simulation software,[45] which incorporates all effective field contributions, including Zeeman, demagnetization, anisotropy, and magnetoelastic fields generated by the coupling between SAWs and magnetization. The effective magnetoelastic field is given by', 'where Bisubscript𝐵𝑖B_{i}italic_B start_POSTSUBSCRIPT italic_i end_POSTSUBSCRIPT are the magnetoelastic constants, and misubscript𝑚𝑖m_{i}italic_m start_POSTSUBSCRIPT italic_i end_POSTSUBSCRIPT are the normalized magnetization components. The sample is polycrystalline, so B1=B2subscript𝐵1subscript𝐵2B_{1}=B_{2}italic_B start_POSTSUBSCRIPT 1 end_POSTSUBSCRIPT = italic_B start_POSTSUBSCRIPT 2 end_POSTSUBSCRIPT. The simulation that better reproduces the experimental results uses B1=4subscript𝐵14B_{1}=4italic_B start_POSTSUBSCRIPT 1 end_POSTSUBSCRIPT = 4\\xa0MJ/m3 and a small in-plane anisotropy of about 1 mT in the x𝑥xitalic_x direction, parallel to the direction of SAW propagation. The results, shown as a solid purple line in Fig. 3(c), reveal a peak at 1 mT due to the in-plane uniaxial anisotropy rather than a magnetic resonance. Since the SAW frequency is below the resonance frequency, the maximum effective field is near zero and thus generates maximum magnetization oscillation.', 'To summarize, we investigated the dynamic interaction between SAWs and magnetization in a galfenol thin film on a piezoelectric LiNbO3 substrate. We demonstrated the electric control of magnetization waves through XMPEEM measurements. Our findings revealed the presence of both SAWs and magnetoacoustic waves (MAWs) in the FM thin film, with the MAW amplitude being comparable to that in cobalt but smaller than in nickel. Our technique allows quantification of strain and MAW amplitude and thus enables us to obtain an estimate for the magnetoelastic constant (B1=4subscript𝐵14B_{1}=4italic_B start_POSTSUBSCRIPT 1 end_POSTSUBSCRIPT = 4\\xa0MJ/m3) in sputtered 10 nm galfenol thin film with rich-Ga content (Fe72Ga28). Our simulations indicate that we generate MAW in a non-resonance mode and suggest that we can achieve larger MAW amplitudes when resonance conditions are fulfilled. The simulations also show that parameters such as the film’s magnetic moment or propagation angle between MAW and magnetization play a crucial role in determining the resonance condition and setting the overall MAW amplitude.'], 'phase': ['SAWs are emitted by the IDTs and propagate along the acoustic path. The AC electric field applied to the IDT to generate SAWs is synchronized with the repetition rate of the synchrotron X-ray bunches, enabling stroboscopic imaging at specific phases of the SAW.[42] The local piezoelectric field from the SAW affects the kinetic energy of the photoelectrons that are accelerated out from the piezoelectric sample and is highly sensitive to the electric field between the sample and the microscope objective. By adding a bias voltage (VBsubscript𝑉BV_{\\\\mathrm{B}}italic_V start_POSTSUBSCRIPT roman_B end_POSTSUBSCRIPT) to the sample relative to the objective, we can change the contrast of the SAWs. Scanning the detector counts as a function of VBsubscript𝑉BV_{\\\\mathrm{B}}italic_V start_POSTSUBSCRIPT roman_B end_POSTSUBSCRIPT at opposite SAW phases allows us to measure the peak-to-peak amplitude of the piezoelectric potential at the sample surface.', 'The inset of Fig. 2 shows an XPEEM image of the LiNbO3 substrate at location P1 [see Fig. 1(a)]. The red and black rectangles represent the studied areas, corresponding to opposite SAW phases. The spectra in Fig. 2 display normalized detector counts as a function of VBsubscript𝑉BV_{\\\\mathrm{B}}italic_V start_POSTSUBSCRIPT roman_B end_POSTSUBSCRIPT for each phase, with the colors matching the studied areas in the inset. Subtracting both spectra, we obtain the SAW peak-to-peak voltage (Vppsubscript𝑉ppV_{\\\\mathrm{pp}}italic_V start_POSTSUBSCRIPT roman_pp end_POSTSUBSCRIPT), the horizontal shift between both spectra. We can determine the corresponding strain amplitudes by solving the coupled electromagnetic and elastic equations.[43] In our experiment, we measured Vpp=0.86subscript𝑉pp0.86V_{\\\\mathrm{pp}}=0.86italic_V start_POSTSUBSCRIPT roman_pp end_POSTSUBSCRIPT = 0.86 V at 500\\xa0MHz and calculated the strain component amplitudes as εx\\u2062x=6.4×10−5subscript𝜀𝑥𝑥6.4superscript105\\\\varepsilon_{xx}=6.4\\\\times 10^{-5}italic_ε start_POSTSUBSCRIPT italic_x italic_x end_POSTSUBSCRIPT = 6.4 × 10 start_POSTSUPERSCRIPT - 5 end_POSTSUPERSCRIPT, εz\\u2062z=1.0×10−5subscript𝜀𝑧𝑧1.0superscript105\\\\varepsilon_{zz}=1.0\\\\times 10^{-5}italic_ε start_POSTSUBSCRIPT italic_z italic_z end_POSTSUBSCRIPT = 1.0 × 10 start_POSTSUPERSCRIPT - 5 end_POSTSUPERSCRIPT, and εx\\u2062z=1.4×10−5subscript𝜀𝑥𝑧1.4superscript105\\\\varepsilon_{xz}=1.4\\\\times 10^{-5}italic_ε start_POSTSUBSCRIPT italic_x italic_z end_POSTSUBSCRIPT = 1.4 × 10 start_POSTSUPERSCRIPT - 5 end_POSTSUPERSCRIPT.', 'SAWs are emitted by the IDTs and propagate along the acoustic path. The AC electric field applied to the IDT to generate SAWs is synchronized with the repetition rate of the synchrotron X-ray bunches, enabling stroboscopic imaging at specific phases of the SAW.[42] The local piezoelectric field from the SAW affects the kinetic energy of the photoelectrons that are accelerated out from the piezoelectric sample and is highly sensitive to the electric field between the sample and the microscope objective. By adding a bias voltage (VBsubscript𝑉BV_{\\\\mathrm{B}}italic_V start_POSTSUBSCRIPT roman_B end_POSTSUBSCRIPT) to the sample relative to the objective, we can change the contrast of the SAWs. Scanning the detector counts as a function of VBsubscript𝑉BV_{\\\\mathrm{B}}italic_V start_POSTSUBSCRIPT roman_B end_POSTSUBSCRIPT at opposite SAW phases allows us to measure the peak-to-peak amplitude of the piezoelectric potential at the sample surface.', 'The inset of Fig. 2 shows an XPEEM image of the LiNbO3 substrate at location P1 [see Fig. 1(a)]. The red and black rectangles represent the studied areas, corresponding to opposite SAW phases. The spectra in Fig. 2 display normalized detector counts as a function of VBsubscript𝑉BV_{\\\\mathrm{B}}italic_V start_POSTSUBSCRIPT roman_B end_POSTSUBSCRIPT for each phase, with the colors matching the studied areas in the inset. Subtracting both spectra, we obtain the SAW peak-to-peak voltage (Vppsubscript𝑉ppV_{\\\\mathrm{pp}}italic_V start_POSTSUBSCRIPT roman_pp end_POSTSUBSCRIPT), the horizontal shift between both spectra. We can determine the corresponding strain amplitudes by solving the coupled electromagnetic and elastic equations.[43] In our experiment, we measured Vpp=0.86subscript𝑉pp0.86V_{\\\\mathrm{pp}}=0.86italic_V start_POSTSUBSCRIPT roman_pp end_POSTSUBSCRIPT = 0.86 V at 500\\xa0MHz and calculated the strain component amplitudes as εx\\u2062x=6.4×10−5subscript𝜀𝑥𝑥6.4superscript105\\\\varepsilon_{xx}=6.4\\\\times 10^{-5}italic_ε start_POSTSUBSCRIPT italic_x italic_x end_POSTSUBSCRIPT = 6.4 × 10 start_POSTSUPERSCRIPT - 5 end_POSTSUPERSCRIPT, εz\\u2062z=1.0×10−5subscript𝜀𝑧𝑧1.0superscript105\\\\varepsilon_{zz}=1.0\\\\times 10^{-5}italic_ε start_POSTSUBSCRIPT italic_z italic_z end_POSTSUBSCRIPT = 1.0 × 10 start_POSTSUPERSCRIPT - 5 end_POSTSUPERSCRIPT, and εx\\u2062z=1.4×10−5subscript𝜀𝑥𝑧1.4superscript105\\\\varepsilon_{xz}=1.4\\\\times 10^{-5}italic_ε start_POSTSUBSCRIPT italic_x italic_z end_POSTSUBSCRIPT = 1.4 × 10 start_POSTSUPERSCRIPT - 5 end_POSTSUPERSCRIPT.'], 'magnetostriction': ['We chose FeGa films for their high magnetostriction, anticipating large MAW amplitudes. However, from the experimental results we estimate a value of the magnetoelastic constant that is similar to those observed in nickel and cobalt thin films [30] but with a MAW amplitude about ten times smaller than in nickel, though comparable to cobalt. We ascribe this reduction in MAW amplitude to the MSsubscript𝑀𝑆M_{S}italic_M start_POSTSUBSCRIPT italic_S end_POSTSUBSCRIPT value of FeGa and the dependence of MAW dispersion relations on the applied field angle. It is worth noticing that MAWs propagate at a certain angle relative to the magnetization direction (30∘ in the present study).', 'We chose FeGa films for their high magnetostriction, anticipating large MAW amplitudes. However, from the experimental results we estimate a value of the magnetoelastic constant that is similar to those observed in nickel and cobalt thin films [30] but with a MAW amplitude about ten times smaller than in nickel, though comparable to cobalt. We ascribe this reduction in MAW amplitude to the MSsubscript𝑀𝑆M_{S}italic_M start_POSTSUBSCRIPT italic_S end_POSTSUBSCRIPT value of FeGa and the dependence of MAW dispersion relations on the applied field angle. It is worth noticing that MAWs propagate at a certain angle relative to the magnetization direction (30∘ in the present study).'], 'domain': ['According to Eq.\\xa0(1), a high MSsubscript𝑀𝑆M_{S}italic_M start_POSTSUBSCRIPT italic_S end_POSTSUBSCRIPT value at a fixed magnetic field shifts the resonance to higher frequencies. Figure 4(a) illustrates this by comparing the solid black curve (representing FeGa with MS=1300subscript𝑀𝑆1300M_{S}=1300italic_M start_POSTSUBSCRIPT italic_S end_POSTSUBSCRIPT = 1300 kA/m3) with the dashed-dotted red curve (representing nickel with MS=500subscript𝑀𝑆500M_{S}=500italic_M start_POSTSUBSCRIPT italic_S end_POSTSUBSCRIPT = 500 kA/m3). The SAWs introduce a wavelength parameter in the magnetic waves, λ=fSAW/vs𝜆subscript𝑓SAWsubscript𝑣s\\\\lambda=f_{\\\\text{SAW}}/v_{\\\\text{s}}italic_λ = italic_f start_POSTSUBSCRIPT SAW end_POSTSUBSCRIPT / italic_v start_POSTSUBSCRIPT s end_POSTSUBSCRIPT, where fSAWsubscript𝑓SAWf_{\\\\text{SAW}}italic_f start_POSTSUBSCRIPT SAW end_POSTSUBSCRIPT is the excitation frequency and vssubscript𝑣sv_{\\\\text{s}}italic_v start_POSTSUBSCRIPT s end_POSTSUBSCRIPT is the speed of sound in the substrate. The non-uniform magnetization precession affects exchange and dipolar energies, typically leading to an additional increase in frequency with decreasing wavelength.[46]\\nSymbols in figure 4(a) show resonance frequencies for MAW with its corresponding wavelength (λ=7.8𝜆7.8\\\\lambda=7.8italic_λ = 7.8 μ𝜇\\\\muitalic_μm) when the SAW propagation direction and the applied magnetic field form a 30∘superscript3030^{\\\\circ}30 start_POSTSUPERSCRIPT ∘ end_POSTSUPERSCRIPT angle (φHsubscript𝜑𝐻\\\\varphi_{H}italic_φ start_POSTSUBSCRIPT italic_H end_POSTSUBSCRIPT). Each point represents the MAW resonance frequency for a given magnetic field. For MS=500subscript𝑀𝑆500M_{S}=500italic_M start_POSTSUBSCRIPT italic_S end_POSTSUBSCRIPT = 500 kA/m3 (red squares), the resonance starts close to 500 MHz and increases with the applied magnetic field. In contrast, for MS=1300subscript𝑀𝑆1300M_{S}=1300italic_M start_POSTSUBSCRIPT italic_S end_POSTSUBSCRIPT = 1300 kA/m3 (black dots), the resonance starts around 3 GHz, so exciting it with SAWs at 500 MHz results in non-resonance MAWs. The gap between FMR (λ=∞𝜆\\\\lambda=\\\\inftyitalic_λ = ∞) and MAW resonance increases with MSsubscript𝑀𝑆M_{S}italic_M start_POSTSUBSCRIPT italic_S end_POSTSUBSCRIPT, as shown for nickel (MS=500subscript𝑀𝑆500M_{S}=500italic_M start_POSTSUBSCRIPT italic_S end_POSTSUBSCRIPT = 500 kA/m3) and FeGa (MS=1300subscript𝑀𝑆1300M_{S}=1300italic_M start_POSTSUBSCRIPT italic_S end_POSTSUBSCRIPT = 1300 kA/m3).', 'According to Eq.\\xa0(1), a high MSsubscript𝑀𝑆M_{S}italic_M start_POSTSUBSCRIPT italic_S end_POSTSUBSCRIPT value at a fixed magnetic field shifts the resonance to higher frequencies. Figure 4(a) illustrates this by comparing the solid black curve (representing FeGa with MS=1300subscript𝑀𝑆1300M_{S}=1300italic_M start_POSTSUBSCRIPT italic_S end_POSTSUBSCRIPT = 1300 kA/m3) with the dashed-dotted red curve (representing nickel with MS=500subscript𝑀𝑆500M_{S}=500italic_M start_POSTSUBSCRIPT italic_S end_POSTSUBSCRIPT = 500 kA/m3). The SAWs introduce a wavelength parameter in the magnetic waves, λ=fSAW/vs𝜆subscript𝑓SAWsubscript𝑣s\\\\lambda=f_{\\\\text{SAW}}/v_{\\\\text{s}}italic_λ = italic_f start_POSTSUBSCRIPT SAW end_POSTSUBSCRIPT / italic_v start_POSTSUBSCRIPT s end_POSTSUBSCRIPT, where fSAWsubscript𝑓SAWf_{\\\\text{SAW}}italic_f start_POSTSUBSCRIPT SAW end_POSTSUBSCRIPT is the excitation frequency and vssubscript𝑣sv_{\\\\text{s}}italic_v start_POSTSUBSCRIPT s end_POSTSUBSCRIPT is the speed of sound in the substrate. The non-uniform magnetization precession affects exchange and dipolar energies, typically leading to an additional increase in frequency with decreasing wavelength.[46]\\nSymbols in figure 4(a) show resonance frequencies for MAW with its corresponding wavelength (λ=7.8𝜆7.8\\\\lambda=7.8italic_λ = 7.8 μ𝜇\\\\muitalic_μm) when the SAW propagation direction and the applied magnetic field form a 30∘superscript3030^{\\\\circ}30 start_POSTSUPERSCRIPT ∘ end_POSTSUPERSCRIPT angle (φHsubscript𝜑𝐻\\\\varphi_{H}italic_φ start_POSTSUBSCRIPT italic_H end_POSTSUBSCRIPT). Each point represents the MAW resonance frequency for a given magnetic field. For MS=500subscript𝑀𝑆500M_{S}=500italic_M start_POSTSUBSCRIPT italic_S end_POSTSUBSCRIPT = 500 kA/m3 (red squares), the resonance starts close to 500 MHz and increases with the applied magnetic field. In contrast, for MS=1300subscript𝑀𝑆1300M_{S}=1300italic_M start_POSTSUBSCRIPT italic_S end_POSTSUBSCRIPT = 1300 kA/m3 (black dots), the resonance starts around 3 GHz, so exciting it with SAWs at 500 MHz results in non-resonance MAWs. The gap between FMR (λ=∞𝜆\\\\lambda=\\\\inftyitalic_λ = ∞) and MAW resonance increases with MSsubscript𝑀𝑆M_{S}italic_M start_POSTSUBSCRIPT italic_S end_POSTSUBSCRIPT, as shown for nickel (MS=500subscript𝑀𝑆500M_{S}=500italic_M start_POSTSUBSCRIPT italic_S end_POSTSUBSCRIPT = 500 kA/m3) and FeGa (MS=1300subscript𝑀𝑆1300M_{S}=1300italic_M start_POSTSUBSCRIPT italic_S end_POSTSUBSCRIPT = 1300 kA/m3).']}\n"
          ]
        }
      ]
    },
    {
      "cell_type": "code",
      "source": [
        "documents[\"magnetostriction\"]"
      ],
      "metadata": {
        "id": "BaWYMthivcli",
        "colab": {
          "base_uri": "https://localhost:8080/"
        },
        "outputId": "70247f4f-2b2e-48e1-c8b4-395eb1a049d7"
      },
      "execution_count": 43,
      "outputs": [
        {
          "output_type": "execute_result",
          "data": {
            "text/plain": [
              "['We chose FeGa films for their high magnetostriction, anticipating large MAW amplitudes. However, from the experimental results we estimate a value of the magnetoelastic constant that is similar to those observed in nickel and cobalt thin films [30] but with a MAW amplitude about ten times smaller than in nickel, though comparable to cobalt. We ascribe this reduction in MAW amplitude to the MSsubscript𝑀𝑆M_{S}italic_M start_POSTSUBSCRIPT italic_S end_POSTSUBSCRIPT value of FeGa and the dependence of MAW dispersion relations on the applied field angle. It is worth noticing that MAWs propagate at a certain angle relative to the magnetization direction (30∘ in the present study).',\n",
              " 'We chose FeGa films for their high magnetostriction, anticipating large MAW amplitudes. However, from the experimental results we estimate a value of the magnetoelastic constant that is similar to those observed in nickel and cobalt thin films [30] but with a MAW amplitude about ten times smaller than in nickel, though comparable to cobalt. We ascribe this reduction in MAW amplitude to the MSsubscript𝑀𝑆M_{S}italic_M start_POSTSUBSCRIPT italic_S end_POSTSUBSCRIPT value of FeGa and the dependence of MAW dispersion relations on the applied field angle. It is worth noticing that MAWs propagate at a certain angle relative to the magnetization direction (30∘ in the present study).']"
            ]
          },
          "metadata": {},
          "execution_count": 43
        }
      ]
    },
    {
      "cell_type": "code",
      "source": [
        "documents[\"ferromagnetic\"]"
      ],
      "metadata": {
        "colab": {
          "base_uri": "https://localhost:8080/"
        },
        "id": "fbKaI6Wk4Un3",
        "outputId": "ade19fc2-22bb-471e-c208-03b1a586ede2"
      },
      "execution_count": 44,
      "outputs": [
        {
          "output_type": "execute_result",
          "data": {
            "text/plain": [
              "['Integrating magnetic devices into electronic circuits requires efficient mechanisms for electrical control of magnetization in ferromagnetic (FM) nanomagnets, as opposed to magnetic field control. Electric-field control of magnetism has garnered significant attention for its potential to design ultralow-power spintronic devices.[1] Current research focuses on using spin-polarized currents to exert torques on magnetic moments by transferring spin angular momentum.[2, 3] Various device geometries and material combinations have been proposed to generate high spin current densities, often leveraging spin-orbit interactions through Rashba, Dresselhaus, and spin Hall effects.[4, 5, 6, 7, 8] This approach allows for manipulating the magnetization in nanostructures with significantly reduced energy requirements.',\n",
              " 'Our experiment involves placing the FM thin film on the acoustic path of a piezoelectric substrate and exciting SAWs through IDTs at 500 MHz. Due to the magnetostrictive nature of FeGa, the deformation caused by the SAWs generates an oscillating anisotropy, leading to periodic changes in the magnetization direction. We directly image the resulting MAWs using X-ray microscopy and quantify the dynamic magnetoelastic coupling.',\n",
              " 'We initially characterized the sample using ferromagnetic resonance (FMR) and magneto-optical Kerr effect (MOKE) microscopy. We measured the FMR on a separate FeGa sample grown simultaneously with the magnetoacoustic device on an identical substrate to ensure that both objects had the same magnetic properties. In the FMR experiment, we placed the sample on a coplanar waveguide and excited it at various frequencies while sweeping the magnetic field from −400400-400- 400 mT to 400400400400 mT. At specific magnetic fields and MW frequencies, the magnetization enters resonance, absorbing more MW power and resulting in a dip in the transmission coefficient, which appears as darker shades in Fig. 1(b). The frequency and magnetic field of these resonances follow Kittel’s equation[40]',\n",
              " 'Integrating magnetic devices into electronic circuits requires efficient mechanisms for electrical control of magnetization in ferromagnetic (FM) nanomagnets, as opposed to magnetic field control. Electric-field control of magnetism has garnered significant attention for its potential to design ultralow-power spintronic devices.[1] Current research focuses on using spin-polarized currents to exert torques on magnetic moments by transferring spin angular momentum.[2, 3] Various device geometries and material combinations have been proposed to generate high spin current densities, often leveraging spin-orbit interactions through Rashba, Dresselhaus, and spin Hall effects.[4, 5, 6, 7, 8] This approach allows for manipulating the magnetization in nanostructures with significantly reduced energy requirements.',\n",
              " 'Our experiment involves placing the FM thin film on the acoustic path of a piezoelectric substrate and exciting SAWs through IDTs at 500 MHz. Due to the magnetostrictive nature of FeGa, the deformation caused by the SAWs generates an oscillating anisotropy, leading to periodic changes in the magnetization direction. We directly image the resulting MAWs using X-ray microscopy and quantify the dynamic magnetoelastic coupling.',\n",
              " 'We initially characterized the sample using ferromagnetic resonance (FMR) and magneto-optical Kerr effect (MOKE) microscopy. We measured the FMR on a separate FeGa sample grown simultaneously with the magnetoacoustic device on an identical substrate to ensure that both objects had the same magnetic properties. In the FMR experiment, we placed the sample on a coplanar waveguide and excited it at various frequencies while sweeping the magnetic field from −400400-400- 400 mT to 400400400400 mT. At specific magnetic fields and MW frequencies, the magnetization enters resonance, absorbing more MW power and resulting in a dip in the transmission coefficient, which appears as darker shades in Fig. 1(b). The frequency and magnetic field of these resonances follow Kittel’s equation[40]']"
            ]
          },
          "metadata": {},
          "execution_count": 44
        }
      ]
    },
    {
      "cell_type": "markdown",
      "source": [
        "##This is rag-enhanced answers"
      ],
      "metadata": {
        "id": "DU7nDICL0B42"
      }
    },
    {
      "cell_type": "code",
      "source": [
        "def retriever_1(prompt):\n",
        "  ragdata = []\n",
        "  for i in candidate_labels:\n",
        "    if i in prompt:  # Corrected condition\n",
        "      ragdata.append((i, documents[i]))  # Appending a tuple\n",
        "  return ragdata\n",
        "def enhanced_generate(prompt, retriever, model):\n",
        "    # Use the retriever to get relevant context/documents\n",
        "    related_docs = retriever(prompt)\n",
        "    # Combine the prompt and the related documents\n",
        "    context_prompt = f\"Context: {related_docs}\\n\\nPrompt: {prompt}\"\n",
        "    # Use the model to generate content with the added context\n",
        "    response = model.generate_content(context_prompt)\n",
        "    return response.text"
      ],
      "metadata": {
        "id": "6JtcAKcg5Mfb"
      },
      "execution_count": 17,
      "outputs": []
    },
    {
      "cell_type": "code",
      "source": [
        "prompt = \"What is the magnetostriction, how does it perform in the Fe-Ga alloy systems\"\n",
        "retrieved_context = retriever_1(prompt)\n",
        "print(\"retrieved_context:\",retrieved_context)\n",
        "# Generate enhanced content using RAG approach\n",
        "generated_response = enhanced_generate(prompt, retriever_1, model)\n",
        "\n",
        "# Display the result in markdown format\n",
        "display(to_markdown(generated_response)) #just for test"
      ],
      "metadata": {
        "colab": {
          "base_uri": "https://localhost:8080/",
          "height": 332
        },
        "id": "94vuNTNjyfaO",
        "outputId": "46c28e16-a3cd-4095-e462-acbf825736c3"
      },
      "execution_count": 24,
      "outputs": [
        {
          "output_type": "stream",
          "name": "stdout",
          "text": [
            "retrieved_context: [('magnetostriction', ['We chose FeGa films for their high magnetostriction, anticipating large MAW amplitudes. However, from the experimental results we estimate a value of the magnetoelastic constant that is similar to those observed in nickel and cobalt thin films [30] but with a MAW amplitude about ten times smaller than in nickel, though comparable to cobalt. We ascribe this reduction in MAW amplitude to the MSsubscript𝑀𝑆M_{S}italic_M start_POSTSUBSCRIPT italic_S end_POSTSUBSCRIPT value of FeGa and the dependence of MAW dispersion relations on the applied field angle. It is worth noticing that MAWs propagate at a certain angle relative to the magnetization direction (30∘ in the present study).', 'We chose FeGa films for their high magnetostriction, anticipating large MAW amplitudes. However, from the experimental results we estimate a value of the magnetoelastic constant that is similar to those observed in nickel and cobalt thin films [30] but with a MAW amplitude about ten times smaller than in nickel, though comparable to cobalt. We ascribe this reduction in MAW amplitude to the MSsubscript𝑀𝑆M_{S}italic_M start_POSTSUBSCRIPT italic_S end_POSTSUBSCRIPT value of FeGa and the dependence of MAW dispersion relations on the applied field angle. It is worth noticing that MAWs propagate at a certain angle relative to the magnetization direction (30∘ in the present study).'])]\n"
          ]
        },
        {
          "output_type": "display_data",
          "data": {
            "text/plain": [
              "<IPython.core.display.Markdown object>"
            ],
            "text/markdown": "> The text states that **magnetostriction** is a property of materials that causes them to change shape when subjected to a magnetic field. This change in shape is related to the material's magnetic properties. \n> \n> The text specifically focuses on **FeGa (iron-gallium) alloy systems**. They highlight that FeGa films are chosen for their **high magnetostriction**, which is expected to lead to large MAW (magnetoacoustic wave) amplitudes.\n> \n> However, the experimental results show that while the magnetoelastic constant in FeGa is similar to that of nickel and cobalt thin films, the MAW amplitude is significantly smaller in FeGa. This is attributed to:\n> \n> * **The MSsubscript𝑀𝑆M_{S}italic_M start_POSTSUBSCRIPT italic_S end_POSTSUBSCRIPT value of FeGa**: This likely refers to the saturation magnetostriction, which is the maximum change in length that a material undergoes when subjected to a magnetic field.  While FeGa has high magnetostriction, its saturation magnetostriction might be lower than expected, limiting the MAW amplitude.\n> * **The dependence of MAW dispersion relations on the applied field angle**: The MAWs propagate at an angle relative to the magnetization direction, and this angle can influence the wave amplitude. \n> \n> Therefore, while FeGa alloys have high magnetostriction, its application for MAW generation is limited due to its relatively lower saturation magnetostriction and the angle dependence of MAW propagation. \n"
          },
          "metadata": {}
        }
      ]
    },
    {
      "cell_type": "code",
      "source": [
        "prompt = \"Tell me the relation between magnetostriction and magnetization\"\n",
        "retrieved_context = retriever_1(prompt)\n",
        "print(\"retrieved_context:\",retrieved_context)\n",
        "# Generate enhanced content using RAG approach\n",
        "generated_response = enhanced_generate(prompt, retriever_1, model)\n",
        "\n",
        "# Display the result in markdown format\n",
        "display(to_markdown(generated_response)) #just for test"
      ],
      "metadata": {
        "colab": {
          "base_uri": "https://localhost:8080/",
          "height": 373
        },
        "id": "tFRmPkoW7Dxf",
        "outputId": "122cc4bf-90a6-4acf-f290-3079394b8bdb"
      },
      "execution_count": 28,
      "outputs": [
        {
          "output_type": "stream",
          "name": "stdout",
          "text": [
            "retrieved_context: [('magnetization', ['Another efficient method for controlling magnetization using electric fields involves electrical tailoring magnetic anisotropy, a high-speed technique compatible with existing technologies.[9, 10] In this work, we study phonon coupling to magnetization [11, 12] in bilayer heterostructures that combine a piezoelectric material with a highly magnetostrictive FM iron-gallium (Fe72Ga28) alloy. We use voltage-controlled surface acoustic waves (SAWs) to generate a spatially and temporally varying magnetic anisotropy in the FM alloy.', 'In the past decade, numerous studies have demonstrated that SAWs can efficiently couple to magnetization via the magnetoelastic effect,[18, 19, 20, 21, 22, 23, 24] focusing on the magnetoacoustic waves (MAWs) generated by SAWs.[25, 25, 26, 27, 28, 29, 30] Transition metal FMs, including Heusler alloys with similar bulk magnetostriction coefficients (∼10−5similar-toabsentsuperscript105\\\\sim 10^{-5}∼ 10 start_POSTSUPERSCRIPT - 5 end_POSTSUPERSCRIPT), have shown significant variations in MAW amplitudes.', 'In this work, we investigate the interaction of SAWs with magnetization in a 10-nm-thick Fe72Ga28 thin film,\\nwhich has rich-Ga content compared with previous studies,[35, 36, 37, 31, 32, 33, 34] and falls within the ‘second peak’ of magnetostriction for FeGa alloys, a region known for enhanced magnetostrictive properties.[38, 39]\\nWe chose the thickness of 10 nm to ensure a low coercive field and small anisotropy.[36]', 'where γ𝛾\\\\gammaitalic_γ is the gyromagnetic ratio (γ≈28𝛾28\\\\gamma\\\\approx 28italic_γ ≈ 28\\xa0GHz/T), and μ0\\u2062Meffsubscript𝜇0subscript𝑀eff\\\\mu_{0}M_{\\\\mathrm{eff}}italic_μ start_POSTSUBSCRIPT 0 end_POSTSUBSCRIPT italic_M start_POSTSUBSCRIPT roman_eff end_POSTSUBSCRIPT is the effective magnetization saturation, which we estimated to be around 1.4\\xa0T from data shown in Fig.\\xa01(b). The effective magnetization saturation is given as Meff=MS−Hksubscript𝑀effsubscript𝑀𝑆subscript𝐻𝑘M_{\\\\mathrm{eff}}=M_{S}-H_{k}italic_M start_POSTSUBSCRIPT roman_eff end_POSTSUBSCRIPT = italic_M start_POSTSUBSCRIPT italic_S end_POSTSUBSCRIPT - italic_H start_POSTSUBSCRIPT italic_k end_POSTSUBSCRIPT, where MSsubscript𝑀𝑆M_{S}italic_M start_POSTSUBSCRIPT italic_S end_POSTSUBSCRIPT is the magnetization saturation, and Hksubscript𝐻𝑘H_{k}italic_H start_POSTSUBSCRIPT italic_k end_POSTSUBSCRIPT is the out-of-plane anisotropy field. We expect this field to be small in FeGa, so that Meff≈MSsubscript𝑀effsubscript𝑀𝑆M_{\\\\rm eff}\\\\approx M_{S}italic_M start_POSTSUBSCRIPT roman_eff end_POSTSUBSCRIPT ≈ italic_M start_POSTSUBSCRIPT italic_S end_POSTSUBSCRIPT. In addition, the linewidth (μ0\\u2062Δ\\u2062Hsubscript𝜇0Δ𝐻\\\\mu_{0}\\\\Delta Hitalic_μ start_POSTSUBSCRIPT 0 end_POSTSUBSCRIPT roman_Δ italic_H) of the FMR resonances follows a linear frequency dependence [41]', 'To study the effect of SAWs on the magnetization dynamics of FeGa, we used direct imaging with X-ray photoemission electron microscopy (XPEEM) at the ALBA synchrotron facility. This technique allows us to observe and quantify both SAWs and MAWs. The experiment involves illuminating the sample with X-rays at the L3subscript𝐿3L_{3}italic_L start_POSTSUBSCRIPT 3 end_POSTSUBSCRIPT energy edge of Fe, which excites secondary electrons. A 10 kV potential between the device and the XPEEM objective pulls out these electrons. Two types of images can be obtained: XPEEM, which is sensitive to the piezoelectric voltage at the sample surface, and X-ray magnetic circular dichroism (XMCD), which provides magnetic contrast by subtracting two images taken with opposite circular helicity, canceling non-helicity-dependent effects.', 'Next, we compared our results to micromagnetic simulations to quantify the magnetoelastic coupling constant. We used the MuMax3 simulation software,[45] which incorporates all effective field contributions, including Zeeman, demagnetization, anisotropy, and magnetoelastic fields generated by the coupling between SAWs and magnetization. The effective magnetoelastic field is given by', 'where Bisubscript𝐵𝑖B_{i}italic_B start_POSTSUBSCRIPT italic_i end_POSTSUBSCRIPT are the magnetoelastic constants, and misubscript𝑚𝑖m_{i}italic_m start_POSTSUBSCRIPT italic_i end_POSTSUBSCRIPT are the normalized magnetization components. The sample is polycrystalline, so B1=B2subscript𝐵1subscript𝐵2B_{1}=B_{2}italic_B start_POSTSUBSCRIPT 1 end_POSTSUBSCRIPT = italic_B start_POSTSUBSCRIPT 2 end_POSTSUBSCRIPT. The simulation that better reproduces the experimental results uses B1=4subscript𝐵14B_{1}=4italic_B start_POSTSUBSCRIPT 1 end_POSTSUBSCRIPT = 4\\xa0MJ/m3 and a small in-plane anisotropy of about 1 mT in the x𝑥xitalic_x direction, parallel to the direction of SAW propagation. The results, shown as a solid purple line in Fig. 3(c), reveal a peak at 1 mT due to the in-plane uniaxial anisotropy rather than a magnetic resonance. Since the SAW frequency is below the resonance frequency, the maximum effective field is near zero and thus generates maximum magnetization oscillation.', 'To summarize, we investigated the dynamic interaction between SAWs and magnetization in a galfenol thin film on a piezoelectric LiNbO3 substrate. We demonstrated the electric control of magnetization waves through XMPEEM measurements. Our findings revealed the presence of both SAWs and magnetoacoustic waves (MAWs) in the FM thin film, with the MAW amplitude being comparable to that in cobalt but smaller than in nickel. Our technique allows quantification of strain and MAW amplitude and thus enables us to obtain an estimate for the magnetoelastic constant (B1=4subscript𝐵14B_{1}=4italic_B start_POSTSUBSCRIPT 1 end_POSTSUBSCRIPT = 4\\xa0MJ/m3) in sputtered 10 nm galfenol thin film with rich-Ga content (Fe72Ga28). Our simulations indicate that we generate MAW in a non-resonance mode and suggest that we can achieve larger MAW amplitudes when resonance conditions are fulfilled. The simulations also show that parameters such as the film’s magnetic moment or propagation angle between MAW and magnetization play a crucial role in determining the resonance condition and setting the overall MAW amplitude.', 'Another efficient method for controlling magnetization using electric fields involves electrical tailoring magnetic anisotropy, a high-speed technique compatible with existing technologies.[9, 10] In this work, we study phonon coupling to magnetization [11, 12] in bilayer heterostructures that combine a piezoelectric material with a highly magnetostrictive FM iron-gallium (Fe72Ga28) alloy. We use voltage-controlled surface acoustic waves (SAWs) to generate a spatially and temporally varying magnetic anisotropy in the FM alloy.', 'In the past decade, numerous studies have demonstrated that SAWs can efficiently couple to magnetization via the magnetoelastic effect,[18, 19, 20, 21, 22, 23, 24] focusing on the magnetoacoustic waves (MAWs) generated by SAWs.[25, 25, 26, 27, 28, 29, 30] Transition metal FMs, including Heusler alloys with similar bulk magnetostriction coefficients (∼10−5similar-toabsentsuperscript105\\\\sim 10^{-5}∼ 10 start_POSTSUPERSCRIPT - 5 end_POSTSUPERSCRIPT), have shown significant variations in MAW amplitudes.', 'In this work, we investigate the interaction of SAWs with magnetization in a 10-nm-thick Fe72Ga28 thin film,\\nwhich has rich-Ga content compared with previous studies,[35, 36, 37, 31, 32, 33, 34] and falls within the ‘second peak’ of magnetostriction for FeGa alloys, a region known for enhanced magnetostrictive properties.[38, 39]\\nWe chose the thickness of 10 nm to ensure a low coercive field and small anisotropy.[36]', 'where γ𝛾\\\\gammaitalic_γ is the gyromagnetic ratio (γ≈28𝛾28\\\\gamma\\\\approx 28italic_γ ≈ 28\\xa0GHz/T), and μ0\\u2062Meffsubscript𝜇0subscript𝑀eff\\\\mu_{0}M_{\\\\mathrm{eff}}italic_μ start_POSTSUBSCRIPT 0 end_POSTSUBSCRIPT italic_M start_POSTSUBSCRIPT roman_eff end_POSTSUBSCRIPT is the effective magnetization saturation, which we estimated to be around 1.4\\xa0T from data shown in Fig.\\xa01(b). The effective magnetization saturation is given as Meff=MS−Hksubscript𝑀effsubscript𝑀𝑆subscript𝐻𝑘M_{\\\\mathrm{eff}}=M_{S}-H_{k}italic_M start_POSTSUBSCRIPT roman_eff end_POSTSUBSCRIPT = italic_M start_POSTSUBSCRIPT italic_S end_POSTSUBSCRIPT - italic_H start_POSTSUBSCRIPT italic_k end_POSTSUBSCRIPT, where MSsubscript𝑀𝑆M_{S}italic_M start_POSTSUBSCRIPT italic_S end_POSTSUBSCRIPT is the magnetization saturation, and Hksubscript𝐻𝑘H_{k}italic_H start_POSTSUBSCRIPT italic_k end_POSTSUBSCRIPT is the out-of-plane anisotropy field. We expect this field to be small in FeGa, so that Meff≈MSsubscript𝑀effsubscript𝑀𝑆M_{\\\\rm eff}\\\\approx M_{S}italic_M start_POSTSUBSCRIPT roman_eff end_POSTSUBSCRIPT ≈ italic_M start_POSTSUBSCRIPT italic_S end_POSTSUBSCRIPT. In addition, the linewidth (μ0\\u2062Δ\\u2062Hsubscript𝜇0Δ𝐻\\\\mu_{0}\\\\Delta Hitalic_μ start_POSTSUBSCRIPT 0 end_POSTSUBSCRIPT roman_Δ italic_H) of the FMR resonances follows a linear frequency dependence [41]', 'To study the effect of SAWs on the magnetization dynamics of FeGa, we used direct imaging with X-ray photoemission electron microscopy (XPEEM) at the ALBA synchrotron facility. This technique allows us to observe and quantify both SAWs and MAWs. The experiment involves illuminating the sample with X-rays at the L3subscript𝐿3L_{3}italic_L start_POSTSUBSCRIPT 3 end_POSTSUBSCRIPT energy edge of Fe, which excites secondary electrons. A 10 kV potential between the device and the XPEEM objective pulls out these electrons. Two types of images can be obtained: XPEEM, which is sensitive to the piezoelectric voltage at the sample surface, and X-ray magnetic circular dichroism (XMCD), which provides magnetic contrast by subtracting two images taken with opposite circular helicity, canceling non-helicity-dependent effects.', 'Next, we compared our results to micromagnetic simulations to quantify the magnetoelastic coupling constant. We used the MuMax3 simulation software,[45] which incorporates all effective field contributions, including Zeeman, demagnetization, anisotropy, and magnetoelastic fields generated by the coupling between SAWs and magnetization. The effective magnetoelastic field is given by', 'where Bisubscript𝐵𝑖B_{i}italic_B start_POSTSUBSCRIPT italic_i end_POSTSUBSCRIPT are the magnetoelastic constants, and misubscript𝑚𝑖m_{i}italic_m start_POSTSUBSCRIPT italic_i end_POSTSUBSCRIPT are the normalized magnetization components. The sample is polycrystalline, so B1=B2subscript𝐵1subscript𝐵2B_{1}=B_{2}italic_B start_POSTSUBSCRIPT 1 end_POSTSUBSCRIPT = italic_B start_POSTSUBSCRIPT 2 end_POSTSUBSCRIPT. The simulation that better reproduces the experimental results uses B1=4subscript𝐵14B_{1}=4italic_B start_POSTSUBSCRIPT 1 end_POSTSUBSCRIPT = 4\\xa0MJ/m3 and a small in-plane anisotropy of about 1 mT in the x𝑥xitalic_x direction, parallel to the direction of SAW propagation. The results, shown as a solid purple line in Fig. 3(c), reveal a peak at 1 mT due to the in-plane uniaxial anisotropy rather than a magnetic resonance. Since the SAW frequency is below the resonance frequency, the maximum effective field is near zero and thus generates maximum magnetization oscillation.', 'To summarize, we investigated the dynamic interaction between SAWs and magnetization in a galfenol thin film on a piezoelectric LiNbO3 substrate. We demonstrated the electric control of magnetization waves through XMPEEM measurements. Our findings revealed the presence of both SAWs and magnetoacoustic waves (MAWs) in the FM thin film, with the MAW amplitude being comparable to that in cobalt but smaller than in nickel. Our technique allows quantification of strain and MAW amplitude and thus enables us to obtain an estimate for the magnetoelastic constant (B1=4subscript𝐵14B_{1}=4italic_B start_POSTSUBSCRIPT 1 end_POSTSUBSCRIPT = 4\\xa0MJ/m3) in sputtered 10 nm galfenol thin film with rich-Ga content (Fe72Ga28). Our simulations indicate that we generate MAW in a non-resonance mode and suggest that we can achieve larger MAW amplitudes when resonance conditions are fulfilled. The simulations also show that parameters such as the film’s magnetic moment or propagation angle between MAW and magnetization play a crucial role in determining the resonance condition and setting the overall MAW amplitude.']), ('magnetostriction', ['We chose FeGa films for their high magnetostriction, anticipating large MAW amplitudes. However, from the experimental results we estimate a value of the magnetoelastic constant that is similar to those observed in nickel and cobalt thin films [30] but with a MAW amplitude about ten times smaller than in nickel, though comparable to cobalt. We ascribe this reduction in MAW amplitude to the MSsubscript𝑀𝑆M_{S}italic_M start_POSTSUBSCRIPT italic_S end_POSTSUBSCRIPT value of FeGa and the dependence of MAW dispersion relations on the applied field angle. It is worth noticing that MAWs propagate at a certain angle relative to the magnetization direction (30∘ in the present study).', 'We chose FeGa films for their high magnetostriction, anticipating large MAW amplitudes. However, from the experimental results we estimate a value of the magnetoelastic constant that is similar to those observed in nickel and cobalt thin films [30] but with a MAW amplitude about ten times smaller than in nickel, though comparable to cobalt. We ascribe this reduction in MAW amplitude to the MSsubscript𝑀𝑆M_{S}italic_M start_POSTSUBSCRIPT italic_S end_POSTSUBSCRIPT value of FeGa and the dependence of MAW dispersion relations on the applied field angle. It is worth noticing that MAWs propagate at a certain angle relative to the magnetization direction (30∘ in the present study).'])]\n"
          ]
        },
        {
          "output_type": "display_data",
          "data": {
            "text/plain": [
              "<IPython.core.display.Markdown object>"
            ],
            "text/markdown": "> Magnetostriction and magnetization are closely related. Here's the breakdown:\n> \n> * **Magnetostriction** is the phenomenon where a material changes its shape or dimensions in response to an applied magnetic field. This change is a direct consequence of the material's internal magnetic domains aligning themselves with the external field.\n> * **Magnetization** refers to the overall magnetic moment of a material. In essence, it's a measure of how strongly the material is magnetized.\n> \n> **How they relate:**\n> \n> * **Magnetostriction is a manifestation of magnetization.** The stronger the magnetization of a material, the greater the change in shape (i.e., the greater the magnetostriction) when a magnetic field is applied. \n> * **Materials with high magnetostriction coefficients tend to have large magnetization values.** This is because they have a strong coupling between their magnetic domains and their physical structure, allowing for significant shape changes in response to magnetic fields.\n> \n> **In the context of your provided text:**\n> \n> The text mentions that FeGa alloys have a high magnetostriction coefficient, making them good candidates for generating magnetoacoustic waves (MAWs). This high magnetostriction suggests that FeGa alloys have strong magnetization. However, the text also notes that while the magnetoelastic constant is similar to those observed in nickel and cobalt, the MAW amplitude is much smaller. This suggests that factors other than simply magnetization alone are at play in determining the amplitude of MAWs, like the angle between the MAW propagation and the magnetization direction. \n"
          },
          "metadata": {}
        }
      ]
    },
    {
      "cell_type": "code",
      "source": [
        "prompt = \"What are the latest progresses about magnetostriciton and magnetization today\"\n",
        "retrieved_context = retriever_1(prompt)\n",
        "print(\"retrieved_context:\",retrieved_context)\n",
        "# Generate enhanced content using RAG approach\n",
        "generated_response = enhanced_generate(prompt, retriever_1, model)\n",
        "\n",
        "# Display the result in markdown format\n",
        "display(to_markdown(generated_response)) #just for test"
      ],
      "metadata": {
        "colab": {
          "base_uri": "https://localhost:8080/",
          "height": 575
        },
        "id": "bQby7blp7bz7",
        "outputId": "eb157fdb-b8b3-4681-93e7-6233626bbbd3"
      },
      "execution_count": 32,
      "outputs": [
        {
          "output_type": "stream",
          "name": "stdout",
          "text": [
            "retrieved_context: [('magnetization', ['Another efficient method for controlling magnetization using electric fields involves electrical tailoring magnetic anisotropy, a high-speed technique compatible with existing technologies.[9, 10] In this work, we study phonon coupling to magnetization [11, 12] in bilayer heterostructures that combine a piezoelectric material with a highly magnetostrictive FM iron-gallium (Fe72Ga28) alloy. We use voltage-controlled surface acoustic waves (SAWs) to generate a spatially and temporally varying magnetic anisotropy in the FM alloy.', 'In the past decade, numerous studies have demonstrated that SAWs can efficiently couple to magnetization via the magnetoelastic effect,[18, 19, 20, 21, 22, 23, 24] focusing on the magnetoacoustic waves (MAWs) generated by SAWs.[25, 25, 26, 27, 28, 29, 30] Transition metal FMs, including Heusler alloys with similar bulk magnetostriction coefficients (∼10−5similar-toabsentsuperscript105\\\\sim 10^{-5}∼ 10 start_POSTSUPERSCRIPT - 5 end_POSTSUPERSCRIPT), have shown significant variations in MAW amplitudes.', 'In this work, we investigate the interaction of SAWs with magnetization in a 10-nm-thick Fe72Ga28 thin film,\\nwhich has rich-Ga content compared with previous studies,[35, 36, 37, 31, 32, 33, 34] and falls within the ‘second peak’ of magnetostriction for FeGa alloys, a region known for enhanced magnetostrictive properties.[38, 39]\\nWe chose the thickness of 10 nm to ensure a low coercive field and small anisotropy.[36]', 'where γ𝛾\\\\gammaitalic_γ is the gyromagnetic ratio (γ≈28𝛾28\\\\gamma\\\\approx 28italic_γ ≈ 28\\xa0GHz/T), and μ0\\u2062Meffsubscript𝜇0subscript𝑀eff\\\\mu_{0}M_{\\\\mathrm{eff}}italic_μ start_POSTSUBSCRIPT 0 end_POSTSUBSCRIPT italic_M start_POSTSUBSCRIPT roman_eff end_POSTSUBSCRIPT is the effective magnetization saturation, which we estimated to be around 1.4\\xa0T from data shown in Fig.\\xa01(b). The effective magnetization saturation is given as Meff=MS−Hksubscript𝑀effsubscript𝑀𝑆subscript𝐻𝑘M_{\\\\mathrm{eff}}=M_{S}-H_{k}italic_M start_POSTSUBSCRIPT roman_eff end_POSTSUBSCRIPT = italic_M start_POSTSUBSCRIPT italic_S end_POSTSUBSCRIPT - italic_H start_POSTSUBSCRIPT italic_k end_POSTSUBSCRIPT, where MSsubscript𝑀𝑆M_{S}italic_M start_POSTSUBSCRIPT italic_S end_POSTSUBSCRIPT is the magnetization saturation, and Hksubscript𝐻𝑘H_{k}italic_H start_POSTSUBSCRIPT italic_k end_POSTSUBSCRIPT is the out-of-plane anisotropy field. We expect this field to be small in FeGa, so that Meff≈MSsubscript𝑀effsubscript𝑀𝑆M_{\\\\rm eff}\\\\approx M_{S}italic_M start_POSTSUBSCRIPT roman_eff end_POSTSUBSCRIPT ≈ italic_M start_POSTSUBSCRIPT italic_S end_POSTSUBSCRIPT. In addition, the linewidth (μ0\\u2062Δ\\u2062Hsubscript𝜇0Δ𝐻\\\\mu_{0}\\\\Delta Hitalic_μ start_POSTSUBSCRIPT 0 end_POSTSUBSCRIPT roman_Δ italic_H) of the FMR resonances follows a linear frequency dependence [41]', 'To study the effect of SAWs on the magnetization dynamics of FeGa, we used direct imaging with X-ray photoemission electron microscopy (XPEEM) at the ALBA synchrotron facility. This technique allows us to observe and quantify both SAWs and MAWs. The experiment involves illuminating the sample with X-rays at the L3subscript𝐿3L_{3}italic_L start_POSTSUBSCRIPT 3 end_POSTSUBSCRIPT energy edge of Fe, which excites secondary electrons. A 10 kV potential between the device and the XPEEM objective pulls out these electrons. Two types of images can be obtained: XPEEM, which is sensitive to the piezoelectric voltage at the sample surface, and X-ray magnetic circular dichroism (XMCD), which provides magnetic contrast by subtracting two images taken with opposite circular helicity, canceling non-helicity-dependent effects.', 'Next, we compared our results to micromagnetic simulations to quantify the magnetoelastic coupling constant. We used the MuMax3 simulation software,[45] which incorporates all effective field contributions, including Zeeman, demagnetization, anisotropy, and magnetoelastic fields generated by the coupling between SAWs and magnetization. The effective magnetoelastic field is given by', 'where Bisubscript𝐵𝑖B_{i}italic_B start_POSTSUBSCRIPT italic_i end_POSTSUBSCRIPT are the magnetoelastic constants, and misubscript𝑚𝑖m_{i}italic_m start_POSTSUBSCRIPT italic_i end_POSTSUBSCRIPT are the normalized magnetization components. The sample is polycrystalline, so B1=B2subscript𝐵1subscript𝐵2B_{1}=B_{2}italic_B start_POSTSUBSCRIPT 1 end_POSTSUBSCRIPT = italic_B start_POSTSUBSCRIPT 2 end_POSTSUBSCRIPT. The simulation that better reproduces the experimental results uses B1=4subscript𝐵14B_{1}=4italic_B start_POSTSUBSCRIPT 1 end_POSTSUBSCRIPT = 4\\xa0MJ/m3 and a small in-plane anisotropy of about 1 mT in the x𝑥xitalic_x direction, parallel to the direction of SAW propagation. The results, shown as a solid purple line in Fig. 3(c), reveal a peak at 1 mT due to the in-plane uniaxial anisotropy rather than a magnetic resonance. Since the SAW frequency is below the resonance frequency, the maximum effective field is near zero and thus generates maximum magnetization oscillation.', 'To summarize, we investigated the dynamic interaction between SAWs and magnetization in a galfenol thin film on a piezoelectric LiNbO3 substrate. We demonstrated the electric control of magnetization waves through XMPEEM measurements. Our findings revealed the presence of both SAWs and magnetoacoustic waves (MAWs) in the FM thin film, with the MAW amplitude being comparable to that in cobalt but smaller than in nickel. Our technique allows quantification of strain and MAW amplitude and thus enables us to obtain an estimate for the magnetoelastic constant (B1=4subscript𝐵14B_{1}=4italic_B start_POSTSUBSCRIPT 1 end_POSTSUBSCRIPT = 4\\xa0MJ/m3) in sputtered 10 nm galfenol thin film with rich-Ga content (Fe72Ga28). Our simulations indicate that we generate MAW in a non-resonance mode and suggest that we can achieve larger MAW amplitudes when resonance conditions are fulfilled. The simulations also show that parameters such as the film’s magnetic moment or propagation angle between MAW and magnetization play a crucial role in determining the resonance condition and setting the overall MAW amplitude.', 'Another efficient method for controlling magnetization using electric fields involves electrical tailoring magnetic anisotropy, a high-speed technique compatible with existing technologies.[9, 10] In this work, we study phonon coupling to magnetization [11, 12] in bilayer heterostructures that combine a piezoelectric material with a highly magnetostrictive FM iron-gallium (Fe72Ga28) alloy. We use voltage-controlled surface acoustic waves (SAWs) to generate a spatially and temporally varying magnetic anisotropy in the FM alloy.', 'In the past decade, numerous studies have demonstrated that SAWs can efficiently couple to magnetization via the magnetoelastic effect,[18, 19, 20, 21, 22, 23, 24] focusing on the magnetoacoustic waves (MAWs) generated by SAWs.[25, 25, 26, 27, 28, 29, 30] Transition metal FMs, including Heusler alloys with similar bulk magnetostriction coefficients (∼10−5similar-toabsentsuperscript105\\\\sim 10^{-5}∼ 10 start_POSTSUPERSCRIPT - 5 end_POSTSUPERSCRIPT), have shown significant variations in MAW amplitudes.', 'In this work, we investigate the interaction of SAWs with magnetization in a 10-nm-thick Fe72Ga28 thin film,\\nwhich has rich-Ga content compared with previous studies,[35, 36, 37, 31, 32, 33, 34] and falls within the ‘second peak’ of magnetostriction for FeGa alloys, a region known for enhanced magnetostrictive properties.[38, 39]\\nWe chose the thickness of 10 nm to ensure a low coercive field and small anisotropy.[36]', 'where γ𝛾\\\\gammaitalic_γ is the gyromagnetic ratio (γ≈28𝛾28\\\\gamma\\\\approx 28italic_γ ≈ 28\\xa0GHz/T), and μ0\\u2062Meffsubscript𝜇0subscript𝑀eff\\\\mu_{0}M_{\\\\mathrm{eff}}italic_μ start_POSTSUBSCRIPT 0 end_POSTSUBSCRIPT italic_M start_POSTSUBSCRIPT roman_eff end_POSTSUBSCRIPT is the effective magnetization saturation, which we estimated to be around 1.4\\xa0T from data shown in Fig.\\xa01(b). The effective magnetization saturation is given as Meff=MS−Hksubscript𝑀effsubscript𝑀𝑆subscript𝐻𝑘M_{\\\\mathrm{eff}}=M_{S}-H_{k}italic_M start_POSTSUBSCRIPT roman_eff end_POSTSUBSCRIPT = italic_M start_POSTSUBSCRIPT italic_S end_POSTSUBSCRIPT - italic_H start_POSTSUBSCRIPT italic_k end_POSTSUBSCRIPT, where MSsubscript𝑀𝑆M_{S}italic_M start_POSTSUBSCRIPT italic_S end_POSTSUBSCRIPT is the magnetization saturation, and Hksubscript𝐻𝑘H_{k}italic_H start_POSTSUBSCRIPT italic_k end_POSTSUBSCRIPT is the out-of-plane anisotropy field. We expect this field to be small in FeGa, so that Meff≈MSsubscript𝑀effsubscript𝑀𝑆M_{\\\\rm eff}\\\\approx M_{S}italic_M start_POSTSUBSCRIPT roman_eff end_POSTSUBSCRIPT ≈ italic_M start_POSTSUBSCRIPT italic_S end_POSTSUBSCRIPT. In addition, the linewidth (μ0\\u2062Δ\\u2062Hsubscript𝜇0Δ𝐻\\\\mu_{0}\\\\Delta Hitalic_μ start_POSTSUBSCRIPT 0 end_POSTSUBSCRIPT roman_Δ italic_H) of the FMR resonances follows a linear frequency dependence [41]', 'To study the effect of SAWs on the magnetization dynamics of FeGa, we used direct imaging with X-ray photoemission electron microscopy (XPEEM) at the ALBA synchrotron facility. This technique allows us to observe and quantify both SAWs and MAWs. The experiment involves illuminating the sample with X-rays at the L3subscript𝐿3L_{3}italic_L start_POSTSUBSCRIPT 3 end_POSTSUBSCRIPT energy edge of Fe, which excites secondary electrons. A 10 kV potential between the device and the XPEEM objective pulls out these electrons. Two types of images can be obtained: XPEEM, which is sensitive to the piezoelectric voltage at the sample surface, and X-ray magnetic circular dichroism (XMCD), which provides magnetic contrast by subtracting two images taken with opposite circular helicity, canceling non-helicity-dependent effects.', 'Next, we compared our results to micromagnetic simulations to quantify the magnetoelastic coupling constant. We used the MuMax3 simulation software,[45] which incorporates all effective field contributions, including Zeeman, demagnetization, anisotropy, and magnetoelastic fields generated by the coupling between SAWs and magnetization. The effective magnetoelastic field is given by', 'where Bisubscript𝐵𝑖B_{i}italic_B start_POSTSUBSCRIPT italic_i end_POSTSUBSCRIPT are the magnetoelastic constants, and misubscript𝑚𝑖m_{i}italic_m start_POSTSUBSCRIPT italic_i end_POSTSUBSCRIPT are the normalized magnetization components. The sample is polycrystalline, so B1=B2subscript𝐵1subscript𝐵2B_{1}=B_{2}italic_B start_POSTSUBSCRIPT 1 end_POSTSUBSCRIPT = italic_B start_POSTSUBSCRIPT 2 end_POSTSUBSCRIPT. The simulation that better reproduces the experimental results uses B1=4subscript𝐵14B_{1}=4italic_B start_POSTSUBSCRIPT 1 end_POSTSUBSCRIPT = 4\\xa0MJ/m3 and a small in-plane anisotropy of about 1 mT in the x𝑥xitalic_x direction, parallel to the direction of SAW propagation. The results, shown as a solid purple line in Fig. 3(c), reveal a peak at 1 mT due to the in-plane uniaxial anisotropy rather than a magnetic resonance. Since the SAW frequency is below the resonance frequency, the maximum effective field is near zero and thus generates maximum magnetization oscillation.', 'To summarize, we investigated the dynamic interaction between SAWs and magnetization in a galfenol thin film on a piezoelectric LiNbO3 substrate. We demonstrated the electric control of magnetization waves through XMPEEM measurements. Our findings revealed the presence of both SAWs and magnetoacoustic waves (MAWs) in the FM thin film, with the MAW amplitude being comparable to that in cobalt but smaller than in nickel. Our technique allows quantification of strain and MAW amplitude and thus enables us to obtain an estimate for the magnetoelastic constant (B1=4subscript𝐵14B_{1}=4italic_B start_POSTSUBSCRIPT 1 end_POSTSUBSCRIPT = 4\\xa0MJ/m3) in sputtered 10 nm galfenol thin film with rich-Ga content (Fe72Ga28). Our simulations indicate that we generate MAW in a non-resonance mode and suggest that we can achieve larger MAW amplitudes when resonance conditions are fulfilled. The simulations also show that parameters such as the film’s magnetic moment or propagation angle between MAW and magnetization play a crucial role in determining the resonance condition and setting the overall MAW amplitude.'])]\n"
          ]
        },
        {
          "output_type": "display_data",
          "data": {
            "text/plain": [
              "<IPython.core.display.Markdown object>"
            ],
            "text/markdown": "> The provided text discusses recent research on manipulating magnetization using surface acoustic waves (SAWs) in a bilayer heterostructure composed of a piezoelectric material and a magnetostrictive iron-gallium (Fe72Ga28) alloy. Here's a summary of the key points relevant to your query:\n> \n> **Key Progresses:**\n> \n> * **Electric Control of Magnetization Waves:** The research demonstrates the ability to control magnetization waves using electric fields. This is achieved by generating SAWs that interact with the magnetostrictive alloy, effectively tailoring the magnetic anisotropy.\n> * **Quantification of Magnetoelastic Coupling:** The study provides a method to quantify the magnetoelastic coupling constant in thin films using X-ray photoemission electron microscopy (XPEEM) and micromagnetic simulations. This allows for a better understanding of the interaction between SAWs and magnetization.\n> * **Non-Resonance Mode Generation:** The experiment reveals the generation of magnetoacoustic waves (MAWs) in a non-resonance mode. This opens possibilities for generating higher MAW amplitudes by optimizing conditions for resonance. \n> * **Exploring the Potential of Galfenol:** The study focuses on Fe72Ga28, a galfenol alloy known for its enhanced magnetostrictive properties. This highlights the potential of using this alloy in future magnetostrictive devices. \n> \n> **Overall, this research represents a significant step towards developing new technologies for controlling magnetization using electric fields, with applications in areas like data storage, spintronics, and magnetic sensors.**\n> \n> **Beyond the Provided Text:**\n> \n> It's important to note that this research is just one example of the ongoing advancements in magnetostriction and magnetization control.  The field is constantly evolving, and other advancements include:\n> \n> * **New Magnetostrictive Materials:** Researchers are exploring novel materials with enhanced magnetostrictive properties for improved device performance.\n> * **Advanced Simulation Techniques:** The development of more sophisticated simulation tools allows for deeper understanding and prediction of magnetization behavior in complex structures.\n> * **Integration with Existing Technologies:**  Efforts are underway to integrate magnetostrictive devices with existing technologies, such as microelectronics and photonics.\n> \n> **To stay up-to-date on the latest advancements in magnetostriction and magnetization, it's recommended to follow the research in reputable scientific journals and attend relevant conferences.** \n"
          },
          "metadata": {}
        }
      ]
    },
    {
      "cell_type": "markdown",
      "source": [
        "##This is no-rag answers for comparation"
      ],
      "metadata": {
        "id": "VbkKp9P10MAA"
      }
    },
    {
      "cell_type": "code",
      "source": [
        "response0 = model.generate_content(\"What is the magnetostriction, how does it perform in Fe-Ga alloy systems\")\n",
        "to_markdown(response0.text)"
      ],
      "metadata": {
        "colab": {
          "base_uri": "https://localhost:8080/",
          "height": 702
        },
        "id": "W6mHkrGH0XU5",
        "outputId": "8bc28d70-5c00-45be-e5ad-2e0b95eef8e7"
      },
      "execution_count": 25,
      "outputs": [
        {
          "output_type": "execute_result",
          "data": {
            "text/plain": [
              "<IPython.core.display.Markdown object>"
            ],
            "text/markdown": "> ## Magnetostriction: A Magnetic Material's Shape Shifter\n> \n> Magnetostriction is a fascinating phenomenon where a material changes its shape in response to a magnetic field. Imagine a metal bar that stretches slightly when exposed to a magnet. This change in dimensions, though often minuscule, can have significant implications in various applications.\n> \n> **How it works:**\n> \n> * **The Atomic Dance:** At the heart of magnetostriction lies the alignment of magnetic domains within the material. When a magnetic field is applied, these domains rotate to align themselves with the field, causing a slight distortion in the material's structure.\n> * **Positive vs. Negative:**  Magnetostriction can be positive (elongation) or negative (contraction), depending on the material and its crystal structure. \n> * **The Giant Leap:** Giant magnetostrictive materials exhibit a significantly larger change in dimensions compared to conventional materials.\n> \n> **Fe-Ga Alloys: A Promising Candidate**\n> \n> Fe-Ga alloys have emerged as a prominent contender for magnetostrictive applications due to their impressive performance:\n> \n> * **High Magnetostriction:** Fe-Ga alloys, particularly those with a high gallium content, exhibit remarkably high magnetostriction, exceeding even conventional Terfenol-D.\n> * **Tunable Properties:** By adjusting the composition of the alloy, the magnetostrictive properties can be tailored to specific needs.\n> * **Improved Mechanical Strength:** Compared to Terfenol-D, Fe-Ga alloys possess enhanced mechanical strength, making them more robust for practical applications.\n> \n> **Applications in Fe-Ga Systems:**\n> \n> * **Sensors:** Magnetostrictive sensors exploit the change in length to detect magnetic fields, pressure, and vibrations with high sensitivity.\n> * **Actuators:** Fe-Ga alloys can be used in actuators to generate precise movements, finding applications in robotics, aerospace, and medical devices.\n> * **Energy Harvesting:** The mechanical deformation caused by magnetostriction can be harnessed to generate electrical energy, opening doors to innovative energy harvesting solutions.\n> * **Ultrasonic Transducers:** The high frequency vibrations induced by magnetostriction can be used for ultrasonic imaging and non-destructive testing.\n> \n> **Challenges and Future Directions:**\n> \n> * **Cost and Production:** Fe-Ga alloys can be expensive to produce due to the complex processing involved.\n> * **Brittleness:** Despite their improved mechanical strength, Fe-Ga alloys can still be brittle, limiting their use in some applications.\n> * **Temperature Dependence:** The magnetostrictive properties of Fe-Ga alloys can be affected by temperature changes.\n> \n> Ongoing research aims to address these challenges and further enhance the properties of Fe-Ga alloys, paving the way for wider adoption of this promising magnetostrictive material in various technological fields. \n> \n> **In essence, Fe-Ga alloys are unlocking a new era of magnetostrictive applications, leveraging their impressive properties to reshape the future of sensing, actuation, and energy harvesting.**\n"
          },
          "metadata": {},
          "execution_count": 25
        }
      ]
    },
    {
      "cell_type": "code",
      "source": [
        "response0 = model.generate_content(\"Tell me the relation between magnetostriction and magnetization\")\n",
        "to_markdown(response0.text)"
      ],
      "metadata": {
        "colab": {
          "base_uri": "https://localhost:8080/",
          "height": 533
        },
        "id": "wpT5U7zsjxAV",
        "outputId": "2d67f28f-8d4e-4088-e030-da4a8e4e91b9"
      },
      "execution_count": 29,
      "outputs": [
        {
          "output_type": "execute_result",
          "data": {
            "text/plain": [
              "<IPython.core.display.Markdown object>"
            ],
            "text/markdown": "> Magnetostriction is a phenomenon where a material changes its shape in response to a change in its magnetization. It's essentially a coupling between the magnetic and mechanical properties of the material. Here's a breakdown of the relationship:\n> \n> **How it Works:**\n> \n> * **Magnetization:** When a material is magnetized, its internal magnetic domains align. These domains are tiny regions with a specific magnetic orientation. \n> * **Strain:** This alignment of magnetic domains can cause a strain or deformation in the material's structure. The strain can be either elongation (expansion) or contraction.\n> * **Magnetostrictive Effect:** This change in shape due to magnetization is called magnetostriction.\n> \n> **Key Points:**\n> \n> * **Direction:** The direction of the strain depends on the material and the direction of the applied magnetic field.\n> * **Magnitude:** The magnitude of the magnetostrictive effect (how much the material deforms) varies greatly depending on the material. Some materials exhibit significant magnetostriction, while others show almost none.\n> * **Reversibility:** The change in shape is typically reversible. When the magnetic field is removed, the material usually returns to its original shape.\n> \n> **Applications:**\n> \n> Magnetostriction is a crucial phenomenon with applications in various fields:\n> \n> * **Sensors:** Magnetostrictive materials are used in sensors to detect magnetic fields, pressure, and strain.\n> * **Actuators:** They are used in actuators, which convert magnetic energy into mechanical motion. These are used in various applications, like robotics, medical devices, and aerospace.\n> * **Sonic and Ultrasonic Devices:** Magnetostrictive materials can generate sound waves, making them useful in transducers for sonars, ultrasonic cleaners, and medical imaging.\n> * **Magnetic Recording Devices:**  Magnetostriction plays a role in magnetic recording technologies like hard drives and tapes.\n> \n> **In Summary:**\n> \n> Magnetostriction is a direct consequence of the interaction between the magnetization state of a material and its physical structure. It's a fundamental phenomenon that allows for the creation of various technologies exploiting the coupling of magnetic and mechanical properties. \n"
          },
          "metadata": {},
          "execution_count": 29
        }
      ]
    },
    {
      "cell_type": "code",
      "source": [
        "response0 = model.generate_content(\"What are the latest progresses about magnetostriciton and magnetization today\")\n",
        "to_markdown(response0.text)"
      ],
      "metadata": {
        "colab": {
          "base_uri": "https://localhost:8080/",
          "height": 713
        },
        "id": "7_H66I2b8dza",
        "outputId": "c9d6f675-11c9-492f-a884-0f3e581b1f62"
      },
      "execution_count": 33,
      "outputs": [
        {
          "output_type": "execute_result",
          "data": {
            "text/plain": [
              "<IPython.core.display.Markdown object>"
            ],
            "text/markdown": "> ##  Latest Progress in Magnetostriction and Magnetization:\n> \n> **Magnetostriction:**\n> \n> * **Enhanced Magnetostrictive Materials:**  \n>     * **Giant Magnetostrictive Materials (GMMs):** Research is ongoing to develop new alloys like Fe-Ga, Fe-Co-Ni, and Fe-Tb-Dy with increased magnetostriction coefficients and better temperature stability. This includes studying the effect of doping with rare earth elements, controlled microstructure, and nanostructuring.\n>     * **Magnetic Shape Memory Alloys (MSMAs):**  These alloys, like Ni-Mn-Ga, can exhibit large deformation in response to magnetic fields. Researchers are investigating their potential in actuators, sensors, and energy harvesting devices. \n> * **Applications:**\n>     * **Actuators:** Magnetostrictive actuators are finding applications in areas like precision positioning, vibration damping, and medical devices.\n>     * **Sensors:**  Magnetostriction is being used in sensors for detecting magnetic fields, strain, and pressure.\n>     * **Energy Harvesting:** Research is exploring the potential of using magnetostriction to convert mechanical energy into electrical energy.\n> * **Computational Modeling:** Advanced simulations are helping to predict and optimize magnetostrictive properties of materials, paving the way for designing new materials with tailored performance.\n> \n> **Magnetization:**\n> \n> * **Understanding Magnetic Anisotropy:** Researchers are using advanced imaging techniques and computational methods to better understand the fundamental mechanisms of magnetic anisotropy in materials. This knowledge is critical for designing materials with specific magnetic properties.\n> * **Magnetic Topological Materials:**  The discovery of new materials like topological insulators and Weyl semimetals with unique magnetic properties opens exciting opportunities for creating new spintronic devices.\n> * **Multiferroic Materials:**  These materials exhibit both magnetic and electric ordering, leading to new phenomena like magnetoelectric coupling. Research is focusing on understanding and controlling these properties for use in memory devices and sensors.\n> * **Data Storage:**  Researchers are exploring the use of magnetic materials for next-generation data storage technologies like magnetic random access memory (MRAM) and magnetic recording.\n> \n> **Key Trends and Future Directions:**\n> \n> * **Multifunctional Materials:** The focus is shifting towards developing materials with combined magnetic, mechanical, and electrical properties, enabling applications in smart materials and energy storage.\n> * **Nanomagnetism:** The study of magnetism at the nanoscale is revealing new phenomena and leading to the development of smaller and more efficient magnetic devices.\n> * **Computational Modeling:**  Advanced simulations and computational methods are playing a crucial role in designing new materials and understanding the complex behavior of magnetic systems.\n> \n> **Note:** This is a brief overview, and ongoing research is constantly uncovering new advancements in magnetostriction and magnetization. You can find specific research papers and news articles on these topics through online databases like Google Scholar and scientific journals. \n"
          },
          "metadata": {},
          "execution_count": 33
        }
      ]
    },
    {
      "cell_type": "code",
      "source": [],
      "metadata": {
        "id": "l39cIE-N8nFJ"
      },
      "execution_count": null,
      "outputs": []
    }
  ]
}